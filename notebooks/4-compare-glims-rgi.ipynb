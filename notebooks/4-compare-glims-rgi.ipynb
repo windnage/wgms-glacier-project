{
 "cells": [
  {
   "cell_type": "markdown",
   "metadata": {},
   "source": [
    "# Compare GLIMS and RGI Data\n",
    "Author: Ann Windnagel\n",
    "\n",
    "Date: 3/10/19\n",
    "\n",
    "This notebook does a comparison of GLIMS and RGI data to determine the 10 largest glaciers in each of the 19 world glacier regions."
   ]
  },
  {
   "cell_type": "markdown",
   "metadata": {},
   "source": [
    "## Import packages"
   ]
  },
  {
   "cell_type": "code",
   "execution_count": 1,
   "metadata": {},
   "outputs": [],
   "source": [
    "import os\n",
    "import os.path as op\n",
    "import sys\n",
    "import pandas as pd\n",
    "import matplotlib.pyplot as plt\n",
    "import geopandas as gpd\n",
    "\n",
    "# set working dir\n",
    "HOME = op.join(op.expanduser(\"~\"))\n",
    "os.chdir(os.path.join(HOME, \"git/wgms-glacier-project\"))\n",
    "\n",
    "# Set up path to load scripts\n",
    "module_path = os.path.abspath(os.path.join('..'))\n",
    "if module_path not in sys.path:\n",
    "    sys.path.append(module_path)\n",
    "    \n",
    "import scripts.wgms_scripts as ws"
   ]
  },
  {
   "cell_type": "markdown",
   "metadata": {},
   "source": [
    "## Function Definition"
   ]
  },
  {
   "cell_type": "code",
   "execution_count": 2,
   "metadata": {},
   "outputs": [],
   "source": [
    "def ten_largest(data, region_no, source):\n",
    "    '''\n",
    "    Finds the 10 largest glaciers in a region and saves them to a csv file\n",
    "\n",
    "    Parameters\n",
    "    ----------\n",
    "    data : Geodataframe containing all glacier polygons for a region\n",
    "    region_no : Integer with the region number. Accepted values are 1 through 19.\n",
    "    source :  String with the source of the glacier outlines. Accepted values are GLIMS or RGI\n",
    "\n",
    "    Returns\n",
    "    ----------\n",
    "    nothing: Saves a csv file of the 10 largest glaciers for a region\n",
    "    '''\n",
    "    \n",
    "    if source == 'GLIMS':\n",
    "        # Find 10 largest\n",
    "        ten_largest_df = data[['glac_id', 'db_area', 'glac_name', 'src_date']].nlargest(10, 'db_area')\n",
    "        \n",
    "        # Save to csv file if it doesn't already exist\n",
    "        glims_largest_csv_fp = \"data/glims/processed/largest/glims_region_\" + str(region_no) + \"_largest.csv\"\n",
    "        if os.path.exists(glims_largest_csv_fp) == False:\n",
    "            print(region_no)\n",
    "            ten_largest_df.to_csv(glims_largest_csv_fp, index=False)\n",
    "        \n",
    "    elif source == 'RGI':\n",
    "        # Find 10 largest\n",
    "        ten_largest_df = data[['GLIMSId', 'Area', 'Name', 'BgnDate']].nlargest(10, 'Area')\n",
    "        \n",
    "        # Save to csv file if it doesn't already exist\n",
    "        rgi_largest_csv_fp = \"data/rgi/processed/largest/rgi_region_\" + str(region_no) + \"_largest.csv\"\n",
    "        if os.path.exists(rgi_largest_csv_fp) == False:\n",
    "            print(region_no)\n",
    "            ten_largest_df.to_csv(rgi_largest_csv_fp, index=False)\n",
    "        \n",
    "    else:\n",
    "        print(\"Incorrect source input\")\n",
    "    \n",
    "    return"
   ]
  },
  {
   "cell_type": "markdown",
   "metadata": {},
   "source": [
    "## Region 1"
   ]
  },
  {
   "cell_type": "markdown",
   "metadata": {},
   "source": [
    "### GLIMS GLIMS GLIMS GLIMS\n",
    "----------------------------------------------"
   ]
  },
  {
   "cell_type": "code",
   "execution_count": 3,
   "metadata": {},
   "outputs": [],
   "source": [
    "# Use the ten_largest function to create the 19 csv files for GLIMS\n",
    "region_no = [1,2,3,4,5,6,7,8,9,10,11,12,13,14,15,16,17,18,19]\n",
    "for region in region_no:\n",
    "    glims_region_fp = \"data/glims/processed/cleaned/glims_region_\" + str(region) + \"_cleaned.shp\"\n",
    "    glims_polygons = gpd.read_file(glims_region_fp)\n",
    "    ten_largest(glims_polygons, region, \"GLIMS\")"
   ]
  },
  {
   "cell_type": "markdown",
   "metadata": {},
   "source": [
    "### RGI RGI RGI RGI\n",
    "------------------------------------------------"
   ]
  },
  {
   "cell_type": "code",
   "execution_count": 4,
   "metadata": {},
   "outputs": [
    {
     "name": "stdout",
     "output_type": "stream",
     "text": [
      "01_rgi60_Alaska/01_rgi60_Alaska.shp\n",
      "02_rgi60_WesternCanadaUS/02_rgi60_WesternCanadaUS.shp\n",
      "03_rgi60_ArcticCanadaNorth/03_rgi60_ArcticCanadaNorth.shp\n",
      "04_rgi60_ArcticCanadaSouth/04_rgi60_ArcticCanadaSouth.shp\n",
      "05_rgi60_GreenlandPeriphery/05_rgi60_GreenlandPeriphery.shp\n",
      "06_rgi60_Iceland/06_rgi60_Iceland.shp\n",
      "07_rgi60_Svalbard/07_rgi60_Svalbard.shp\n",
      "08_rgi60_Scandinavia/08_rgi60_Scandinavia.shp\n",
      "09_rgi60_RussianArctic/09_rgi60_RussianArctic.shp\n",
      "10_rgi60_NorthAsia/10_rgi60_NorthAsia.shp\n",
      "11_rgi60_CentralEurope/11_rgi60_CentralEurope.shp\n",
      "12_rgi60_CaucasusMiddleEast/12_rgi60_CaucasusMiddleEast.shp\n",
      "13_rgi60_CentralAsia/13_rgi60_CentralAsia.shp\n",
      "14_rgi60_SouthAsiaWest/14_rgi60_SouthAsiaWest.shp\n",
      "15_rgi60_SouthAsiaEast/15_rgi60_SouthAsiaEast.shp\n",
      "16_rgi60_LowLatitudes/16_rgi60_LowLatitudes.shp\n",
      "17_rgi60_SouthernAndes/17_rgi60_SouthernAndes.shp\n",
      "18_rgi60_NewZealand/18_rgi60_NewZealand.shp\n",
      "18\n",
      "19_rgi60_AntarcticSubantarctic/19_rgi60_AntarcticSubantarctic.shp\n",
      "19\n"
     ]
    }
   ],
   "source": [
    "# Use the ten_largest function to create the 19 csv files for RGI\n",
    "region_no = [1,2,3,4,5,6,7,8,9,10,11,12,13,14,15,16,17,18,19]\n",
    "for region in region_no:\n",
    "    #rgi_region_fp = \"data/rgi/processed/largest/rgi_region_\" + str(region) + \"_cleaned.shp\"\n",
    "    rgi_polygons = ws.open_rgi_region(region)\n",
    "    ten_largest(rgi_polygons, region, \"RGI\")"
   ]
  },
  {
   "cell_type": "markdown",
   "metadata": {},
   "source": [
    "### Extra Code"
   ]
  },
  {
   "cell_type": "markdown",
   "metadata": {},
   "source": [
    "### GLIMS"
   ]
  },
  {
   "cell_type": "code",
   "execution_count": null,
   "metadata": {},
   "outputs": [],
   "source": [
    "# Open GLIMS region 1 - Alaska\n",
    "glims_region_1_fp = \"data/glims/processed/cleaned/glims_region_1_cleaned.shp\"\n",
    "glims_polygons_r1 = gpd.read_file(glims_region_1_fp)\n",
    "glims_polygons_r1.head()"
   ]
  },
  {
   "cell_type": "code",
   "execution_count": null,
   "metadata": {},
   "outputs": [],
   "source": [
    "# Get ten largest\n",
    "glims_ten_max = glims_polygons_r1[['glac_id', 'db_area', 'glac_name', 'src_date']].nlargest(10, 'db_area')\n",
    "glims_ten_max"
   ]
  },
  {
   "cell_type": "code",
   "execution_count": null,
   "metadata": {},
   "outputs": [],
   "source": [
    "# test ten_largest for GLIMS\n",
    "ten_largest(glims_polygons_r1, 1, 'GLIMS')"
   ]
  },
  {
   "cell_type": "code",
   "execution_count": null,
   "metadata": {},
   "outputs": [],
   "source": [
    "# GLIMS dataframe shape\n",
    "glims_polygons_r1.shape"
   ]
  },
  {
   "cell_type": "code",
   "execution_count": null,
   "metadata": {},
   "outputs": [],
   "source": [
    "# Find the maximum db_area for GLIMS\n",
    "max_area_glims = glims_polygons_r1['db_area'].max()\n",
    "max_area_glims"
   ]
  },
  {
   "cell_type": "code",
   "execution_count": null,
   "metadata": {},
   "outputs": [],
   "source": [
    "# Get index of the record with the maximum db_area for GLIMS\n",
    "glims_id_max = glims_polygons_r1['db_area'].idxmax()"
   ]
  },
  {
   "cell_type": "code",
   "execution_count": null,
   "metadata": {},
   "outputs": [],
   "source": [
    "# View the record with the max for GLIMS\n",
    "glims_polygons_r1.loc[glims_polygons_r1['db_area'].idxmax()]"
   ]
  },
  {
   "cell_type": "code",
   "execution_count": null,
   "metadata": {},
   "outputs": [],
   "source": [
    "# Get the max GLIMS in a dataframe\n",
    "glims_max = glims_polygons_r1.iloc[63:64]\n",
    "glims_max"
   ]
  },
  {
   "cell_type": "markdown",
   "metadata": {},
   "source": [
    "### RGI"
   ]
  },
  {
   "cell_type": "code",
   "execution_count": null,
   "metadata": {},
   "outputs": [],
   "source": [
    "# Open RGI region 01 - Alaska\n",
    "rgi_region01_polygons = ws.open_rgi_region(1)\n",
    "rgi_region01_polygons.head()"
   ]
  },
  {
   "cell_type": "code",
   "execution_count": null,
   "metadata": {},
   "outputs": [],
   "source": [
    "# List ten biggest glaciers from RGI in region 1\n",
    "rgi_ten_max = rgi_region01_polygons[['GLIMSId', 'Area', 'Name', 'BgnDate']].nlargest(10, 'Area')\n",
    "rgi_ten_max"
   ]
  },
  {
   "cell_type": "code",
   "execution_count": null,
   "metadata": {},
   "outputs": [],
   "source": [
    "# test ten_largest for RGI\n",
    "ten_largest(rgi_region01_polygons, 1, 'RGI')"
   ]
  },
  {
   "cell_type": "code",
   "execution_count": null,
   "metadata": {},
   "outputs": [],
   "source": [
    "# RGI dataframe shape\n",
    "rgi_region01_polygons.shape"
   ]
  },
  {
   "cell_type": "code",
   "execution_count": null,
   "metadata": {},
   "outputs": [],
   "source": [
    "# Get the maximum area for RGI\n",
    "max_area_rgi = rgi_region01_polygons['Area'].max()\n",
    "max_area_rgi"
   ]
  },
  {
   "cell_type": "code",
   "execution_count": null,
   "metadata": {},
   "outputs": [],
   "source": [
    "# Get record with the maximum area for RGI\n",
    "rgi_region01_polygons['Area'].idxmax()"
   ]
  },
  {
   "cell_type": "code",
   "execution_count": null,
   "metadata": {},
   "outputs": [],
   "source": [
    "# View the record with the max for RGI\n",
    "rgi_region01_polygons.loc[rgi_region01_polygons['Area'].idxmax()]"
   ]
  },
  {
   "cell_type": "code",
   "execution_count": null,
   "metadata": {},
   "outputs": [],
   "source": [
    "# Get the max RGI in a dataframe\n",
    "rgi_max = rgi_region01_polygons.iloc[13691:13692]\n",
    "rgi_max"
   ]
  }
 ],
 "metadata": {
  "kernelspec": {
   "display_name": "Python [conda env:wgms-project-python] *",
   "language": "python",
   "name": "conda-env-wgms-project-python-py"
  },
  "language_info": {
   "codemirror_mode": {
    "name": "ipython",
    "version": 3
   },
   "file_extension": ".py",
   "mimetype": "text/x-python",
   "name": "python",
   "nbconvert_exporter": "python",
   "pygments_lexer": "ipython3",
   "version": "3.6.7"
  }
 },
 "nbformat": 4,
 "nbformat_minor": 2
}

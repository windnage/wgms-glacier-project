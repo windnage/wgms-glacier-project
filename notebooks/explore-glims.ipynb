{
 "cells": [
  {
   "cell_type": "markdown",
   "metadata": {},
   "source": [
    "# Explore GLIMS data\n",
    "\n",
    "Author: Ann Windnagel\n",
    "\n",
    "Date: 02/19/2019\n",
    "\n",
    "This notebook opens up GLIMS shapefiles and explores the data. See http://www.glims.org/ for information about GLIMS and to download the data."
   ]
  },
  {
   "cell_type": "markdown",
   "metadata": {},
   "source": [
    "### Import Python Packages"
   ]
  },
  {
   "cell_type": "code",
   "execution_count": 1,
   "metadata": {},
   "outputs": [],
   "source": [
    "import os\n",
    "import pandas as pd\n",
    "import matplotlib.pyplot as plt\n",
    "import geopandas as gpd\n",
    "\n",
    "import earthpy as et\n",
    "\n",
    "# set working dir\n",
    "os.chdir(os.path.join(et.io.HOME, \"git/wgms-glacier-project\"))"
   ]
  },
  {
   "cell_type": "code",
   "execution_count": 2,
   "metadata": {},
   "outputs": [],
   "source": [
    "# Open GLIMS polygons using geopandas\n",
    "glims_file_path = \"data/glims/raw/glims_download_07040/glims_polygons.shp\"\n",
    "glims_polygons = gpd.read_file(glims_file_path)"
   ]
  },
  {
   "cell_type": "code",
   "execution_count": 3,
   "metadata": {},
   "outputs": [
    {
     "data": {
      "text/html": [
       "<div>\n",
       "<style scoped>\n",
       "    .dataframe tbody tr th:only-of-type {\n",
       "        vertical-align: middle;\n",
       "    }\n",
       "\n",
       "    .dataframe tbody tr th {\n",
       "        vertical-align: top;\n",
       "    }\n",
       "\n",
       "    .dataframe thead th {\n",
       "        text-align: right;\n",
       "    }\n",
       "</style>\n",
       "<table border=\"1\" class=\"dataframe\">\n",
       "  <thead>\n",
       "    <tr style=\"text-align: right;\">\n",
       "      <th></th>\n",
       "      <th>line_type</th>\n",
       "      <th>anlys_id</th>\n",
       "      <th>glac_id</th>\n",
       "      <th>anlys_time</th>\n",
       "      <th>area</th>\n",
       "      <th>db_area</th>\n",
       "      <th>width</th>\n",
       "      <th>length</th>\n",
       "      <th>primeclass</th>\n",
       "      <th>min_elev</th>\n",
       "      <th>...</th>\n",
       "      <th>subm_id</th>\n",
       "      <th>release_dt</th>\n",
       "      <th>proc_desc</th>\n",
       "      <th>rc_id</th>\n",
       "      <th>geog_area</th>\n",
       "      <th>chief_affl</th>\n",
       "      <th>parent_id</th>\n",
       "      <th>submitters</th>\n",
       "      <th>analysts</th>\n",
       "      <th>geometry</th>\n",
       "    </tr>\n",
       "  </thead>\n",
       "  <tbody>\n",
       "    <tr>\n",
       "      <th>0</th>\n",
       "      <td>glac_bound</td>\n",
       "      <td>101215.0</td>\n",
       "      <td>G286929E46788S</td>\n",
       "      <td>2012-04-20T00:00:00</td>\n",
       "      <td>12.4259</td>\n",
       "      <td>12.4292</td>\n",
       "      <td>0.0</td>\n",
       "      <td>4786.66</td>\n",
       "      <td>0.0</td>\n",
       "      <td>0.0</td>\n",
       "      <td>...</td>\n",
       "      <td>559.0</td>\n",
       "      <td>2012-08-24T08:41:13</td>\n",
       "      <td>Analysis of pre-processed Landsat images; 2.  ...</td>\n",
       "      <td>565.0</td>\n",
       "      <td>Antarctic Peninsula</td>\n",
       "      <td>Aberystwyth University</td>\n",
       "      <td>None</td>\n",
       "      <td>Davies, Bethan</td>\n",
       "      <td>Davies, Bethan</td>\n",
       "      <td>POLYGON Z ((-73.062957 -46.755129 0, -73.06091...</td>\n",
       "    </tr>\n",
       "    <tr>\n",
       "      <th>1</th>\n",
       "      <td>intrnl_rock</td>\n",
       "      <td>101146.0</td>\n",
       "      <td>G286719E46755S</td>\n",
       "      <td>2012-04-20T00:00:00</td>\n",
       "      <td>80.2842</td>\n",
       "      <td>80.3127</td>\n",
       "      <td>0.0</td>\n",
       "      <td>10225.60</td>\n",
       "      <td>0.0</td>\n",
       "      <td>0.0</td>\n",
       "      <td>...</td>\n",
       "      <td>559.0</td>\n",
       "      <td>2012-08-24T08:41:13</td>\n",
       "      <td>Analysis of pre-processed Landsat images; 2.  ...</td>\n",
       "      <td>565.0</td>\n",
       "      <td>Antarctic Peninsula</td>\n",
       "      <td>Aberystwyth University</td>\n",
       "      <td>None</td>\n",
       "      <td>Davies, Bethan</td>\n",
       "      <td>Davies, Bethan</td>\n",
       "      <td>POLYGON Z ((-73.307553 -46.80279 0, -73.307668...</td>\n",
       "    </tr>\n",
       "    <tr>\n",
       "      <th>2</th>\n",
       "      <td>intrnl_rock</td>\n",
       "      <td>101146.0</td>\n",
       "      <td>G286719E46755S</td>\n",
       "      <td>2012-04-20T00:00:00</td>\n",
       "      <td>80.2842</td>\n",
       "      <td>80.3127</td>\n",
       "      <td>0.0</td>\n",
       "      <td>10225.60</td>\n",
       "      <td>0.0</td>\n",
       "      <td>0.0</td>\n",
       "      <td>...</td>\n",
       "      <td>559.0</td>\n",
       "      <td>2012-08-24T08:41:13</td>\n",
       "      <td>Analysis of pre-processed Landsat images; 2.  ...</td>\n",
       "      <td>565.0</td>\n",
       "      <td>Antarctic Peninsula</td>\n",
       "      <td>Aberystwyth University</td>\n",
       "      <td>None</td>\n",
       "      <td>Davies, Bethan</td>\n",
       "      <td>Davies, Bethan</td>\n",
       "      <td>POLYGON Z ((-73.24490900000001 -46.739074 0, -...</td>\n",
       "    </tr>\n",
       "    <tr>\n",
       "      <th>3</th>\n",
       "      <td>intrnl_rock</td>\n",
       "      <td>101146.0</td>\n",
       "      <td>G286719E46755S</td>\n",
       "      <td>2012-04-20T00:00:00</td>\n",
       "      <td>80.2842</td>\n",
       "      <td>80.3127</td>\n",
       "      <td>0.0</td>\n",
       "      <td>10225.60</td>\n",
       "      <td>0.0</td>\n",
       "      <td>0.0</td>\n",
       "      <td>...</td>\n",
       "      <td>559.0</td>\n",
       "      <td>2012-08-24T08:41:13</td>\n",
       "      <td>Analysis of pre-processed Landsat images; 2.  ...</td>\n",
       "      <td>565.0</td>\n",
       "      <td>Antarctic Peninsula</td>\n",
       "      <td>Aberystwyth University</td>\n",
       "      <td>None</td>\n",
       "      <td>Davies, Bethan</td>\n",
       "      <td>Davies, Bethan</td>\n",
       "      <td>POLYGON Z ((-73.250113 -46.739667 0, -73.25048...</td>\n",
       "    </tr>\n",
       "    <tr>\n",
       "      <th>4</th>\n",
       "      <td>intrnl_rock</td>\n",
       "      <td>101146.0</td>\n",
       "      <td>G286719E46755S</td>\n",
       "      <td>2012-04-20T00:00:00</td>\n",
       "      <td>80.2842</td>\n",
       "      <td>80.3127</td>\n",
       "      <td>0.0</td>\n",
       "      <td>10225.60</td>\n",
       "      <td>0.0</td>\n",
       "      <td>0.0</td>\n",
       "      <td>...</td>\n",
       "      <td>559.0</td>\n",
       "      <td>2012-08-24T08:41:13</td>\n",
       "      <td>Analysis of pre-processed Landsat images; 2.  ...</td>\n",
       "      <td>565.0</td>\n",
       "      <td>Antarctic Peninsula</td>\n",
       "      <td>Aberystwyth University</td>\n",
       "      <td>None</td>\n",
       "      <td>Davies, Bethan</td>\n",
       "      <td>Davies, Bethan</td>\n",
       "      <td>POLYGON Z ((-73.24113 -46.740555 0, -73.240757...</td>\n",
       "    </tr>\n",
       "  </tbody>\n",
       "</table>\n",
       "<p>5 rows × 28 columns</p>\n",
       "</div>"
      ],
      "text/plain": [
       "     line_type  anlys_id         glac_id           anlys_time     area  \\\n",
       "0   glac_bound  101215.0  G286929E46788S  2012-04-20T00:00:00  12.4259   \n",
       "1  intrnl_rock  101146.0  G286719E46755S  2012-04-20T00:00:00  80.2842   \n",
       "2  intrnl_rock  101146.0  G286719E46755S  2012-04-20T00:00:00  80.2842   \n",
       "3  intrnl_rock  101146.0  G286719E46755S  2012-04-20T00:00:00  80.2842   \n",
       "4  intrnl_rock  101146.0  G286719E46755S  2012-04-20T00:00:00  80.2842   \n",
       "\n",
       "   db_area  width    length  primeclass  min_elev  ...  subm_id  \\\n",
       "0  12.4292    0.0   4786.66         0.0       0.0  ...    559.0   \n",
       "1  80.3127    0.0  10225.60         0.0       0.0  ...    559.0   \n",
       "2  80.3127    0.0  10225.60         0.0       0.0  ...    559.0   \n",
       "3  80.3127    0.0  10225.60         0.0       0.0  ...    559.0   \n",
       "4  80.3127    0.0  10225.60         0.0       0.0  ...    559.0   \n",
       "\n",
       "            release_dt                                          proc_desc  \\\n",
       "0  2012-08-24T08:41:13  Analysis of pre-processed Landsat images; 2.  ...   \n",
       "1  2012-08-24T08:41:13  Analysis of pre-processed Landsat images; 2.  ...   \n",
       "2  2012-08-24T08:41:13  Analysis of pre-processed Landsat images; 2.  ...   \n",
       "3  2012-08-24T08:41:13  Analysis of pre-processed Landsat images; 2.  ...   \n",
       "4  2012-08-24T08:41:13  Analysis of pre-processed Landsat images; 2.  ...   \n",
       "\n",
       "   rc_id            geog_area              chief_affl parent_id  \\\n",
       "0  565.0  Antarctic Peninsula  Aberystwyth University      None   \n",
       "1  565.0  Antarctic Peninsula  Aberystwyth University      None   \n",
       "2  565.0  Antarctic Peninsula  Aberystwyth University      None   \n",
       "3  565.0  Antarctic Peninsula  Aberystwyth University      None   \n",
       "4  565.0  Antarctic Peninsula  Aberystwyth University      None   \n",
       "\n",
       "       submitters        analysts  \\\n",
       "0  Davies, Bethan  Davies, Bethan   \n",
       "1  Davies, Bethan  Davies, Bethan   \n",
       "2  Davies, Bethan  Davies, Bethan   \n",
       "3  Davies, Bethan  Davies, Bethan   \n",
       "4  Davies, Bethan  Davies, Bethan   \n",
       "\n",
       "                                            geometry  \n",
       "0  POLYGON Z ((-73.062957 -46.755129 0, -73.06091...  \n",
       "1  POLYGON Z ((-73.307553 -46.80279 0, -73.307668...  \n",
       "2  POLYGON Z ((-73.24490900000001 -46.739074 0, -...  \n",
       "3  POLYGON Z ((-73.250113 -46.739667 0, -73.25048...  \n",
       "4  POLYGON Z ((-73.24113 -46.740555 0, -73.240757...  \n",
       "\n",
       "[5 rows x 28 columns]"
      ]
     },
     "execution_count": 3,
     "metadata": {},
     "output_type": "execute_result"
    }
   ],
   "source": [
    "# Quick look at the data\n",
    "glims_polygons.head()"
   ]
  },
  {
   "cell_type": "code",
   "execution_count": 4,
   "metadata": {},
   "outputs": [
    {
     "name": "stdout",
     "output_type": "stream",
     "text": [
      "{'init': 'epsg:4326'}\n"
     ]
    }
   ],
   "source": [
    "# Check CRS\n",
    "print(glims_polygons.crs)"
   ]
  },
  {
   "cell_type": "code",
   "execution_count": 5,
   "metadata": {},
   "outputs": [
    {
     "name": "stdout",
     "output_type": "stream",
     "text": [
      "Number of columns:\n",
      "28\n",
      "Column names:\n",
      "['line_type', 'anlys_id', 'glac_id', 'anlys_time', 'area', 'db_area', 'width', 'length', 'primeclass', 'min_elev', 'mean_elev', 'max_elev', 'src_date', 'rec_status', 'glac_name', 'wgms_id', 'local_id', 'glac_stat', 'subm_id', 'release_dt', 'proc_desc', 'rc_id', 'geog_area', 'chief_affl', 'parent_id', 'submitters', 'analysts', 'geometry']\n"
     ]
    }
   ],
   "source": [
    "# Explore column headings\n",
    "print(\"Number of columns:\")\n",
    "print(len(glims_polygons.columns))\n",
    "print(\"Column names:\")\n",
    "print(list(glims_polygons))"
   ]
  },
  {
   "cell_type": "markdown",
   "metadata": {},
   "source": [
    "### Description of each GLIMS column from http://www.glims.org/MapsAndDocs/downloaded_field_desc.html\n",
    "Bolded items are actually in the dataframe in the cell above.\n",
    "\n",
    "1. **LINE_TYPE:**\tCategory of line segment. Possible values include: \"glac_bound\" (glacier boundary), \"intrnl_rock\" (internal rock outcrop, or nunatak), \"snowline\", \"centerline\" (center flowline of the glacier).\n",
    "1. **ANLYS_ID:**\tThe ID assigned within GLIMS for a particular outline of a glacier at a particular time.\n",
    "1. **GLAC_ID:**\tThe GLIMS glacier ID\n",
    "1. **ANLYS_TIME:**\tRepresentative time the analysis was carried out.\n",
    "1. **AREA:**\tMap-plane area of the glacier, as provided by the analyst, km2.\n",
    "1. **DB_AREA:**\tMap-plane area of the glacier, as calculated within the GLIMS Glacier Database, km2.\n",
    "1. **WIDTH:**\tRepresentative width of the glacier, meters.\n",
    "1. **LENGTH:**\tRepresentative length of the glacier, meters.\n",
    "1. **PRIMECLASS:**\tPrimary WGMS classification of the glacier.\n",
    "1. **MIN_ELEV:**\tElevation of the lowest part of the glacier, in meters above sea level.\n",
    "1. **MEAN_ELEV:**\tMean elevation of the glacier, in meters above sea level.\n",
    "1. **MAX_ELEV:**\tElevation of the highest part of the glacier, in meters above sea level.\n",
    "1. **SRC_DATE:**\tThe as-of date for the outline. Usually the acquisition date of the image.\n",
    "1. **REC_STATUS:**\tRecord status (should always be \"okay\" for downloaded data).\n",
    "1. **GLAC_NAME:**\tGlacier name.\n",
    "1. **WGMS_ID:**\tGlacier ID assigned by the World Glacier Monitoring Service.\n",
    "1. **LOCAL_ID:**\tAn ID assigned by the GLIMS Regional Center or institution that supplied the data.\n",
    "1. **SUBM_ID:**\tID assigned by GLIMS to the entire data submission.\n",
    "1. RELEASE_OK\tDate after which the data is released.\n",
    "1. **PROC_DESC:**\tDescription of the processing done to create the glacier outlines.\n",
    "1. SUBMIT_SUR\tSurname of the person submitting the data.\n",
    "1. SUBMIT_GIV\tGiven names of the person submitting the data.\n",
    "1. SUBMIT_AFF\tAffiliation of the person submitting the data.\n",
    "1. SUBMIT_URL\tURL for the submitting institution.\n",
    "1. SUBMIT_CCO\tCountry code for the submitting institution.\n",
    "1. ANLST_SURN\tSurname of the analyst.\n",
    "1. ANLST_GIVN\tGiven names of the analyst.\n",
    "1. ANLST_AFFL\tAffiliation of the analyst.\n",
    "1. ANLST_URL\tURL related to the analyst.\n",
    "1. ANLST_CCOD\tCountry code for the analyst.\n",
    "1. CHIEF_SURN\tSurname of the chief of the Regional Center.\n",
    "1. CHIEF_GIVN\tGiven names of the chief of the Regional Center.\n",
    "1. **CHIEF_AFFL:**\tAffiliation of the chief of the Regional Center.\n",
    "1. RC_URL\tURL for the Regional Center.\n",
    "1. RC_CCODE\tCountry code for the Regional Center.\n",
    "1. **RC_ID:**\tGLIMS ID for the Regional Center.\n",
    "1. **GEOG_AREA:**\tGeographic region covered by the Regional Center.\n",
    "\n",
    "These columns are in the dataframe but not described in the list above:\n",
    "1. glac_stat\n",
    "1. release_dt\n",
    "1. parent_id\n",
    "1. submitters\n",
    "1. analysts\n",
    "1. geometry: This is a pandas dataframe specific column"
   ]
  },
  {
   "cell_type": "code",
   "execution_count": 6,
   "metadata": {},
   "outputs": [
    {
     "data": {
      "text/plain": [
       "(691372, 28)"
      ]
     },
     "execution_count": 6,
     "metadata": {},
     "output_type": "execute_result"
    }
   ],
   "source": [
    "# number of rows x columns\n",
    "glims_polygons.shape"
   ]
  },
  {
   "cell_type": "code",
   "execution_count": 7,
   "metadata": {},
   "outputs": [
    {
     "data": {
      "text/plain": [
       "105616000.0"
      ]
     },
     "execution_count": 7,
     "metadata": {},
     "output_type": "execute_result"
    }
   ],
   "source": [
    "# List the size of the biggest glacier by area in the GLIMS database\n",
    "glims_polygons['area'].max()"
   ]
  },
  {
   "cell_type": "code",
   "execution_count": 8,
   "metadata": {},
   "outputs": [
    {
     "data": {
      "text/plain": [
       "line_type                                           intrnl_rock\n",
       "anlys_id                                                 336665\n",
       "glac_id                                          G008032E46504N\n",
       "anlys_time                                  2000-09-01T00:00:00\n",
       "area                                                1.05616e+08\n",
       "db_area                                                 105.608\n",
       "width                                                         0\n",
       "length                                                        0\n",
       "primeclass                                                    0\n",
       "min_elev                                                      0\n",
       "mean_elev                                                     0\n",
       "max_elev                                                      0\n",
       "src_date                                    1850-09-01T00:00:00\n",
       "rec_status                                                 okay\n",
       "glac_name                             GROSSER ALETSCH GLETSCHER\n",
       "wgms_id                                                    None\n",
       "local_id                                                 B36/26\n",
       "glac_stat                                                exists\n",
       "subm_id                                                     594\n",
       "release_dt                                  2016-02-01T09:00:00\n",
       "proc_desc     Field and aerial photo reconstruction + Siegfr...\n",
       "rc_id                                                        30\n",
       "geog_area                                            Swiss Alps\n",
       "chief_affl                          University of Zurich-Irchel\n",
       "parent_id                                                  None\n",
       "submitters                                          Paul, Frank\n",
       "analysts                                          Wipf, Andreas\n",
       "geometry      POLYGON Z ((8.019309 46.54727 0, 8.01916699999...\n",
       "Name: 450678, dtype: object"
      ]
     },
     "execution_count": 8,
     "metadata": {},
     "output_type": "execute_result"
    }
   ],
   "source": [
    "# Full row of biggest glacier by area\n",
    "glims_polygons.loc[glims_polygons['area'].idxmax()]"
   ]
  },
  {
   "cell_type": "code",
   "execution_count": 9,
   "metadata": {},
   "outputs": [
    {
     "data": {
      "text/plain": [
       "count    691372.000000\n",
       "mean          0.000458\n",
       "std           0.011180\n",
       "min           0.000000\n",
       "25%           0.000001\n",
       "50%           0.000008\n",
       "75%           0.000043\n",
       "max           4.009078\n",
       "dtype: object"
      ]
     },
     "execution_count": 9,
     "metadata": {},
     "output_type": "execute_result"
    }
   ],
   "source": [
    "# Get stats about area. note that apply function supresses scientific notation\n",
    "# I don't think these stats are correct... Probably due to projection differences\n",
    "glims_polygons.area.describe().apply(lambda x: format(x, 'f'))"
   ]
  },
  {
   "cell_type": "code",
   "execution_count": 10,
   "metadata": {},
   "outputs": [
    {
     "data": {
      "text/plain": [
       "5510     Munday Glacier\n",
       "5511     Munday Glacier\n",
       "5512     Munday Glacier\n",
       "20874     Mural Glacier\n",
       "20875     Mural Glacier\n",
       "Name: glac_name, dtype: object"
      ]
     },
     "execution_count": 10,
     "metadata": {},
     "output_type": "execute_result"
    }
   ],
   "source": [
    "# look for muir glacier\n",
    "# This line finds all Mu* glaciers so I can see how Muir is spelled\n",
    "ans = glims_polygons.loc[(glims_polygons['glac_name'] >= 'Mt') & (glims_polygons['glac_name'] < 'Mv')]\n",
    "ans.glac_name.head()"
   ]
  },
  {
   "cell_type": "code",
   "execution_count": 11,
   "metadata": {},
   "outputs": [
    {
     "data": {
      "text/html": [
       "<div>\n",
       "<style scoped>\n",
       "    .dataframe tbody tr th:only-of-type {\n",
       "        vertical-align: middle;\n",
       "    }\n",
       "\n",
       "    .dataframe tbody tr th {\n",
       "        vertical-align: top;\n",
       "    }\n",
       "\n",
       "    .dataframe thead th {\n",
       "        text-align: right;\n",
       "    }\n",
       "</style>\n",
       "<table border=\"1\" class=\"dataframe\">\n",
       "  <thead>\n",
       "    <tr style=\"text-align: right;\">\n",
       "      <th></th>\n",
       "      <th>glac_name</th>\n",
       "      <th>glac_id</th>\n",
       "      <th>src_date</th>\n",
       "      <th>length</th>\n",
       "      <th>width</th>\n",
       "      <th>area</th>\n",
       "      <th>db_area</th>\n",
       "    </tr>\n",
       "  </thead>\n",
       "  <tbody>\n",
       "    <tr>\n",
       "      <th>49544</th>\n",
       "      <td>Muir Glacier</td>\n",
       "      <td>G223569E59190N</td>\n",
       "      <td>2010-09-15T00:00:00</td>\n",
       "      <td>0.0</td>\n",
       "      <td>0.0</td>\n",
       "      <td>80.284</td>\n",
       "      <td>80.2843</td>\n",
       "    </tr>\n",
       "    <tr>\n",
       "      <th>49550</th>\n",
       "      <td>Muir Glacier</td>\n",
       "      <td>G223569E59190N</td>\n",
       "      <td>2010-09-15T00:00:00</td>\n",
       "      <td>0.0</td>\n",
       "      <td>0.0</td>\n",
       "      <td>80.284</td>\n",
       "      <td>80.2843</td>\n",
       "    </tr>\n",
       "    <tr>\n",
       "      <th>49563</th>\n",
       "      <td>Muir Glacier</td>\n",
       "      <td>G223569E59190N</td>\n",
       "      <td>2010-09-15T00:00:00</td>\n",
       "      <td>0.0</td>\n",
       "      <td>0.0</td>\n",
       "      <td>80.284</td>\n",
       "      <td>80.2843</td>\n",
       "    </tr>\n",
       "    <tr>\n",
       "      <th>49586</th>\n",
       "      <td>Muir Glacier</td>\n",
       "      <td>G223569E59190N</td>\n",
       "      <td>2010-09-15T00:00:00</td>\n",
       "      <td>0.0</td>\n",
       "      <td>0.0</td>\n",
       "      <td>80.284</td>\n",
       "      <td>80.2843</td>\n",
       "    </tr>\n",
       "    <tr>\n",
       "      <th>49622</th>\n",
       "      <td>Muir Glacier</td>\n",
       "      <td>G223569E59190N</td>\n",
       "      <td>2010-09-15T00:00:00</td>\n",
       "      <td>0.0</td>\n",
       "      <td>0.0</td>\n",
       "      <td>80.284</td>\n",
       "      <td>80.2843</td>\n",
       "    </tr>\n",
       "  </tbody>\n",
       "</table>\n",
       "</div>"
      ],
      "text/plain": [
       "          glac_name         glac_id             src_date  length  width  \\\n",
       "49544  Muir Glacier  G223569E59190N  2010-09-15T00:00:00     0.0    0.0   \n",
       "49550  Muir Glacier  G223569E59190N  2010-09-15T00:00:00     0.0    0.0   \n",
       "49563  Muir Glacier  G223569E59190N  2010-09-15T00:00:00     0.0    0.0   \n",
       "49586  Muir Glacier  G223569E59190N  2010-09-15T00:00:00     0.0    0.0   \n",
       "49622  Muir Glacier  G223569E59190N  2010-09-15T00:00:00     0.0    0.0   \n",
       "\n",
       "         area  db_area  \n",
       "49544  80.284  80.2843  \n",
       "49550  80.284  80.2843  \n",
       "49563  80.284  80.2843  \n",
       "49586  80.284  80.2843  \n",
       "49622  80.284  80.2843  "
      ]
     },
     "execution_count": 11,
     "metadata": {},
     "output_type": "execute_result"
    }
   ],
   "source": [
    "# This line finds Muir glacier specifically\n",
    "muir_glacier = glims_polygons.loc[glims_polygons['glac_name']=='Muir Glacier']\n",
    "muir_glacier[['glac_name', 'glac_id', 'src_date', 'length', 'width', 'area', 'db_area']].head()"
   ]
  },
  {
   "cell_type": "code",
   "execution_count": 12,
   "metadata": {},
   "outputs": [
    {
     "data": {
      "text/html": [
       "<div>\n",
       "<style scoped>\n",
       "    .dataframe tbody tr th:only-of-type {\n",
       "        vertical-align: middle;\n",
       "    }\n",
       "\n",
       "    .dataframe tbody tr th {\n",
       "        vertical-align: top;\n",
       "    }\n",
       "\n",
       "    .dataframe thead th {\n",
       "        text-align: right;\n",
       "    }\n",
       "</style>\n",
       "<table border=\"1\" class=\"dataframe\">\n",
       "  <thead>\n",
       "    <tr style=\"text-align: right;\">\n",
       "      <th></th>\n",
       "      <th>glac_name</th>\n",
       "      <th>src_date</th>\n",
       "      <th>length</th>\n",
       "      <th>width</th>\n",
       "      <th>area</th>\n",
       "      <th>db_area</th>\n",
       "    </tr>\n",
       "  </thead>\n",
       "  <tbody>\n",
       "    <tr>\n",
       "      <th>49544</th>\n",
       "      <td>Muir Glacier</td>\n",
       "      <td>2010-09-15T00:00:00</td>\n",
       "      <td>0.0</td>\n",
       "      <td>0.0</td>\n",
       "      <td>80.284</td>\n",
       "      <td>80.2843</td>\n",
       "    </tr>\n",
       "    <tr>\n",
       "      <th>262923</th>\n",
       "      <td>Muir Glacier</td>\n",
       "      <td>2010-09-16T00:00:00</td>\n",
       "      <td>0.0</td>\n",
       "      <td>0.0</td>\n",
       "      <td>0.000</td>\n",
       "      <td>136.9210</td>\n",
       "    </tr>\n",
       "    <tr>\n",
       "      <th>665578</th>\n",
       "      <td>Muir Glacier</td>\n",
       "      <td>1999-08-01T00:00:00</td>\n",
       "      <td>0.0</td>\n",
       "      <td>0.0</td>\n",
       "      <td>0.000</td>\n",
       "      <td>97.9299</td>\n",
       "    </tr>\n",
       "  </tbody>\n",
       "</table>\n",
       "</div>"
      ],
      "text/plain": [
       "           glac_name             src_date  length  width    area   db_area\n",
       "49544   Muir Glacier  2010-09-15T00:00:00     0.0    0.0  80.284   80.2843\n",
       "262923  Muir Glacier  2010-09-16T00:00:00     0.0    0.0   0.000  136.9210\n",
       "665578  Muir Glacier  1999-08-01T00:00:00     0.0    0.0   0.000   97.9299"
      ]
     },
     "execution_count": 12,
     "metadata": {},
     "output_type": "execute_result"
    }
   ],
   "source": [
    "# drop duplicates of muir\n",
    "muir_glacier_nodupes = muir_glacier[['glac_name', 'src_date', 'length', 'width', 'area', 'db_area']].drop_duplicates()\n",
    "muir_glacier_nodupes"
   ]
  },
  {
   "cell_type": "code",
   "execution_count": 13,
   "metadata": {},
   "outputs": [
    {
     "data": {
      "text/plain": [
       "<matplotlib.axes._subplots.AxesSubplot at 0x2c7834e3630>"
      ]
     },
     "execution_count": 13,
     "metadata": {},
     "output_type": "execute_result"
    },
    {
     "data": {
      "image/png": "[encoded data removed]",
      "text/plain": [
       "<Figure size 432x288 with 1 Axes>"
      ]
     },
     "metadata": {
      "needs_background": "light"
     },
     "output_type": "display_data"
    }
   ],
   "source": [
    "# Plot muir glacier outline for 2010-09-15 which is at index 49544\n",
    "muir_glacier_20100915 = glims_polygons.iloc[49544:49545, :]\n",
    "muir_glacier_20100915.plot()"
   ]
  },
  {
   "cell_type": "code",
   "execution_count": 14,
   "metadata": {},
   "outputs": [
    {
     "data": {
      "text/plain": [
       "array([-136.552946,   59.2809  , -136.548039,   59.282065])"
      ]
     },
     "execution_count": 14,
     "metadata": {},
     "output_type": "execute_result"
    }
   ],
   "source": [
    "muir_glacier_20100915.total_bounds"
   ]
  },
  {
   "cell_type": "code",
   "execution_count": 15,
   "metadata": {},
   "outputs": [
    {
     "data": {
      "text/plain": [
       "{'init': 'epsg:4326'}"
      ]
     },
     "execution_count": 15,
     "metadata": {},
     "output_type": "execute_result"
    }
   ],
   "source": [
    "muir_glacier_20100915.crs"
   ]
  },
  {
   "cell_type": "code",
   "execution_count": 16,
   "metadata": {},
   "outputs": [
    {
     "data": {
      "text/plain": [
       "49544    Semi-automated glacier classification.; From R...\n",
       "Name: proc_desc, dtype: object"
      ]
     },
     "execution_count": 16,
     "metadata": {},
     "output_type": "execute_result"
    }
   ],
   "source": [
    "# How do I see all the text?????? Tried options and set_option which are pandas methods but doesn't work for geopandas\n",
    "#muir_glacier_20100915.options.display.max_colwidth\n",
    "muir_glacier_20100915['proc_desc']"
   ]
  },
  {
   "cell_type": "code",
   "execution_count": 19,
   "metadata": {},
   "outputs": [
    {
     "name": "stdout",
     "output_type": "stream",
     "text": [
      "area from database (km2): 49544    80.284\n",
      "Name: area, dtype: float64\n",
      "49544    0.027243\n",
      "dtype: float64\n",
      "49544    0.097806\n",
      "dtype: float64\n",
      "49544    0.025648\n",
      "dtype: float64\n",
      "49544    0.025648\n",
      "dtype: float64\n"
     ]
    }
   ],
   "source": [
    "# print area from database\n",
    "print(\"area from database (km2):\", muir_glacier_20100915['area'])\n",
    "# Calculate area of muir glacier to see if it matches db_area. I need to pick an equal area crs\n",
    "# These are not matching. Things look better from the RGI database in the expore-rgi notebook.\n",
    "print(muir_glacier_20100915['geometry'].to_crs({'init': 'epsg:32633'}).area/10**6)\n",
    "print(muir_glacier_20100915['geometry'].to_crs({'init': 'epsg:3395'}).area/10**6)\n",
    "print(muir_glacier_20100915['geometry'].to_crs({'init': 'epsg:3338'}).area/10**6)\n",
    "print(muir_glacier_20100915['geometry'].to_crs({'init': 'esri:102006'}).area/10**6)"
   ]
  }
 ],
 "metadata": {
  "kernelspec": {
   "display_name": "Python [conda env:wgms-project-python] *",
   "language": "python",
   "name": "conda-env-wgms-project-python-py"
  },
  "language_info": {
   "codemirror_mode": {
    "name": "ipython",
    "version": 3
   },
   "file_extension": ".py",
   "mimetype": "text/x-python",
   "name": "python",
   "nbconvert_exporter": "python",
   "pygments_lexer": "ipython3",
   "version": "3.6.7"
  }
 },
 "nbformat": 4,
 "nbformat_minor": 2
}

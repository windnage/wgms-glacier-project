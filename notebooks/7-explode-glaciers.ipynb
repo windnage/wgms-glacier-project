{
 "cells": [
  {
   "cell_type": "markdown",
   "metadata": {},
   "source": [
    "# Explode Glacier Polygons\n",
    "\n",
    "This notebook explodes (merges) all glacier polygons that are touching to turn them into one polygon. Glaciers that are touching are part of a glacier catchment and I am interested in catchements as well as individual glaciers. Not all regions contain ice caps. The regions that have ice caps and that are processed in this notebook are the following:\n",
    "\n",
    "* Region 3 - done\n",
    "* Region 4 - done\n",
    "* Region 5\n",
    "* Region 6 - done\n",
    "* Region 7 - done\n",
    "* Region 8\n",
    "* Region 9\n",
    "* Region 10\n",
    "* Region 17\n",
    "\n",
    "The ice cap and icefield outlines were created by looking at the GLIMS Viewer map (http://www.glims.org/maps/glims) and manaully selecting lat/lon bounding box coordinates around the ice caps."
   ]
  },
  {
   "cell_type": "code",
   "execution_count": null,
   "metadata": {},
   "outputs": [],
   "source": [
    "import os\n",
    "import os.path as op\n",
    "import sys\n",
    "import numpy as np\n",
    "import pandas as pd\n",
    "import matplotlib.pyplot as plt\n",
    "import geopandas as gpd\n",
    "import warnings\n",
    "warnings.filterwarnings(\"ignore\")\n",
    "\n",
    "# set working dir\n",
    "HOME = op.join(op.expanduser(\"~\"))\n",
    "os.chdir(os.path.join(HOME, \"git/wgms-glacier-project\"))\n",
    "\n",
    "module_path = os.path.abspath(os.path.join('..'))\n",
    "if module_path not in sys.path:\n",
    "    sys.path.append(module_path)\n",
    "    \n",
    "import scripts.wgms_scripts as ws"
   ]
  },
  {
   "cell_type": "code",
   "execution_count": null,
   "metadata": {},
   "outputs": [],
   "source": [
    "# Explode the regions that need to be exploded\n",
    "regions = [3, 4, 5, 6, 7, 8, 9, 10, 17]\n",
    "for i in regions:\n",
    "    ws.explode_glaciers(i)"
   ]
  }
 ],
 "metadata": {
  "kernelspec": {
   "display_name": "Python 3",
   "language": "python",
   "name": "python3"
  },
  "language_info": {
   "codemirror_mode": {
    "name": "ipython",
    "version": 3
   },
   "file_extension": ".py",
   "mimetype": "text/x-python",
   "name": "python",
   "nbconvert_exporter": "python",
   "pygments_lexer": "ipython3",
   "version": "3.7.3"
  }
 },
 "nbformat": 4,
 "nbformat_minor": 2
}

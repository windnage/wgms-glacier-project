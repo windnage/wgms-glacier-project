{
 "cells": [
  {
   "cell_type": "markdown",
   "metadata": {},
   "source": [
    "# Explode Glacier Polygons\n",
    "\n",
    "This notebook explodes (merges) all glacier polygons that are touching to turn them into one polygon. Glaciers that are touching are part of a glacier catchment and I am interested in catchements as well as individual glaciers. Not all regions contain ice caps. The regions that have ice caps and that are processed in this notebook are the following:\n",
    "\n",
    "* Region 3 - Arctic Canada, North\n",
    "* Region 4 - Arctic Canada, South\n",
    "* Region 5 - Greenland\n",
    "* Region 6 - Iceland\n",
    "* Region 7 - Svalbard and Jan Mayen\n",
    "* Region 8 - Scandinavia\n",
    "* Region 9 - Russian Arctic\n",
    "* Region 10 - Asia, North\n",
    "* Region 17 - Southern Andes\n",
    "\n",
    "The ice cap and icefield outlines were created by looking at the GLIMS Viewer map (http://www.glims.org/maps/glims) and manaully selecting lat/lon bounding box coordinates around the ice caps.\n",
    "\n",
    "Adding region 16 (low latitudes) as a region to do ice cap analysis because South America has some small ice caps, but this was not initially identified as a region that needed ice cap analysis.\n",
    "\n",
    "Adding Region 19 sub-antartic islands - from RGI only"
   ]
  },
  {
   "cell_type": "code",
   "execution_count": 1,
   "metadata": {},
   "outputs": [],
   "source": [
    "import os\n",
    "import os.path as op\n",
    "import sys\n",
    "import numpy as np\n",
    "import pandas as pd\n",
    "import matplotlib.pyplot as plt\n",
    "from shapely.geometry import Polygon\n",
    "import geopandas as gpd\n",
    "import warnings\n",
    "warnings.filterwarnings(\"ignore\")\n",
    "\n",
    "# set working dir\n",
    "HOME = op.join(op.expanduser(\"~\"))\n",
    "os.chdir(os.path.join(HOME, \"git/wgms-glacier-project\"))\n",
    "\n",
    "module_path = os.path.abspath(os.path.join('..'))\n",
    "if module_path not in sys.path:\n",
    "    sys.path.append(module_path)\n",
    "    \n",
    "import scripts.wgms_scripts as ws"
   ]
  },
  {
   "cell_type": "code",
   "execution_count": 2,
   "metadata": {},
   "outputs": [
    {
     "name": "stdout",
     "output_type": "stream",
     "text": [
      "GLIMS Region 3 has already been processed\n",
      "GLIMS Region 4 has already been processed\n",
      "GLIMS Region 5 has already been processed\n",
      "GLIMS Region 6 has already been processed\n",
      "GLIMS Region 7 has already been processed\n",
      "GLIMS Region 8 has already been processed\n",
      "GLIMS Region 9 has already been processed\n",
      "GLIMS Region 10 has already been processed\n",
      "GLIMS Region 16 has already been processed\n",
      "GLIMS Region 17 has already been processed\n"
     ]
    }
   ],
   "source": [
    "# Explode the regions that need to be exploded\n",
    "regions = [3, 4, 5, 6, 7, 8, 9, 10, 16, 17]\n",
    "for i in regions:\n",
    "    ws.explode_glaciers(i, \"GLIMS\")"
   ]
  },
  {
   "cell_type": "code",
   "execution_count": 3,
   "metadata": {},
   "outputs": [
    {
     "name": "stdout",
     "output_type": "stream",
     "text": [
      "RGI Region 7 has already been processed\n"
     ]
    }
   ],
   "source": [
    "# explode RGI region 7 because GLIMS is missing jan mayan\n",
    "ws.explode_glaciers(7, \"RGI\")"
   ]
  },
  {
   "cell_type": "code",
   "execution_count": 5,
   "metadata": {},
   "outputs": [
    {
     "name": "stdout",
     "output_type": "stream",
     "text": [
      "RGI 19\n",
      "data/rgi/raw/19_rgi60_AntarcticSubantarctic/19_rgi60_AntarcticSubantarctic.shp\n"
     ]
    }
   ],
   "source": [
    "# Subantartic islands - use RGI\n",
    "ws.explode_glaciers(19, \"RGI\")"
   ]
  },
  {
   "cell_type": "markdown",
   "metadata": {},
   "source": [
    "# Create Shapefile for Jan Mayan Outlines\n",
    "Jan Mayan outlines were errouneously left out of the GLIMS version that I downloaded so adding them to their own exploded shapefile from the RGI data"
   ]
  },
  {
   "cell_type": "code",
   "execution_count": null,
   "metadata": {},
   "outputs": [],
   "source": [
    "# Set output file name\n",
    "jm_exploded_fn = \"data/glims/processed/ice-caps/exploded/exploded_7_jan_mayan.shp\"\n",
    "\n",
    "# If the file has not already been created, create it\n",
    "if os.path.exists(jm_exploded_fn) == False:\n",
    "    # Open RGI exploded region 7 shapefile\n",
    "    rgi_exploded_fn = \"data/rgi/processed/ice-caps/exploded/exploded_7.shp\"\n",
    "    rgi_exploded_df = gpd.read_file(rgi_exploded_fn)\n",
    "\n",
    "    # Create a clipping polygon for Jan Mayan\n",
    "    # Create dataframe that holds the clipping box\n",
    "    jan_mayan_points = Polygon([(-9.5691, 71.5205), (-7.2620, 71.5205),\n",
    "                                 (-7.2620, 70.5136), (-9.5691, 70.5136), \n",
    "                                 (-9.5691, 71.5205)])\n",
    "    jan_mayan_gdf = gpd.GeoDataFrame([1],\n",
    "                                     geometry=[jan_mayan_points],\n",
    "                                     crs={'init': 'epsg:4362'})\n",
    "\n",
    "    # Find the RGI outlines that lie within the jan mayan outline\n",
    "    jan_mayan_pip_mask = ws.pip(rgi_exploded_df, jan_mayan_gdf)\n",
    "\n",
    "    # Pass pip_mask into data to get the ones that are in the specified region\n",
    "    rgi_jan_mayan_region = rgi_exploded_df.loc[jan_mayan_pip_mask]\n",
    "\n",
    "    # Save Jan Mayan to shapefile\n",
    "    rgi_jan_mayan_region.to_file(driver='ESRI Shapefile', filename=jm_exploded_fn)\n",
    "    \n",
    "else:\n",
    "    print(\"Jan Mayan file has already been processed\")"
   ]
  }
 ],
 "metadata": {
  "kernelspec": {
   "display_name": "Python 3",
   "language": "python",
   "name": "python3"
  },
  "language_info": {
   "codemirror_mode": {
    "name": "ipython",
    "version": 3
   },
   "file_extension": ".py",
   "mimetype": "text/x-python",
   "name": "python",
   "nbconvert_exporter": "python",
   "pygments_lexer": "ipython3",
   "version": "3.7.3"
  }
 },
 "nbformat": 4,
 "nbformat_minor": 2
}

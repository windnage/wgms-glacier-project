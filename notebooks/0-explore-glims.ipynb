{
 "cells": [
  {
   "cell_type": "markdown",
   "metadata": {},
   "source": [
    "# Explore GLIMS data\n",
    "\n",
    "Author: Ann Windnagel\n",
    "\n",
    "Date: 02/19/2019\n",
    "\n",
    "This notebook is a scratch space to explore the GLIMS data. It opens up GLIMS data files, explores the dataframes, and plots some data. See http://www.glims.org/ for information about GLIMS and to download the data."
   ]
  },
  {
   "cell_type": "markdown",
   "metadata": {},
   "source": [
    "### Import Python Packages"
   ]
  },
  {
   "cell_type": "code",
   "execution_count": 1,
   "metadata": {},
   "outputs": [],
   "source": [
    "import os\n",
    "import pandas as pd\n",
    "import matplotlib.pyplot as plt\n",
    "import geopandas as gpd\n",
    "\n",
    "import earthpy as et\n",
    "\n",
    "# set working dir\n",
    "os.chdir(os.path.join(et.io.HOME, \"git/wgms-glacier-project\"))"
   ]
  },
  {
   "cell_type": "markdown",
   "metadata": {},
   "source": [
    "## Open the full GLIMS database file\n",
    "Open the file and explore the columns, size, and crs."
   ]
  },
  {
   "cell_type": "code",
   "execution_count": 2,
   "metadata": {},
   "outputs": [],
   "source": [
    "# Open GLIMS polygons using geopandas\n",
    "glims_file_path = \"data/glims/raw/glims_download_20190304/glims_polygons.shp\"\n",
    "glims_polygons = gpd.read_file(glims_file_path)"
   ]
  },
  {
   "cell_type": "code",
   "execution_count": 3,
   "metadata": {},
   "outputs": [
    {
     "data": {
      "text/plain": [
       "dtype('O')"
      ]
     },
     "execution_count": 3,
     "metadata": {},
     "output_type": "execute_result"
    }
   ],
   "source": [
    "glims_polygons['anlys_time'].dtype"
   ]
  },
  {
   "cell_type": "code",
   "execution_count": 4,
   "metadata": {},
   "outputs": [
    {
     "data": {
      "text/html": [
       "<div>\n",
       "<style scoped>\n",
       "    .dataframe tbody tr th:only-of-type {\n",
       "        vertical-align: middle;\n",
       "    }\n",
       "\n",
       "    .dataframe tbody tr th {\n",
       "        vertical-align: top;\n",
       "    }\n",
       "\n",
       "    .dataframe thead th {\n",
       "        text-align: right;\n",
       "    }\n",
       "</style>\n",
       "<table border=\"1\" class=\"dataframe\">\n",
       "  <thead>\n",
       "    <tr style=\"text-align: right;\">\n",
       "      <th></th>\n",
       "      <th>line_type</th>\n",
       "      <th>anlys_id</th>\n",
       "      <th>glac_id</th>\n",
       "      <th>anlys_time</th>\n",
       "      <th>area</th>\n",
       "      <th>db_area</th>\n",
       "      <th>width</th>\n",
       "      <th>length</th>\n",
       "      <th>primeclass</th>\n",
       "      <th>min_elev</th>\n",
       "      <th>...</th>\n",
       "      <th>rc_id</th>\n",
       "      <th>geog_area</th>\n",
       "      <th>chief_affl</th>\n",
       "      <th>loc_unc_x</th>\n",
       "      <th>loc_unc_y</th>\n",
       "      <th>glob_unc_x</th>\n",
       "      <th>glob_unc_y</th>\n",
       "      <th>submitters</th>\n",
       "      <th>analysts</th>\n",
       "      <th>geometry</th>\n",
       "    </tr>\n",
       "  </thead>\n",
       "  <tbody>\n",
       "    <tr>\n",
       "      <th>0</th>\n",
       "      <td>debris_cov</td>\n",
       "      <td>121031.0</td>\n",
       "      <td>G006338E44942N</td>\n",
       "      <td>2013-03-25T00:00:00</td>\n",
       "      <td>0.0041</td>\n",
       "      <td>0.010639</td>\n",
       "      <td>0.0</td>\n",
       "      <td>61.1478</td>\n",
       "      <td>0.0</td>\n",
       "      <td>3040.0</td>\n",
       "      <td>...</td>\n",
       "      <td>33.0</td>\n",
       "      <td>French Alps</td>\n",
       "      <td>Laboratoire de Glaciologie et Géophysique de l...</td>\n",
       "      <td>30</td>\n",
       "      <td>30</td>\n",
       "      <td>30</td>\n",
       "      <td>30</td>\n",
       "      <td>Rabatel, Antoine</td>\n",
       "      <td>Rabatel, Antoine</td>\n",
       "      <td>POLYGON Z ((6.339466 44.942715 0, 6.339479 44....</td>\n",
       "    </tr>\n",
       "    <tr>\n",
       "      <th>1</th>\n",
       "      <td>debris_cov</td>\n",
       "      <td>121554.0</td>\n",
       "      <td>G006337E44931N</td>\n",
       "      <td>2013-03-20T00:00:00</td>\n",
       "      <td>1.9080</td>\n",
       "      <td>1.907390</td>\n",
       "      <td>0.0</td>\n",
       "      <td>3558.5700</td>\n",
       "      <td>0.0</td>\n",
       "      <td>2434.0</td>\n",
       "      <td>...</td>\n",
       "      <td>33.0</td>\n",
       "      <td>French Alps</td>\n",
       "      <td>Laboratoire de Glaciologie et Géophysique de l...</td>\n",
       "      <td>30</td>\n",
       "      <td>30</td>\n",
       "      <td>30</td>\n",
       "      <td>30</td>\n",
       "      <td>Rabatel, Antoine</td>\n",
       "      <td>Rabatel, Antoine</td>\n",
       "      <td>POLYGON Z ((6.341819 44.932777 0, 6.341794 44....</td>\n",
       "    </tr>\n",
       "    <tr>\n",
       "      <th>2</th>\n",
       "      <td>debris_cov</td>\n",
       "      <td>121554.0</td>\n",
       "      <td>G006337E44931N</td>\n",
       "      <td>2013-03-20T00:00:00</td>\n",
       "      <td>1.9080</td>\n",
       "      <td>1.907390</td>\n",
       "      <td>0.0</td>\n",
       "      <td>3558.5700</td>\n",
       "      <td>0.0</td>\n",
       "      <td>2434.0</td>\n",
       "      <td>...</td>\n",
       "      <td>33.0</td>\n",
       "      <td>French Alps</td>\n",
       "      <td>Laboratoire de Glaciologie et Géophysique de l...</td>\n",
       "      <td>30</td>\n",
       "      <td>30</td>\n",
       "      <td>30</td>\n",
       "      <td>30</td>\n",
       "      <td>Rabatel, Antoine</td>\n",
       "      <td>Rabatel, Antoine</td>\n",
       "      <td>POLYGON Z ((6.343297 44.93374 0, 6.34329 44.93...</td>\n",
       "    </tr>\n",
       "    <tr>\n",
       "      <th>3</th>\n",
       "      <td>debris_cov</td>\n",
       "      <td>121367.0</td>\n",
       "      <td>G006992E45913N</td>\n",
       "      <td>2013-03-25T00:00:00</td>\n",
       "      <td>7.6856</td>\n",
       "      <td>7.687140</td>\n",
       "      <td>0.0</td>\n",
       "      <td>5010.4600</td>\n",
       "      <td>0.0</td>\n",
       "      <td>2276.0</td>\n",
       "      <td>...</td>\n",
       "      <td>33.0</td>\n",
       "      <td>French Alps</td>\n",
       "      <td>Laboratoire de Glaciologie et Géophysique de l...</td>\n",
       "      <td>30</td>\n",
       "      <td>30</td>\n",
       "      <td>30</td>\n",
       "      <td>30</td>\n",
       "      <td>Rabatel, Antoine</td>\n",
       "      <td>Rabatel, Antoine</td>\n",
       "      <td>POLYGON Z ((6.989013 45.91748 0, 6.988627 45.9...</td>\n",
       "    </tr>\n",
       "    <tr>\n",
       "      <th>4</th>\n",
       "      <td>debris_cov</td>\n",
       "      <td>121128.0</td>\n",
       "      <td>G006340E45124N</td>\n",
       "      <td>2013-03-25T00:00:00</td>\n",
       "      <td>0.1238</td>\n",
       "      <td>0.123768</td>\n",
       "      <td>0.0</td>\n",
       "      <td>670.7820</td>\n",
       "      <td>0.0</td>\n",
       "      <td>2807.0</td>\n",
       "      <td>...</td>\n",
       "      <td>33.0</td>\n",
       "      <td>French Alps</td>\n",
       "      <td>Laboratoire de Glaciologie et Géophysique de l...</td>\n",
       "      <td>30</td>\n",
       "      <td>30</td>\n",
       "      <td>30</td>\n",
       "      <td>30</td>\n",
       "      <td>Rabatel, Antoine</td>\n",
       "      <td>Rabatel, Antoine</td>\n",
       "      <td>POLYGON Z ((6.343491 45.121894 0, 6.343597 45....</td>\n",
       "    </tr>\n",
       "  </tbody>\n",
       "</table>\n",
       "<p>5 rows × 31 columns</p>\n",
       "</div>"
      ],
      "text/plain": [
       "    line_type  anlys_id         glac_id           anlys_time    area  \\\n",
       "0  debris_cov  121031.0  G006338E44942N  2013-03-25T00:00:00  0.0041   \n",
       "1  debris_cov  121554.0  G006337E44931N  2013-03-20T00:00:00  1.9080   \n",
       "2  debris_cov  121554.0  G006337E44931N  2013-03-20T00:00:00  1.9080   \n",
       "3  debris_cov  121367.0  G006992E45913N  2013-03-25T00:00:00  7.6856   \n",
       "4  debris_cov  121128.0  G006340E45124N  2013-03-25T00:00:00  0.1238   \n",
       "\n",
       "    db_area  width     length  primeclass  min_elev  ...  rc_id    geog_area  \\\n",
       "0  0.010639    0.0    61.1478         0.0    3040.0  ...   33.0  French Alps   \n",
       "1  1.907390    0.0  3558.5700         0.0    2434.0  ...   33.0  French Alps   \n",
       "2  1.907390    0.0  3558.5700         0.0    2434.0  ...   33.0  French Alps   \n",
       "3  7.687140    0.0  5010.4600         0.0    2276.0  ...   33.0  French Alps   \n",
       "4  0.123768    0.0   670.7820         0.0    2807.0  ...   33.0  French Alps   \n",
       "\n",
       "                                          chief_affl loc_unc_x loc_unc_y  \\\n",
       "0  Laboratoire de Glaciologie et Géophysique de l...        30        30   \n",
       "1  Laboratoire de Glaciologie et Géophysique de l...        30        30   \n",
       "2  Laboratoire de Glaciologie et Géophysique de l...        30        30   \n",
       "3  Laboratoire de Glaciologie et Géophysique de l...        30        30   \n",
       "4  Laboratoire de Glaciologie et Géophysique de l...        30        30   \n",
       "\n",
       "  glob_unc_x glob_unc_y        submitters          analysts  \\\n",
       "0         30         30  Rabatel, Antoine  Rabatel, Antoine   \n",
       "1         30         30  Rabatel, Antoine  Rabatel, Antoine   \n",
       "2         30         30  Rabatel, Antoine  Rabatel, Antoine   \n",
       "3         30         30  Rabatel, Antoine  Rabatel, Antoine   \n",
       "4         30         30  Rabatel, Antoine  Rabatel, Antoine   \n",
       "\n",
       "                                            geometry  \n",
       "0  POLYGON Z ((6.339466 44.942715 0, 6.339479 44....  \n",
       "1  POLYGON Z ((6.341819 44.932777 0, 6.341794 44....  \n",
       "2  POLYGON Z ((6.343297 44.93374 0, 6.34329 44.93...  \n",
       "3  POLYGON Z ((6.989013 45.91748 0, 6.988627 45.9...  \n",
       "4  POLYGON Z ((6.343491 45.121894 0, 6.343597 45....  \n",
       "\n",
       "[5 rows x 31 columns]"
      ]
     },
     "execution_count": 4,
     "metadata": {},
     "output_type": "execute_result"
    }
   ],
   "source": [
    "# Quick look at the data\n",
    "glims_polygons.head()"
   ]
  },
  {
   "cell_type": "code",
   "execution_count": 5,
   "metadata": {},
   "outputs": [
    {
     "name": "stdout",
     "output_type": "stream",
     "text": [
      "{'init': 'epsg:4326'}\n"
     ]
    }
   ],
   "source": [
    "# Check CRS\n",
    "print(glims_polygons.crs)"
   ]
  },
  {
   "cell_type": "code",
   "execution_count": 6,
   "metadata": {},
   "outputs": [
    {
     "name": "stdout",
     "output_type": "stream",
     "text": [
      "Number of columns:\n",
      "31\n",
      "Column names:\n",
      "['line_type', 'anlys_id', 'glac_id', 'anlys_time', 'area', 'db_area', 'width', 'length', 'primeclass', 'min_elev', 'mean_elev', 'max_elev', 'src_date', 'rec_status', 'glac_name', 'wgms_id', 'local_id', 'glac_stat', 'subm_id', 'release_dt', 'proc_desc', 'rc_id', 'geog_area', 'chief_affl', 'loc_unc_x', 'loc_unc_y', 'glob_unc_x', 'glob_unc_y', 'submitters', 'analysts', 'geometry']\n"
     ]
    }
   ],
   "source": [
    "# Explore column headings\n",
    "print(\"Number of columns:\")\n",
    "print(len(glims_polygons.columns))\n",
    "print(\"Column names:\")\n",
    "print(list(glims_polygons))"
   ]
  },
  {
   "cell_type": "markdown",
   "metadata": {},
   "source": [
    "### Description of each GLIMS column from http://www.glims.org/MapsAndDocs/downloaded_field_desc.html\n",
    "Bolded items are actually in the dataframe in the cell above.\n",
    "\n",
    "1. **LINE_TYPE:**\tCategory of line segment. Possible values include: \"glac_bound\" (glacier boundary), \"intrnl_rock\" (internal rock outcrop, or nunatak), \"snowline\", \"centerline\" (center flowline of the glacier).\n",
    "1. **ANLYS_ID:**\tThe ID assigned within GLIMS for a particular outline of a glacier at a particular time.\n",
    "1. **GLAC_ID:**\tThe GLIMS glacier ID\n",
    "1. **ANLYS_TIME:**\tRepresentative time the analysis was carried out.\n",
    "1. **AREA:**\tMap-plane area of the glacier, as provided by the analyst, km2.\n",
    "1. **DB_AREA:**\tMap-plane area of the glacier, as calculated within the GLIMS Glacier Database, km2. Use this one.\n",
    "1. **WIDTH:**\tRepresentative width of the glacier, meters.\n",
    "1. **LENGTH:**\tRepresentative length of the glacier, meters.\n",
    "1. **PRIMECLASS:**\tPrimary WGMS classification of the glacier.\n",
    "1. **MIN_ELEV:**\tElevation of the lowest part of the glacier, in meters above sea level.\n",
    "1. **MEAN_ELEV:**\tMean elevation of the glacier, in meters above sea level.\n",
    "1. **MAX_ELEV:**\tElevation of the highest part of the glacier, in meters above sea level.\n",
    "1. **SRC_DATE:**\tThe as-of date for the outline. Usually the acquisition date of the image.\n",
    "1. **REC_STATUS:**\tRecord status (should always be \"okay\" for downloaded data).\n",
    "1. **GLAC_NAME:**\tGlacier name.\n",
    "1. **WGMS_ID:**\tGlacier ID assigned by the World Glacier Monitoring Service.\n",
    "1. **LOCAL_ID:**\tAn ID assigned by the GLIMS Regional Center or institution that supplied the data.\n",
    "1. **SUBM_ID:**\tID assigned by GLIMS to the entire data submission.\n",
    "1. RELEASE_OK\tDate after which the data is released.\n",
    "1. **PROC_DESC:**\tDescription of the processing done to create the glacier outlines.\n",
    "1. SUBMIT_SUR\tSurname of the person submitting the data.\n",
    "1. SUBMIT_GIV\tGiven names of the person submitting the data.\n",
    "1. SUBMIT_AFF\tAffiliation of the person submitting the data.\n",
    "1. SUBMIT_URL\tURL for the submitting institution.\n",
    "1. SUBMIT_CCO\tCountry code for the submitting institution.\n",
    "1. ANLST_SURN\tSurname of the analyst.\n",
    "1. ANLST_GIVN\tGiven names of the analyst.\n",
    "1. ANLST_AFFL\tAffiliation of the analyst.\n",
    "1. ANLST_URL\tURL related to the analyst.\n",
    "1. ANLST_CCOD\tCountry code for the analyst.\n",
    "1. CHIEF_SURN\tSurname of the chief of the Regional Center.\n",
    "1. CHIEF_GIVN\tGiven names of the chief of the Regional Center.\n",
    "1. **CHIEF_AFFL:**\tAffiliation of the chief of the Regional Center.\n",
    "1. RC_URL\tURL for the Regional Center.\n",
    "1. RC_CCODE\tCountry code for the Regional Center.\n",
    "1. **RC_ID:**\tGLIMS ID for the Regional Center. This is the center who did the work.\n",
    "1. **GEOG_AREA:**\tGeographic region covered by the Regional Center.\n",
    "\n",
    "These columns are in the dataframe but not described in the list above:\n",
    "1. glac_stat\n",
    "1. release_dt\n",
    "1. parent_id\n",
    "1. submitters\n",
    "1. analysts\n",
    "1. geometry: This is a pandas dataframe specific column"
   ]
  },
  {
   "cell_type": "code",
   "execution_count": 7,
   "metadata": {},
   "outputs": [
    {
     "data": {
      "text/plain": [
       "(383780, 31)"
      ]
     },
     "execution_count": 7,
     "metadata": {},
     "output_type": "execute_result"
    }
   ],
   "source": [
    "# number of rows x columns\n",
    "glims_polygons.shape"
   ]
  },
  {
   "cell_type": "markdown",
   "metadata": {},
   "source": [
    "## Explore glacier area in the GLIMS database"
   ]
  },
  {
   "cell_type": "code",
   "execution_count": 8,
   "metadata": {},
   "outputs": [
    {
     "data": {
      "text/plain": [
       "105616000.0"
      ]
     },
     "execution_count": 8,
     "metadata": {},
     "output_type": "execute_result"
    }
   ],
   "source": [
    "# List the size of the biggest glacier by area in the GLIMS database\n",
    "glims_polygons['area'].max()"
   ]
  },
  {
   "cell_type": "code",
   "execution_count": 9,
   "metadata": {},
   "outputs": [
    {
     "data": {
      "text/plain": [
       "line_type                                            glac_bound\n",
       "anlys_id                                                 336665\n",
       "glac_id                                          G008032E46504N\n",
       "anlys_time                                  2000-09-01T00:00:00\n",
       "area                                                1.05616e+08\n",
       "db_area                                                 105.608\n",
       "width                                                         0\n",
       "length                                                        0\n",
       "primeclass                                                    0\n",
       "min_elev                                                      0\n",
       "mean_elev                                                     0\n",
       "max_elev                                                      0\n",
       "src_date                                    1850-09-01T00:00:00\n",
       "rec_status                                                 okay\n",
       "glac_name                             GROSSER ALETSCH GLETSCHER\n",
       "wgms_id                                                    None\n",
       "local_id                                                 B36/26\n",
       "glac_stat                                                exists\n",
       "subm_id                                                     594\n",
       "release_dt                                  2016-02-01T09:00:00\n",
       "proc_desc     Field and aerial photo reconstruction + Siegfr...\n",
       "rc_id                                                        30\n",
       "geog_area                                            Swiss Alps\n",
       "chief_affl                          University of Zurich-Irchel\n",
       "loc_unc_x                                                     5\n",
       "loc_unc_y                                                     5\n",
       "glob_unc_x                                                    5\n",
       "glob_unc_y                                                    5\n",
       "submitters                                          Paul, Frank\n",
       "analysts                                          Wipf, Andreas\n",
       "geometry      POLYGON Z ((8.002983 46.558612 0, 8.003821 46....\n",
       "Name: 267480, dtype: object"
      ]
     },
     "execution_count": 9,
     "metadata": {},
     "output_type": "execute_result"
    }
   ],
   "source": [
    "# Full row of biggest glacier by area\n",
    "glims_polygons.loc[glims_polygons['area'].idxmax()]"
   ]
  },
  {
   "cell_type": "code",
   "execution_count": 10,
   "metadata": {},
   "outputs": [
    {
     "data": {
      "text/plain": [
       "count    383780.000000\n",
       "mean          0.000855\n",
       "std           0.014832\n",
       "min          -0.076620\n",
       "25%           0.000009\n",
       "50%           0.000028\n",
       "75%           0.000097\n",
       "max           3.989731\n",
       "dtype: object"
      ]
     },
     "execution_count": 10,
     "metadata": {},
     "output_type": "execute_result"
    }
   ],
   "source": [
    "# Get stats about area. note that apply function supresses scientific notation\n",
    "# I don't think these stats are correct... Probably due to projection differences\n",
    "glims_polygons.area.describe().apply(lambda x: format(x, 'f'))"
   ]
  },
  {
   "cell_type": "markdown",
   "metadata": {},
   "source": [
    "## Explore individual glaciers and their area\n",
    "This section finds individual glaciers by name and then compares the area in the database versus a calculated area."
   ]
  },
  {
   "cell_type": "markdown",
   "metadata": {},
   "source": [
    "### Muir Glacier in Alaska"
   ]
  },
  {
   "cell_type": "code",
   "execution_count": 11,
   "metadata": {},
   "outputs": [
    {
     "data": {
      "text/plain": [
       "5019         Muir Glacier\n",
       "80267    Muravlev Glacier\n",
       "85822     Muspellvidda SW\n",
       "85884          Munthbreen\n",
       "86057          Muninbreen\n",
       "Name: glac_name, dtype: object"
      ]
     },
     "execution_count": 11,
     "metadata": {},
     "output_type": "execute_result"
    }
   ],
   "source": [
    "# look for muir glacier\n",
    "# This line finds all Mu* glaciers so I can see how Muir is spelled\n",
    "ans = glims_polygons.loc[(glims_polygons['glac_name'] >= 'Mt') & (glims_polygons['glac_name'] < 'Mv')]\n",
    "ans.glac_name.head()"
   ]
  },
  {
   "cell_type": "code",
   "execution_count": 12,
   "metadata": {},
   "outputs": [
    {
     "data": {
      "text/html": [
       "<div>\n",
       "<style scoped>\n",
       "    .dataframe tbody tr th:only-of-type {\n",
       "        vertical-align: middle;\n",
       "    }\n",
       "\n",
       "    .dataframe tbody tr th {\n",
       "        vertical-align: top;\n",
       "    }\n",
       "\n",
       "    .dataframe thead th {\n",
       "        text-align: right;\n",
       "    }\n",
       "</style>\n",
       "<table border=\"1\" class=\"dataframe\">\n",
       "  <thead>\n",
       "    <tr style=\"text-align: right;\">\n",
       "      <th></th>\n",
       "      <th>glac_name</th>\n",
       "      <th>glac_id</th>\n",
       "      <th>src_date</th>\n",
       "      <th>length</th>\n",
       "      <th>width</th>\n",
       "      <th>area</th>\n",
       "      <th>db_area</th>\n",
       "    </tr>\n",
       "  </thead>\n",
       "  <tbody>\n",
       "    <tr>\n",
       "      <th>5019</th>\n",
       "      <td>Muir Glacier</td>\n",
       "      <td>G223569E59190N</td>\n",
       "      <td>2010-09-15T00:00:00</td>\n",
       "      <td>0.0</td>\n",
       "      <td>0.0</td>\n",
       "      <td>80.284</td>\n",
       "      <td>80.2843</td>\n",
       "    </tr>\n",
       "    <tr>\n",
       "      <th>157164</th>\n",
       "      <td>Muir Glacier</td>\n",
       "      <td>G223569E59190N</td>\n",
       "      <td>2010-09-16T00:00:00</td>\n",
       "      <td>0.0</td>\n",
       "      <td>0.0</td>\n",
       "      <td>0.000</td>\n",
       "      <td>136.9210</td>\n",
       "    </tr>\n",
       "    <tr>\n",
       "      <th>345293</th>\n",
       "      <td>Muir Glacier</td>\n",
       "      <td>G223569E59190N</td>\n",
       "      <td>1999-08-01T00:00:00</td>\n",
       "      <td>0.0</td>\n",
       "      <td>0.0</td>\n",
       "      <td>0.000</td>\n",
       "      <td>97.9299</td>\n",
       "    </tr>\n",
       "  </tbody>\n",
       "</table>\n",
       "</div>"
      ],
      "text/plain": [
       "           glac_name         glac_id             src_date  length  width  \\\n",
       "5019    Muir Glacier  G223569E59190N  2010-09-15T00:00:00     0.0    0.0   \n",
       "157164  Muir Glacier  G223569E59190N  2010-09-16T00:00:00     0.0    0.0   \n",
       "345293  Muir Glacier  G223569E59190N  1999-08-01T00:00:00     0.0    0.0   \n",
       "\n",
       "          area   db_area  \n",
       "5019    80.284   80.2843  \n",
       "157164   0.000  136.9210  \n",
       "345293   0.000   97.9299  "
      ]
     },
     "execution_count": 12,
     "metadata": {},
     "output_type": "execute_result"
    }
   ],
   "source": [
    "# This line finds Muir glacier specifically\n",
    "muir_glacier = glims_polygons[glims_polygons['glac_name']=='Muir Glacier']\n",
    "muir_glacier[['glac_name', 'glac_id', 'src_date', 'length', 'width', 'area', 'db_area']].head()"
   ]
  },
  {
   "cell_type": "code",
   "execution_count": 36,
   "metadata": {},
   "outputs": [
    {
     "data": {
      "text/plain": [
       "geopandas.geodataframe.GeoDataFrame"
      ]
     },
     "execution_count": 36,
     "metadata": {},
     "output_type": "execute_result"
    }
   ],
   "source": [
    "type(muir_glacier)"
   ]
  },
  {
   "cell_type": "code",
   "execution_count": 13,
   "metadata": {},
   "outputs": [
    {
     "data": {
      "text/html": [
       "<div>\n",
       "<style scoped>\n",
       "    .dataframe tbody tr th:only-of-type {\n",
       "        vertical-align: middle;\n",
       "    }\n",
       "\n",
       "    .dataframe tbody tr th {\n",
       "        vertical-align: top;\n",
       "    }\n",
       "\n",
       "    .dataframe thead th {\n",
       "        text-align: right;\n",
       "    }\n",
       "</style>\n",
       "<table border=\"1\" class=\"dataframe\">\n",
       "  <thead>\n",
       "    <tr style=\"text-align: right;\">\n",
       "      <th></th>\n",
       "      <th>glac_name</th>\n",
       "      <th>glac_id</th>\n",
       "      <th>src_date</th>\n",
       "      <th>length</th>\n",
       "      <th>width</th>\n",
       "      <th>area</th>\n",
       "      <th>db_area</th>\n",
       "    </tr>\n",
       "  </thead>\n",
       "  <tbody>\n",
       "    <tr>\n",
       "      <th>5019</th>\n",
       "      <td>Muir Glacier</td>\n",
       "      <td>G223569E59190N</td>\n",
       "      <td>2010-09-15T00:00:00</td>\n",
       "      <td>0.0</td>\n",
       "      <td>0.0</td>\n",
       "      <td>80.284</td>\n",
       "      <td>80.2843</td>\n",
       "    </tr>\n",
       "    <tr>\n",
       "      <th>157164</th>\n",
       "      <td>Muir Glacier</td>\n",
       "      <td>G223569E59190N</td>\n",
       "      <td>2010-09-16T00:00:00</td>\n",
       "      <td>0.0</td>\n",
       "      <td>0.0</td>\n",
       "      <td>0.000</td>\n",
       "      <td>136.9210</td>\n",
       "    </tr>\n",
       "    <tr>\n",
       "      <th>345293</th>\n",
       "      <td>Muir Glacier</td>\n",
       "      <td>G223569E59190N</td>\n",
       "      <td>1999-08-01T00:00:00</td>\n",
       "      <td>0.0</td>\n",
       "      <td>0.0</td>\n",
       "      <td>0.000</td>\n",
       "      <td>97.9299</td>\n",
       "    </tr>\n",
       "  </tbody>\n",
       "</table>\n",
       "</div>"
      ],
      "text/plain": [
       "           glac_name         glac_id             src_date  length  width  \\\n",
       "5019    Muir Glacier  G223569E59190N  2010-09-15T00:00:00     0.0    0.0   \n",
       "157164  Muir Glacier  G223569E59190N  2010-09-16T00:00:00     0.0    0.0   \n",
       "345293  Muir Glacier  G223569E59190N  1999-08-01T00:00:00     0.0    0.0   \n",
       "\n",
       "          area   db_area  \n",
       "5019    80.284   80.2843  \n",
       "157164   0.000  136.9210  \n",
       "345293   0.000   97.9299  "
      ]
     },
     "execution_count": 13,
     "metadata": {},
     "output_type": "execute_result"
    }
   ],
   "source": [
    "muir_glacier[['glac_name', 'glac_id', 'src_date', 'length', 'width', 'area', 'db_area']].tail()"
   ]
  },
  {
   "cell_type": "code",
   "execution_count": 14,
   "metadata": {},
   "outputs": [
    {
     "data": {
      "text/plain": [
       "(3, 31)"
      ]
     },
     "execution_count": 14,
     "metadata": {},
     "output_type": "execute_result"
    }
   ],
   "source": [
    "muir_glacier.shape"
   ]
  },
  {
   "cell_type": "code",
   "execution_count": 15,
   "metadata": {},
   "outputs": [
    {
     "data": {
      "text/html": [
       "<div>\n",
       "<style scoped>\n",
       "    .dataframe tbody tr th:only-of-type {\n",
       "        vertical-align: middle;\n",
       "    }\n",
       "\n",
       "    .dataframe tbody tr th {\n",
       "        vertical-align: top;\n",
       "    }\n",
       "\n",
       "    .dataframe thead th {\n",
       "        text-align: right;\n",
       "    }\n",
       "</style>\n",
       "<table border=\"1\" class=\"dataframe\">\n",
       "  <thead>\n",
       "    <tr style=\"text-align: right;\">\n",
       "      <th></th>\n",
       "      <th>glac_name</th>\n",
       "      <th>glac_id</th>\n",
       "      <th>src_date</th>\n",
       "      <th>length</th>\n",
       "      <th>width</th>\n",
       "      <th>area</th>\n",
       "      <th>db_area</th>\n",
       "    </tr>\n",
       "  </thead>\n",
       "  <tbody>\n",
       "    <tr>\n",
       "      <th>5019</th>\n",
       "      <td>Muir Glacier</td>\n",
       "      <td>G223569E59190N</td>\n",
       "      <td>2010-09-15T00:00:00</td>\n",
       "      <td>0.0</td>\n",
       "      <td>0.0</td>\n",
       "      <td>80.284</td>\n",
       "      <td>80.2843</td>\n",
       "    </tr>\n",
       "  </tbody>\n",
       "</table>\n",
       "</div>"
      ],
      "text/plain": [
       "         glac_name         glac_id             src_date  length  width  \\\n",
       "5019  Muir Glacier  G223569E59190N  2010-09-15T00:00:00     0.0    0.0   \n",
       "\n",
       "        area  db_area  \n",
       "5019  80.284  80.2843  "
      ]
     },
     "execution_count": 15,
     "metadata": {},
     "output_type": "execute_result"
    }
   ],
   "source": [
    "# Get the 20100915 outline for Muir Glacier\n",
    "muir_glacier_20100915 = muir_glacier.loc[muir_glacier['src_date']==\"2010-09-15T00:00:00\"]\n",
    "muir_glacier_20100915[['glac_name', 'glac_id', 'src_date', 'length', 'width', 'area', 'db_area']].head()"
   ]
  },
  {
   "cell_type": "code",
   "execution_count": 16,
   "metadata": {},
   "outputs": [
    {
     "data": {
      "text/plain": [
       "(1, 31)"
      ]
     },
     "execution_count": 16,
     "metadata": {},
     "output_type": "execute_result"
    }
   ],
   "source": [
    "muir_glacier_20100915.shape"
   ]
  },
  {
   "cell_type": "code",
   "execution_count": 17,
   "metadata": {},
   "outputs": [],
   "source": [
    "# drop duplicates of muir\n",
    "# Don't need to do this anymore with the latest glims file that Bruce created on 20190304\n",
    "#muir_glacier_nodupes = muir_glacier[['glac_name', 'src_date', 'length', 'width', 'area', 'db_area']].drop_duplicates()\n",
    "#muir_glacier_nodupes"
   ]
  },
  {
   "cell_type": "code",
   "execution_count": 18,
   "metadata": {},
   "outputs": [
    {
     "data": {
      "text/plain": [
       "<matplotlib.axes._subplots.AxesSubplot at 0x2480bb26278>"
      ]
     },
     "execution_count": 18,
     "metadata": {},
     "output_type": "execute_result"
    },
    {
     "data": {
      "image/png": "[encoded data removed]",
      "text/plain": [
       "<Figure size 432x288 with 1 Axes>"
      ]
     },
     "metadata": {
      "needs_background": "light"
     },
     "output_type": "display_data"
    }
   ],
   "source": [
    "# Plot muir glacier outline for 2010-09-15 \n",
    "muir_glacier_20100915.plot()"
   ]
  },
  {
   "cell_type": "code",
   "execution_count": 19,
   "metadata": {},
   "outputs": [
    {
     "data": {
      "text/plain": [
       "array([-136.589288,   59.101829, -136.359729,   59.283752])"
      ]
     },
     "execution_count": 19,
     "metadata": {},
     "output_type": "execute_result"
    }
   ],
   "source": [
    "muir_glacier_20100915.total_bounds"
   ]
  },
  {
   "cell_type": "code",
   "execution_count": 20,
   "metadata": {},
   "outputs": [
    {
     "data": {
      "text/plain": [
       "{'init': 'epsg:4326'}"
      ]
     },
     "execution_count": 20,
     "metadata": {},
     "output_type": "execute_result"
    }
   ],
   "source": [
    "muir_glacier_20100915.crs"
   ]
  },
  {
   "cell_type": "code",
   "execution_count": 21,
   "metadata": {},
   "outputs": [
    {
     "data": {
      "text/plain": [
       "5019    Semi-automated glacier classification.; From R...\n",
       "Name: proc_desc, dtype: object"
      ]
     },
     "execution_count": 21,
     "metadata": {},
     "output_type": "execute_result"
    }
   ],
   "source": [
    "# How do I see all the text?????? Tried options and set_option which are pandas methods but doesn't work for geopandas\n",
    "#muir_glacier_20100915.options.display.max_colwidth\n",
    "muir_glacier_20100915['proc_desc']"
   ]
  },
  {
   "cell_type": "code",
   "execution_count": 22,
   "metadata": {},
   "outputs": [
    {
     "data": {
      "text/html": [
       "<div>\n",
       "<style scoped>\n",
       "    .dataframe tbody tr th:only-of-type {\n",
       "        vertical-align: middle;\n",
       "    }\n",
       "\n",
       "    .dataframe tbody tr th {\n",
       "        vertical-align: top;\n",
       "    }\n",
       "\n",
       "    .dataframe thead th {\n",
       "        text-align: right;\n",
       "    }\n",
       "</style>\n",
       "<table border=\"1\" class=\"dataframe\">\n",
       "  <thead>\n",
       "    <tr style=\"text-align: right;\">\n",
       "      <th></th>\n",
       "      <th>glac_name</th>\n",
       "      <th>glac_id</th>\n",
       "      <th>src_date</th>\n",
       "      <th>length</th>\n",
       "      <th>width</th>\n",
       "      <th>area</th>\n",
       "      <th>db_area</th>\n",
       "    </tr>\n",
       "  </thead>\n",
       "  <tbody>\n",
       "    <tr>\n",
       "      <th>157164</th>\n",
       "      <td>Muir Glacier</td>\n",
       "      <td>G223569E59190N</td>\n",
       "      <td>2010-09-16T00:00:00</td>\n",
       "      <td>0.0</td>\n",
       "      <td>0.0</td>\n",
       "      <td>0.0</td>\n",
       "      <td>136.921</td>\n",
       "    </tr>\n",
       "  </tbody>\n",
       "</table>\n",
       "</div>"
      ],
      "text/plain": [
       "           glac_name         glac_id             src_date  length  width  \\\n",
       "157164  Muir Glacier  G223569E59190N  2010-09-16T00:00:00     0.0    0.0   \n",
       "\n",
       "        area  db_area  \n",
       "157164   0.0  136.921  "
      ]
     },
     "execution_count": 22,
     "metadata": {},
     "output_type": "execute_result"
    }
   ],
   "source": [
    "# Get the Muir Glacier outline for 2010-09-16\n",
    "muir_glacier_20100916 = muir_glacier.loc[muir_glacier['src_date']==\"2010-09-16T00:00:00\"]\n",
    "muir_glacier_20100916[['glac_name', 'glac_id', 'src_date', 'length', 'width', 'area', 'db_area']].head()"
   ]
  },
  {
   "cell_type": "code",
   "execution_count": 23,
   "metadata": {},
   "outputs": [
    {
     "data": {
      "text/plain": [
       "<matplotlib.axes._subplots.AxesSubplot at 0x2480bb88ac8>"
      ]
     },
     "execution_count": 23,
     "metadata": {},
     "output_type": "execute_result"
    },
    {
     "data": {
      "image/png": "[encoded data removed]",
      "text/plain": [
       "<Figure size 432x288 with 1 Axes>"
      ]
     },
     "metadata": {
      "needs_background": "light"
     },
     "output_type": "display_data"
    }
   ],
   "source": [
    "# Plot muir glacier outline for 2010-09-16\n",
    "muir_glacier_20100916.plot()"
   ]
  },
  {
   "cell_type": "code",
   "execution_count": 24,
   "metadata": {},
   "outputs": [
    {
     "data": {
      "text/html": [
       "<div>\n",
       "<style scoped>\n",
       "    .dataframe tbody tr th:only-of-type {\n",
       "        vertical-align: middle;\n",
       "    }\n",
       "\n",
       "    .dataframe tbody tr th {\n",
       "        vertical-align: top;\n",
       "    }\n",
       "\n",
       "    .dataframe thead th {\n",
       "        text-align: right;\n",
       "    }\n",
       "</style>\n",
       "<table border=\"1\" class=\"dataframe\">\n",
       "  <thead>\n",
       "    <tr style=\"text-align: right;\">\n",
       "      <th></th>\n",
       "      <th>glac_name</th>\n",
       "      <th>glac_id</th>\n",
       "      <th>src_date</th>\n",
       "      <th>length</th>\n",
       "      <th>width</th>\n",
       "      <th>area</th>\n",
       "      <th>db_area</th>\n",
       "    </tr>\n",
       "  </thead>\n",
       "  <tbody>\n",
       "    <tr>\n",
       "      <th>345293</th>\n",
       "      <td>Muir Glacier</td>\n",
       "      <td>G223569E59190N</td>\n",
       "      <td>1999-08-01T00:00:00</td>\n",
       "      <td>0.0</td>\n",
       "      <td>0.0</td>\n",
       "      <td>0.0</td>\n",
       "      <td>97.9299</td>\n",
       "    </tr>\n",
       "  </tbody>\n",
       "</table>\n",
       "</div>"
      ],
      "text/plain": [
       "           glac_name         glac_id             src_date  length  width  \\\n",
       "345293  Muir Glacier  G223569E59190N  1999-08-01T00:00:00     0.0    0.0   \n",
       "\n",
       "        area  db_area  \n",
       "345293   0.0  97.9299  "
      ]
     },
     "execution_count": 24,
     "metadata": {},
     "output_type": "execute_result"
    }
   ],
   "source": [
    "# Get the Muir Glacier outline for 1999-08-01\n",
    "muir_glacier_19990801 = muir_glacier.loc[muir_glacier['src_date']==\"1999-08-01T00:00:00\"]\n",
    "muir_glacier_19990801[['glac_name', 'glac_id', 'src_date', 'length', 'width', 'area', 'db_area']].head()"
   ]
  },
  {
   "cell_type": "code",
   "execution_count": 25,
   "metadata": {},
   "outputs": [
    {
     "data": {
      "text/plain": [
       "<matplotlib.axes._subplots.AxesSubplot at 0x2480bbbbdd8>"
      ]
     },
     "execution_count": 25,
     "metadata": {},
     "output_type": "execute_result"
    },
    {
     "data": {
      "image/png": "[encoded data removed]",
      "text/plain": [
       "<Figure size 432x288 with 1 Axes>"
      ]
     },
     "metadata": {
      "needs_background": "light"
     },
     "output_type": "display_data"
    }
   ],
   "source": [
    "# Plot muir glacier outline for 1999-08-01\n",
    "muir_glacier_19990801.plot()"
   ]
  },
  {
   "cell_type": "code",
   "execution_count": 26,
   "metadata": {
    "scrolled": true
   },
   "outputs": [
    {
     "name": "stdout",
     "output_type": "stream",
     "text": [
      "area from database (km2): 5019    80.2843\n",
      "Name: db_area, dtype: float64\n",
      "5019    85.321147\n",
      "dtype: float64\n",
      "5019    305.078674\n",
      "dtype: float64\n",
      "5019    80.284341\n",
      "dtype: float64\n",
      "5019    80.284341\n",
      "dtype: float64\n"
     ]
    }
   ],
   "source": [
    "# print area from database for 2010-09-15\n",
    "print(\"area from database (km2):\", muir_glacier_20100915['db_area'])\n",
    "# Calculate area of muir glacier to see if it matches db_area. I need to pick an equal area crs\n",
    "# These are not matching. Things look better from the RGI database in the expore-rgi notebook.\n",
    "print(muir_glacier_20100915['geometry'].to_crs({'init': 'epsg:32633'}).area/10**6)\n",
    "print(muir_glacier_20100915['geometry'].to_crs({'init': 'epsg:3395'}).area/10**6)\n",
    "print(muir_glacier_20100915['geometry'].to_crs({'init': 'epsg:3338'}).area/10**6)\n",
    "print(muir_glacier_20100915['geometry'].to_crs({'init': 'esri:102006'}).area/10**6)"
   ]
  },
  {
   "cell_type": "code",
   "execution_count": 27,
   "metadata": {},
   "outputs": [
    {
     "name": "stdout",
     "output_type": "stream",
     "text": [
      "area from database (km2): 157164    136.921\n",
      "Name: db_area, dtype: float64\n",
      "157164    145.530971\n",
      "dtype: float64\n",
      "157164    519.395161\n",
      "dtype: float64\n",
      "157164    136.920618\n",
      "dtype: float64\n",
      "157164    136.920618\n",
      "dtype: float64\n"
     ]
    }
   ],
   "source": [
    "# print area from database for 2010-09-16\n",
    "print(\"area from database (km2):\", muir_glacier_20100916['db_area'])\n",
    "# Calculate area of muir glacier to see if it matches db_area. I need to pick an equal area crs\n",
    "# These are not matching. Things look better from the RGI database in the expore-rgi notebook.\n",
    "print(muir_glacier_20100916['geometry'].to_crs({'init': 'epsg:32633'}).area/10**6)\n",
    "print(muir_glacier_20100916['geometry'].to_crs({'init': 'epsg:3395'}).area/10**6)\n",
    "print(muir_glacier_20100916['geometry'].to_crs({'init': 'epsg:3338'}).area/10**6)\n",
    "print(muir_glacier_20100916['geometry'].to_crs({'init': 'esri:102006'}).area/10**6)"
   ]
  },
  {
   "cell_type": "code",
   "execution_count": 28,
   "metadata": {},
   "outputs": [
    {
     "name": "stdout",
     "output_type": "stream",
     "text": [
      "area from database (km2): 345293    97.9299\n",
      "Name: db_area, dtype: float64\n",
      "345293    104.086079\n",
      "dtype: float64\n",
      "345293    371.574335\n",
      "dtype: float64\n",
      "345293    97.929927\n",
      "dtype: float64\n",
      "345293    97.929927\n",
      "dtype: float64\n"
     ]
    }
   ],
   "source": [
    "# print area from database for 1999-08-01\n",
    "print(\"area from database (km2):\", muir_glacier_19990801['db_area'])\n",
    "# Calculate area of muir glacier to see if it matches db_area. I need to pick an equal area crs\n",
    "# These are not matching. Things look better from the RGI database in the expore-rgi notebook.\n",
    "print(muir_glacier_19990801['geometry'].to_crs({'init': 'epsg:32633'}).area/10**6)\n",
    "print(muir_glacier_19990801['geometry'].to_crs({'init': 'epsg:3395'}).area/10**6)\n",
    "print(muir_glacier_19990801['geometry'].to_crs({'init': 'epsg:3338'}).area/10**6)\n",
    "print(muir_glacier_19990801['geometry'].to_crs({'init': 'esri:102006'}).area/10**6)"
   ]
  },
  {
   "cell_type": "code",
   "execution_count": 29,
   "metadata": {},
   "outputs": [
    {
     "data": {
      "text/html": [
       "<div>\n",
       "<style scoped>\n",
       "    .dataframe tbody tr th:only-of-type {\n",
       "        vertical-align: middle;\n",
       "    }\n",
       "\n",
       "    .dataframe tbody tr th {\n",
       "        vertical-align: top;\n",
       "    }\n",
       "\n",
       "    .dataframe thead th {\n",
       "        text-align: right;\n",
       "    }\n",
       "</style>\n",
       "<table border=\"1\" class=\"dataframe\">\n",
       "  <thead>\n",
       "    <tr style=\"text-align: right;\">\n",
       "      <th></th>\n",
       "      <th>line_type</th>\n",
       "      <th>anlys_id</th>\n",
       "      <th>glac_id</th>\n",
       "      <th>anlys_time</th>\n",
       "      <th>area</th>\n",
       "      <th>db_area</th>\n",
       "      <th>width</th>\n",
       "      <th>length</th>\n",
       "      <th>primeclass</th>\n",
       "      <th>min_elev</th>\n",
       "      <th>...</th>\n",
       "      <th>rc_id</th>\n",
       "      <th>geog_area</th>\n",
       "      <th>chief_affl</th>\n",
       "      <th>loc_unc_x</th>\n",
       "      <th>loc_unc_y</th>\n",
       "      <th>glob_unc_x</th>\n",
       "      <th>glob_unc_y</th>\n",
       "      <th>submitters</th>\n",
       "      <th>analysts</th>\n",
       "      <th>geometry</th>\n",
       "    </tr>\n",
       "  </thead>\n",
       "  <tbody>\n",
       "    <tr>\n",
       "      <th>0</th>\n",
       "      <td>debris_cov</td>\n",
       "      <td>121031.0</td>\n",
       "      <td>G006338E44942N</td>\n",
       "      <td>2013-03-25T00:00:00</td>\n",
       "      <td>0.0041</td>\n",
       "      <td>0.010639</td>\n",
       "      <td>0.0</td>\n",
       "      <td>61.1478</td>\n",
       "      <td>0.0</td>\n",
       "      <td>3040.0</td>\n",
       "      <td>...</td>\n",
       "      <td>33.0</td>\n",
       "      <td>French Alps</td>\n",
       "      <td>Laboratoire de Glaciologie et Géophysique de l...</td>\n",
       "      <td>30</td>\n",
       "      <td>30</td>\n",
       "      <td>30</td>\n",
       "      <td>30</td>\n",
       "      <td>Rabatel, Antoine</td>\n",
       "      <td>Rabatel, Antoine</td>\n",
       "      <td>POLYGON Z ((6.339466 44.942715 0, 6.339479 44....</td>\n",
       "    </tr>\n",
       "  </tbody>\n",
       "</table>\n",
       "<p>1 rows × 31 columns</p>\n",
       "</div>"
      ],
      "text/plain": [
       "    line_type  anlys_id         glac_id           anlys_time    area  \\\n",
       "0  debris_cov  121031.0  G006338E44942N  2013-03-25T00:00:00  0.0041   \n",
       "\n",
       "    db_area  width   length  primeclass  min_elev  ...  rc_id    geog_area  \\\n",
       "0  0.010639    0.0  61.1478         0.0    3040.0  ...   33.0  French Alps   \n",
       "\n",
       "                                          chief_affl loc_unc_x loc_unc_y  \\\n",
       "0  Laboratoire de Glaciologie et Géophysique de l...        30        30   \n",
       "\n",
       "  glob_unc_x glob_unc_y        submitters          analysts  \\\n",
       "0         30         30  Rabatel, Antoine  Rabatel, Antoine   \n",
       "\n",
       "                                            geometry  \n",
       "0  POLYGON Z ((6.339466 44.942715 0, 6.339479 44....  \n",
       "\n",
       "[1 rows x 31 columns]"
      ]
     },
     "execution_count": 29,
     "metadata": {},
     "output_type": "execute_result"
    }
   ],
   "source": [
    "outline_0 = glims_polygons.iloc[0:1]\n",
    "outline_0"
   ]
  },
  {
   "cell_type": "code",
   "execution_count": 30,
   "metadata": {},
   "outputs": [
    {
     "data": {
      "text/plain": [
       "<matplotlib.axes._subplots.AxesSubplot at 0x2480bc24320>"
      ]
     },
     "execution_count": 30,
     "metadata": {},
     "output_type": "execute_result"
    },
    {
     "data": {
      "image/png": "[encoded data removed]",
      "text/plain": [
       "<Figure size 432x288 with 1 Axes>"
      ]
     },
     "metadata": {
      "needs_background": "light"
     },
     "output_type": "display_data"
    }
   ],
   "source": [
    "outline_0.plot()"
   ]
  },
  {
   "cell_type": "markdown",
   "metadata": {},
   "source": [
    "### Seward Glacier - Alaska"
   ]
  },
  {
   "cell_type": "code",
   "execution_count": 31,
   "metadata": {},
   "outputs": [
    {
     "data": {
      "text/html": [
       "<div>\n",
       "<style scoped>\n",
       "    .dataframe tbody tr th:only-of-type {\n",
       "        vertical-align: middle;\n",
       "    }\n",
       "\n",
       "    .dataframe tbody tr th {\n",
       "        vertical-align: top;\n",
       "    }\n",
       "\n",
       "    .dataframe thead th {\n",
       "        text-align: right;\n",
       "    }\n",
       "</style>\n",
       "<table border=\"1\" class=\"dataframe\">\n",
       "  <thead>\n",
       "    <tr style=\"text-align: right;\">\n",
       "      <th></th>\n",
       "      <th>glac_name</th>\n",
       "      <th>glac_id</th>\n",
       "      <th>src_date</th>\n",
       "      <th>length</th>\n",
       "      <th>width</th>\n",
       "      <th>area</th>\n",
       "      <th>db_area</th>\n",
       "    </tr>\n",
       "  </thead>\n",
       "  <tbody>\n",
       "    <tr>\n",
       "      <th>556</th>\n",
       "      <td>Seward Glacier</td>\n",
       "      <td>G219787E60289N</td>\n",
       "      <td>2000-08-31T20:28:00</td>\n",
       "      <td>0.0</td>\n",
       "      <td>0.0</td>\n",
       "      <td>0.00</td>\n",
       "      <td>3211.80</td>\n",
       "    </tr>\n",
       "    <tr>\n",
       "      <th>659</th>\n",
       "      <td>Seward Glacier</td>\n",
       "      <td>G219787E60289N</td>\n",
       "      <td>2000-08-31T20:28:00</td>\n",
       "      <td>0.0</td>\n",
       "      <td>0.0</td>\n",
       "      <td>0.00</td>\n",
       "      <td>3211.80</td>\n",
       "    </tr>\n",
       "    <tr>\n",
       "      <th>6733</th>\n",
       "      <td>Seward Glacier</td>\n",
       "      <td>G219787E60289N</td>\n",
       "      <td>2010-09-12T00:00:00</td>\n",
       "      <td>0.0</td>\n",
       "      <td>0.0</td>\n",
       "      <td>3362.66</td>\n",
       "      <td>3362.66</td>\n",
       "    </tr>\n",
       "    <tr>\n",
       "      <th>346758</th>\n",
       "      <td>Seward Glacier</td>\n",
       "      <td>G219787E60289N</td>\n",
       "      <td>2000-08-31T20:28:00</td>\n",
       "      <td>0.0</td>\n",
       "      <td>0.0</td>\n",
       "      <td>0.00</td>\n",
       "      <td>3211.80</td>\n",
       "    </tr>\n",
       "  </tbody>\n",
       "</table>\n",
       "</div>"
      ],
      "text/plain": [
       "             glac_name         glac_id             src_date  length  width  \\\n",
       "556     Seward Glacier  G219787E60289N  2000-08-31T20:28:00     0.0    0.0   \n",
       "659     Seward Glacier  G219787E60289N  2000-08-31T20:28:00     0.0    0.0   \n",
       "6733    Seward Glacier  G219787E60289N  2010-09-12T00:00:00     0.0    0.0   \n",
       "346758  Seward Glacier  G219787E60289N  2000-08-31T20:28:00     0.0    0.0   \n",
       "\n",
       "           area  db_area  \n",
       "556        0.00  3211.80  \n",
       "659        0.00  3211.80  \n",
       "6733    3362.66  3362.66  \n",
       "346758     0.00  3211.80  "
      ]
     },
     "execution_count": 31,
     "metadata": {},
     "output_type": "execute_result"
    }
   ],
   "source": [
    "# This line finds Seward glacier specifically\n",
    "seward_glacier = glims_polygons[glims_polygons['glac_name']=='Seward Glacier']\n",
    "seward_glacier[['glac_name', 'glac_id', 'src_date', 'length', 'width', 'area', 'db_area']].head()"
   ]
  },
  {
   "cell_type": "markdown",
   "metadata": {},
   "source": [
    "### Pine Island Glacier - Antarctica"
   ]
  },
  {
   "cell_type": "code",
   "execution_count": 32,
   "metadata": {},
   "outputs": [
    {
     "data": {
      "text/html": [
       "<div>\n",
       "<style scoped>\n",
       "    .dataframe tbody tr th:only-of-type {\n",
       "        vertical-align: middle;\n",
       "    }\n",
       "\n",
       "    .dataframe tbody tr th {\n",
       "        vertical-align: top;\n",
       "    }\n",
       "\n",
       "    .dataframe thead th {\n",
       "        text-align: right;\n",
       "    }\n",
       "</style>\n",
       "<table border=\"1\" class=\"dataframe\">\n",
       "  <thead>\n",
       "    <tr style=\"text-align: right;\">\n",
       "      <th></th>\n",
       "      <th>glac_name</th>\n",
       "      <th>glac_id</th>\n",
       "      <th>src_date</th>\n",
       "      <th>length</th>\n",
       "      <th>width</th>\n",
       "      <th>area</th>\n",
       "      <th>db_area</th>\n",
       "    </tr>\n",
       "  </thead>\n",
       "  <tbody>\n",
       "  </tbody>\n",
       "</table>\n",
       "</div>"
      ],
      "text/plain": [
       "Empty DataFrame\n",
       "Columns: [glac_name, glac_id, src_date, length, width, area, db_area]\n",
       "Index: []"
      ]
     },
     "execution_count": 32,
     "metadata": {},
     "output_type": "execute_result"
    }
   ],
   "source": [
    "# This line finds pine island glacier in antarctica specifically\n",
    "pine_island_glacier = glims_polygons[glims_polygons['glac_id']=='G263560E76894S']\n",
    "pine_island_glacier[['glac_name', 'glac_id', 'src_date', 'length', 'width', 'area', 'db_area']].head()"
   ]
  },
  {
   "cell_type": "markdown",
   "metadata": {},
   "source": [
    "## Investigate RC_ID"
   ]
  },
  {
   "cell_type": "code",
   "execution_count": 33,
   "metadata": {},
   "outputs": [
    {
     "data": {
      "text/plain": [
       "array([ 33.,  12.,  34., 602., 524.,  26.,  18., 761., 565.,  19., 573.,\n",
       "       561.,  29.,   5., 571., 574.,   4.,   8.,  23.,  30., 556.,  37.,\n",
       "       505.,   2.,  38., 507., 511.,  32.,  27.,  16., 502., 547.,   7.,\n",
       "        22.,  10.,  17.,   3., 536., 526.,  20., 520., 550.,   9., 562.,\n",
       "        28., 575., 576.])"
      ]
     },
     "execution_count": 33,
     "metadata": {},
     "output_type": "execute_result"
    }
   ],
   "source": [
    "# Find the unique rc_id for GLIMS\n",
    "# The rc_id is the GLIMS ID for the Regional Center\n",
    "unique_rc_id = glims_polygons.rc_id.unique()\n",
    "unique_rc_id"
   ]
  },
  {
   "cell_type": "code",
   "execution_count": 34,
   "metadata": {},
   "outputs": [
    {
     "data": {
      "text/html": [
       "<div>\n",
       "<style scoped>\n",
       "    .dataframe tbody tr th:only-of-type {\n",
       "        vertical-align: middle;\n",
       "    }\n",
       "\n",
       "    .dataframe tbody tr th {\n",
       "        vertical-align: top;\n",
       "    }\n",
       "\n",
       "    .dataframe thead th {\n",
       "        text-align: right;\n",
       "    }\n",
       "</style>\n",
       "<table border=\"1\" class=\"dataframe\">\n",
       "  <thead>\n",
       "    <tr style=\"text-align: right;\">\n",
       "      <th></th>\n",
       "      <th>line_type</th>\n",
       "      <th>anlys_id</th>\n",
       "      <th>glac_id</th>\n",
       "      <th>anlys_time</th>\n",
       "      <th>area</th>\n",
       "      <th>db_area</th>\n",
       "      <th>width</th>\n",
       "      <th>length</th>\n",
       "      <th>primeclass</th>\n",
       "      <th>min_elev</th>\n",
       "      <th>...</th>\n",
       "      <th>rc_id</th>\n",
       "      <th>geog_area</th>\n",
       "      <th>chief_affl</th>\n",
       "      <th>loc_unc_x</th>\n",
       "      <th>loc_unc_y</th>\n",
       "      <th>glob_unc_x</th>\n",
       "      <th>glob_unc_y</th>\n",
       "      <th>submitters</th>\n",
       "      <th>analysts</th>\n",
       "      <th>geometry</th>\n",
       "    </tr>\n",
       "  </thead>\n",
       "  <tbody>\n",
       "    <tr>\n",
       "      <th>533</th>\n",
       "      <td>debris_cov</td>\n",
       "      <td>58036.0</td>\n",
       "      <td>G223237E58554N</td>\n",
       "      <td>2006-05-25T07:48:23</td>\n",
       "      <td>0.0</td>\n",
       "      <td>495.176</td>\n",
       "      <td>0.0</td>\n",
       "      <td>0.0</td>\n",
       "      <td>4.0</td>\n",
       "      <td>0.0</td>\n",
       "      <td>...</td>\n",
       "      <td>602.0</td>\n",
       "      <td>Various (NSIDC)</td>\n",
       "      <td>University of Colorado</td>\n",
       "      <td>0</td>\n",
       "      <td>0</td>\n",
       "      <td>0</td>\n",
       "      <td>0</td>\n",
       "      <td>Beedle, Matthew</td>\n",
       "      <td>Beedle, Matthew</td>\n",
       "      <td>POLYGON Z ((-136.675873 58.385483 0, -136.6753...</td>\n",
       "    </tr>\n",
       "    <tr>\n",
       "      <th>536</th>\n",
       "      <td>debris_cov</td>\n",
       "      <td>60414.0</td>\n",
       "      <td>G219795E60080N</td>\n",
       "      <td>2007-08-10T02:33:33</td>\n",
       "      <td>0.0</td>\n",
       "      <td>297.560</td>\n",
       "      <td>0.0</td>\n",
       "      <td>0.0</td>\n",
       "      <td>5.0</td>\n",
       "      <td>0.0</td>\n",
       "      <td>...</td>\n",
       "      <td>602.0</td>\n",
       "      <td>Various (NSIDC)</td>\n",
       "      <td>University of Colorado</td>\n",
       "      <td>0</td>\n",
       "      <td>0</td>\n",
       "      <td>0</td>\n",
       "      <td>0</td>\n",
       "      <td>Beedle, Matthew</td>\n",
       "      <td>Beedle, Matthew</td>\n",
       "      <td>POLYGON Z ((-140.10202 59.96069 0, -140.10102 ...</td>\n",
       "    </tr>\n",
       "    <tr>\n",
       "      <th>537</th>\n",
       "      <td>debris_cov</td>\n",
       "      <td>53065.0</td>\n",
       "      <td>G222829E58804N</td>\n",
       "      <td>2006-05-29T19:01:21</td>\n",
       "      <td>0.0</td>\n",
       "      <td>162.882</td>\n",
       "      <td>0.0</td>\n",
       "      <td>0.0</td>\n",
       "      <td>5.0</td>\n",
       "      <td>0.0</td>\n",
       "      <td>...</td>\n",
       "      <td>602.0</td>\n",
       "      <td>Various (NSIDC)</td>\n",
       "      <td>University of Colorado</td>\n",
       "      <td>0</td>\n",
       "      <td>0</td>\n",
       "      <td>0</td>\n",
       "      <td>0</td>\n",
       "      <td>Beedle, Matthew</td>\n",
       "      <td>Beedle, Matthew</td>\n",
       "      <td>POLYGON Z ((-137.260638 58.805875 0, -137.2596...</td>\n",
       "    </tr>\n",
       "    <tr>\n",
       "      <th>538</th>\n",
       "      <td>debris_cov</td>\n",
       "      <td>58036.0</td>\n",
       "      <td>G223237E58554N</td>\n",
       "      <td>2006-05-25T07:48:23</td>\n",
       "      <td>0.0</td>\n",
       "      <td>495.176</td>\n",
       "      <td>0.0</td>\n",
       "      <td>0.0</td>\n",
       "      <td>4.0</td>\n",
       "      <td>0.0</td>\n",
       "      <td>...</td>\n",
       "      <td>602.0</td>\n",
       "      <td>Various (NSIDC)</td>\n",
       "      <td>University of Colorado</td>\n",
       "      <td>0</td>\n",
       "      <td>0</td>\n",
       "      <td>0</td>\n",
       "      <td>0</td>\n",
       "      <td>Beedle, Matthew</td>\n",
       "      <td>Beedle, Matthew</td>\n",
       "      <td>POLYGON Z ((-136.662581 58.464275 0, -136.6641...</td>\n",
       "    </tr>\n",
       "    <tr>\n",
       "      <th>539</th>\n",
       "      <td>debris_cov</td>\n",
       "      <td>58036.0</td>\n",
       "      <td>G223237E58554N</td>\n",
       "      <td>2006-05-25T07:48:23</td>\n",
       "      <td>0.0</td>\n",
       "      <td>495.176</td>\n",
       "      <td>0.0</td>\n",
       "      <td>0.0</td>\n",
       "      <td>4.0</td>\n",
       "      <td>0.0</td>\n",
       "      <td>...</td>\n",
       "      <td>602.0</td>\n",
       "      <td>Various (NSIDC)</td>\n",
       "      <td>University of Colorado</td>\n",
       "      <td>0</td>\n",
       "      <td>0</td>\n",
       "      <td>0</td>\n",
       "      <td>0</td>\n",
       "      <td>Beedle, Matthew</td>\n",
       "      <td>Beedle, Matthew</td>\n",
       "      <td>POLYGON Z ((-136.652551 58.490007 0, -136.6538...</td>\n",
       "    </tr>\n",
       "  </tbody>\n",
       "</table>\n",
       "<p>5 rows × 31 columns</p>\n",
       "</div>"
      ],
      "text/plain": [
       "      line_type  anlys_id         glac_id           anlys_time  area  db_area  \\\n",
       "533  debris_cov   58036.0  G223237E58554N  2006-05-25T07:48:23   0.0  495.176   \n",
       "536  debris_cov   60414.0  G219795E60080N  2007-08-10T02:33:33   0.0  297.560   \n",
       "537  debris_cov   53065.0  G222829E58804N  2006-05-29T19:01:21   0.0  162.882   \n",
       "538  debris_cov   58036.0  G223237E58554N  2006-05-25T07:48:23   0.0  495.176   \n",
       "539  debris_cov   58036.0  G223237E58554N  2006-05-25T07:48:23   0.0  495.176   \n",
       "\n",
       "     width  length  primeclass  min_elev  ...  rc_id        geog_area  \\\n",
       "533    0.0     0.0         4.0       0.0  ...  602.0  Various (NSIDC)   \n",
       "536    0.0     0.0         5.0       0.0  ...  602.0  Various (NSIDC)   \n",
       "537    0.0     0.0         5.0       0.0  ...  602.0  Various (NSIDC)   \n",
       "538    0.0     0.0         4.0       0.0  ...  602.0  Various (NSIDC)   \n",
       "539    0.0     0.0         4.0       0.0  ...  602.0  Various (NSIDC)   \n",
       "\n",
       "                 chief_affl loc_unc_x loc_unc_y glob_unc_x glob_unc_y  \\\n",
       "533  University of Colorado         0         0          0          0   \n",
       "536  University of Colorado         0         0          0          0   \n",
       "537  University of Colorado         0         0          0          0   \n",
       "538  University of Colorado         0         0          0          0   \n",
       "539  University of Colorado         0         0          0          0   \n",
       "\n",
       "          submitters         analysts  \\\n",
       "533  Beedle, Matthew  Beedle, Matthew   \n",
       "536  Beedle, Matthew  Beedle, Matthew   \n",
       "537  Beedle, Matthew  Beedle, Matthew   \n",
       "538  Beedle, Matthew  Beedle, Matthew   \n",
       "539  Beedle, Matthew  Beedle, Matthew   \n",
       "\n",
       "                                              geometry  \n",
       "533  POLYGON Z ((-136.675873 58.385483 0, -136.6753...  \n",
       "536  POLYGON Z ((-140.10202 59.96069 0, -140.10102 ...  \n",
       "537  POLYGON Z ((-137.260638 58.805875 0, -137.2596...  \n",
       "538  POLYGON Z ((-136.662581 58.464275 0, -136.6641...  \n",
       "539  POLYGON Z ((-136.652551 58.490007 0, -136.6538...  \n",
       "\n",
       "[5 rows x 31 columns]"
      ]
     },
     "execution_count": 34,
     "metadata": {},
     "output_type": "execute_result"
    }
   ],
   "source": [
    "# Select rc_id 602 which is in Region 1 (Alaska) just to see what this subset looks like\n",
    "rc_id_602 = glims_polygons.loc[glims_polygons['rc_id']==602.0]\n",
    "rc_id_602.head()"
   ]
  },
  {
   "cell_type": "code",
   "execution_count": 35,
   "metadata": {},
   "outputs": [
    {
     "data": {
      "image/png": "[encoded data removed]",
      "text/plain": [
       "<Figure size 1440x1440 with 1 Axes>"
      ]
     },
     "metadata": {
      "needs_background": "light"
     },
     "output_type": "display_data"
    }
   ],
   "source": [
    "# Plot rc_id 602 sub region\n",
    "# It appears that rc_id of 602 also appears in other regions\n",
    "fig, ax = plt.subplots(figsize=(20, 20))\n",
    "rc_id_602.plot(ax=ax)\n",
    "ax.set_axis_off()"
   ]
  }
 ],
 "metadata": {
  "kernelspec": {
   "display_name": "Python [conda env:wgms-project-python] *",
   "language": "python",
   "name": "conda-env-wgms-project-python-py"
  },
  "language_info": {
   "codemirror_mode": {
    "name": "ipython",
    "version": 3
   },
   "file_extension": ".py",
   "mimetype": "text/x-python",
   "name": "python",
   "nbconvert_exporter": "python",
   "pygments_lexer": "ipython3",
   "version": "3.6.7"
  }
 },
 "nbformat": 4,
 "nbformat_minor": 2
}

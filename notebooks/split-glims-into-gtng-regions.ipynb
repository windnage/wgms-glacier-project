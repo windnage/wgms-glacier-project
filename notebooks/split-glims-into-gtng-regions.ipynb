{
 "cells": [
  {
   "cell_type": "markdown",
   "metadata": {},
   "source": [
    "# Split GLIMS into GTNG Glacier Regions\n",
    "Author: Ann Windnagel\n",
    "\n",
    "Date: 3/3/2019\n",
    "\n",
    "This notebook splits the one large GLIMS shapefile into 19 different shapefiles based on the 19 GTNG Glacier Regions. This will allow for the comparison of GLIMS to the RGI data which came already separated into the 19 regions."
   ]
  },
  {
   "cell_type": "code",
   "execution_count": 1,
   "metadata": {},
   "outputs": [],
   "source": [
    "import os\n",
    "import numpy as np\n",
    "from glob import glob\n",
    "import pandas as pd\n",
    "import matplotlib.pyplot as plt\n",
    "import sys\n",
    "\n",
    "import geopandas as gpd\n",
    "from shapely.geometry import mapping, box\n",
    "from shapely.geometry import Point, Polygon\n",
    "\n",
    "import earthpy as et\n",
    "import earthpy.spatial as es\n",
    "import earthpy.clip as cl\n",
    "\n",
    "# set working dir\n",
    "os.chdir(os.path.join(et.io.HOME, \"git/wgms-glacier-project\"))\n",
    "\n",
    "module_path = os.path.abspath(os.path.join('..'))\n",
    "if module_path not in sys.path:\n",
    "    sys.path.append(module_path)\n",
    "    \n",
    "import scripts.wgms_scripts as ws"
   ]
  },
  {
   "cell_type": "code",
   "execution_count": 2,
   "metadata": {},
   "outputs": [
    {
     "data": {
      "text/html": [
       "<div>\n",
       "<style scoped>\n",
       "    .dataframe tbody tr th:only-of-type {\n",
       "        vertical-align: middle;\n",
       "    }\n",
       "\n",
       "    .dataframe tbody tr th {\n",
       "        vertical-align: top;\n",
       "    }\n",
       "\n",
       "    .dataframe thead th {\n",
       "        text-align: right;\n",
       "    }\n",
       "</style>\n",
       "<table border=\"1\" class=\"dataframe\">\n",
       "  <thead>\n",
       "    <tr style=\"text-align: right;\">\n",
       "      <th></th>\n",
       "      <th>line_type</th>\n",
       "      <th>anlys_id</th>\n",
       "      <th>glac_id</th>\n",
       "      <th>anlys_time</th>\n",
       "      <th>area</th>\n",
       "      <th>db_area</th>\n",
       "      <th>width</th>\n",
       "      <th>length</th>\n",
       "      <th>primeclass</th>\n",
       "      <th>min_elev</th>\n",
       "      <th>...</th>\n",
       "      <th>rc_id</th>\n",
       "      <th>geog_area</th>\n",
       "      <th>chief_affl</th>\n",
       "      <th>loc_unc_x</th>\n",
       "      <th>loc_unc_y</th>\n",
       "      <th>glob_unc_x</th>\n",
       "      <th>glob_unc_y</th>\n",
       "      <th>submitters</th>\n",
       "      <th>analysts</th>\n",
       "      <th>geometry</th>\n",
       "    </tr>\n",
       "  </thead>\n",
       "  <tbody>\n",
       "    <tr>\n",
       "      <th>0</th>\n",
       "      <td>debris_cov</td>\n",
       "      <td>121031.0</td>\n",
       "      <td>G006338E44942N</td>\n",
       "      <td>2013-03-25T00:00:00</td>\n",
       "      <td>0.0041</td>\n",
       "      <td>0.010639</td>\n",
       "      <td>0.0</td>\n",
       "      <td>61.1478</td>\n",
       "      <td>0.0</td>\n",
       "      <td>3040.0</td>\n",
       "      <td>...</td>\n",
       "      <td>33.0</td>\n",
       "      <td>French Alps</td>\n",
       "      <td>Laboratoire de Glaciologie et Géophysique de l...</td>\n",
       "      <td>30</td>\n",
       "      <td>30</td>\n",
       "      <td>30</td>\n",
       "      <td>30</td>\n",
       "      <td>Rabatel, Antoine</td>\n",
       "      <td>Rabatel, Antoine</td>\n",
       "      <td>POLYGON Z ((6.339466 44.942715 0, 6.339479 44....</td>\n",
       "    </tr>\n",
       "    <tr>\n",
       "      <th>1</th>\n",
       "      <td>debris_cov</td>\n",
       "      <td>121554.0</td>\n",
       "      <td>G006337E44931N</td>\n",
       "      <td>2013-03-20T00:00:00</td>\n",
       "      <td>1.9080</td>\n",
       "      <td>1.907390</td>\n",
       "      <td>0.0</td>\n",
       "      <td>3558.5700</td>\n",
       "      <td>0.0</td>\n",
       "      <td>2434.0</td>\n",
       "      <td>...</td>\n",
       "      <td>33.0</td>\n",
       "      <td>French Alps</td>\n",
       "      <td>Laboratoire de Glaciologie et Géophysique de l...</td>\n",
       "      <td>30</td>\n",
       "      <td>30</td>\n",
       "      <td>30</td>\n",
       "      <td>30</td>\n",
       "      <td>Rabatel, Antoine</td>\n",
       "      <td>Rabatel, Antoine</td>\n",
       "      <td>POLYGON Z ((6.341819 44.932777 0, 6.341794 44....</td>\n",
       "    </tr>\n",
       "    <tr>\n",
       "      <th>2</th>\n",
       "      <td>debris_cov</td>\n",
       "      <td>121554.0</td>\n",
       "      <td>G006337E44931N</td>\n",
       "      <td>2013-03-20T00:00:00</td>\n",
       "      <td>1.9080</td>\n",
       "      <td>1.907390</td>\n",
       "      <td>0.0</td>\n",
       "      <td>3558.5700</td>\n",
       "      <td>0.0</td>\n",
       "      <td>2434.0</td>\n",
       "      <td>...</td>\n",
       "      <td>33.0</td>\n",
       "      <td>French Alps</td>\n",
       "      <td>Laboratoire de Glaciologie et Géophysique de l...</td>\n",
       "      <td>30</td>\n",
       "      <td>30</td>\n",
       "      <td>30</td>\n",
       "      <td>30</td>\n",
       "      <td>Rabatel, Antoine</td>\n",
       "      <td>Rabatel, Antoine</td>\n",
       "      <td>POLYGON Z ((6.343297 44.93374 0, 6.34329 44.93...</td>\n",
       "    </tr>\n",
       "    <tr>\n",
       "      <th>3</th>\n",
       "      <td>debris_cov</td>\n",
       "      <td>121367.0</td>\n",
       "      <td>G006992E45913N</td>\n",
       "      <td>2013-03-25T00:00:00</td>\n",
       "      <td>7.6856</td>\n",
       "      <td>7.687140</td>\n",
       "      <td>0.0</td>\n",
       "      <td>5010.4600</td>\n",
       "      <td>0.0</td>\n",
       "      <td>2276.0</td>\n",
       "      <td>...</td>\n",
       "      <td>33.0</td>\n",
       "      <td>French Alps</td>\n",
       "      <td>Laboratoire de Glaciologie et Géophysique de l...</td>\n",
       "      <td>30</td>\n",
       "      <td>30</td>\n",
       "      <td>30</td>\n",
       "      <td>30</td>\n",
       "      <td>Rabatel, Antoine</td>\n",
       "      <td>Rabatel, Antoine</td>\n",
       "      <td>POLYGON Z ((6.989013 45.91748 0, 6.988627 45.9...</td>\n",
       "    </tr>\n",
       "    <tr>\n",
       "      <th>4</th>\n",
       "      <td>debris_cov</td>\n",
       "      <td>121128.0</td>\n",
       "      <td>G006340E45124N</td>\n",
       "      <td>2013-03-25T00:00:00</td>\n",
       "      <td>0.1238</td>\n",
       "      <td>0.123768</td>\n",
       "      <td>0.0</td>\n",
       "      <td>670.7820</td>\n",
       "      <td>0.0</td>\n",
       "      <td>2807.0</td>\n",
       "      <td>...</td>\n",
       "      <td>33.0</td>\n",
       "      <td>French Alps</td>\n",
       "      <td>Laboratoire de Glaciologie et Géophysique de l...</td>\n",
       "      <td>30</td>\n",
       "      <td>30</td>\n",
       "      <td>30</td>\n",
       "      <td>30</td>\n",
       "      <td>Rabatel, Antoine</td>\n",
       "      <td>Rabatel, Antoine</td>\n",
       "      <td>POLYGON Z ((6.343491 45.121894 0, 6.343597 45....</td>\n",
       "    </tr>\n",
       "  </tbody>\n",
       "</table>\n",
       "<p>5 rows × 31 columns</p>\n",
       "</div>"
      ],
      "text/plain": [
       "    line_type  anlys_id         glac_id           anlys_time    area  \\\n",
       "0  debris_cov  121031.0  G006338E44942N  2013-03-25T00:00:00  0.0041   \n",
       "1  debris_cov  121554.0  G006337E44931N  2013-03-20T00:00:00  1.9080   \n",
       "2  debris_cov  121554.0  G006337E44931N  2013-03-20T00:00:00  1.9080   \n",
       "3  debris_cov  121367.0  G006992E45913N  2013-03-25T00:00:00  7.6856   \n",
       "4  debris_cov  121128.0  G006340E45124N  2013-03-25T00:00:00  0.1238   \n",
       "\n",
       "    db_area  width     length  primeclass  min_elev  ...  rc_id    geog_area  \\\n",
       "0  0.010639    0.0    61.1478         0.0    3040.0  ...   33.0  French Alps   \n",
       "1  1.907390    0.0  3558.5700         0.0    2434.0  ...   33.0  French Alps   \n",
       "2  1.907390    0.0  3558.5700         0.0    2434.0  ...   33.0  French Alps   \n",
       "3  7.687140    0.0  5010.4600         0.0    2276.0  ...   33.0  French Alps   \n",
       "4  0.123768    0.0   670.7820         0.0    2807.0  ...   33.0  French Alps   \n",
       "\n",
       "                                          chief_affl loc_unc_x loc_unc_y  \\\n",
       "0  Laboratoire de Glaciologie et Géophysique de l...        30        30   \n",
       "1  Laboratoire de Glaciologie et Géophysique de l...        30        30   \n",
       "2  Laboratoire de Glaciologie et Géophysique de l...        30        30   \n",
       "3  Laboratoire de Glaciologie et Géophysique de l...        30        30   \n",
       "4  Laboratoire de Glaciologie et Géophysique de l...        30        30   \n",
       "\n",
       "  glob_unc_x glob_unc_y        submitters          analysts  \\\n",
       "0         30         30  Rabatel, Antoine  Rabatel, Antoine   \n",
       "1         30         30  Rabatel, Antoine  Rabatel, Antoine   \n",
       "2         30         30  Rabatel, Antoine  Rabatel, Antoine   \n",
       "3         30         30  Rabatel, Antoine  Rabatel, Antoine   \n",
       "4         30         30  Rabatel, Antoine  Rabatel, Antoine   \n",
       "\n",
       "                                            geometry  \n",
       "0  POLYGON Z ((6.339466 44.942715 0, 6.339479 44....  \n",
       "1  POLYGON Z ((6.341819 44.932777 0, 6.341794 44....  \n",
       "2  POLYGON Z ((6.343297 44.93374 0, 6.34329 44.93...  \n",
       "3  POLYGON Z ((6.989013 45.91748 0, 6.988627 45.9...  \n",
       "4  POLYGON Z ((6.343491 45.121894 0, 6.343597 45....  \n",
       "\n",
       "[5 rows x 31 columns]"
      ]
     },
     "execution_count": 2,
     "metadata": {},
     "output_type": "execute_result"
    }
   ],
   "source": [
    "# Open GLIMS polygons using geopandas\n",
    "glims_file_path = \"data/glims/raw/glims_download_20190304/glims_polygons.shp\"\n",
    "glims_polygons = gpd.read_file(glims_file_path)\n",
    "glims_polygons.head()"
   ]
  },
  {
   "cell_type": "code",
   "execution_count": 3,
   "metadata": {},
   "outputs": [
    {
     "data": {
      "text/html": [
       "<div>\n",
       "<style scoped>\n",
       "    .dataframe tbody tr th:only-of-type {\n",
       "        vertical-align: middle;\n",
       "    }\n",
       "\n",
       "    .dataframe tbody tr th {\n",
       "        vertical-align: top;\n",
       "    }\n",
       "\n",
       "    .dataframe thead th {\n",
       "        text-align: right;\n",
       "    }\n",
       "</style>\n",
       "<table border=\"1\" class=\"dataframe\">\n",
       "  <thead>\n",
       "    <tr style=\"text-align: right;\">\n",
       "      <th></th>\n",
       "      <th>FULL_NAME</th>\n",
       "      <th>RGI_CODE</th>\n",
       "      <th>WGMS_CODE</th>\n",
       "      <th>geometry</th>\n",
       "    </tr>\n",
       "  </thead>\n",
       "  <tbody>\n",
       "    <tr>\n",
       "      <th>0</th>\n",
       "      <td>Alaska</td>\n",
       "      <td>1</td>\n",
       "      <td>ALA</td>\n",
       "      <td>POLYGON ((-133 54.5, -134 54.5, -134 54, -134 ...</td>\n",
       "    </tr>\n",
       "    <tr>\n",
       "      <th>1</th>\n",
       "      <td>Western Canada and USA</td>\n",
       "      <td>2</td>\n",
       "      <td>WNA</td>\n",
       "      <td>POLYGON ((-133 54.5, -132 54.5, -131 54.5, -13...</td>\n",
       "    </tr>\n",
       "    <tr>\n",
       "      <th>2</th>\n",
       "      <td>Arctic Canada, North</td>\n",
       "      <td>3</td>\n",
       "      <td>ACN</td>\n",
       "      <td>POLYGON ((-125.000000000415 74, -125.000000000...</td>\n",
       "    </tr>\n",
       "    <tr>\n",
       "      <th>3</th>\n",
       "      <td>Arctic Canada, South</td>\n",
       "      <td>4</td>\n",
       "      <td>ACS</td>\n",
       "      <td>POLYGON ((-90 74, -89 74, -88 74, -87 74, -86 ...</td>\n",
       "    </tr>\n",
       "    <tr>\n",
       "      <th>4</th>\n",
       "      <td>Greenland Periphery</td>\n",
       "      <td>5</td>\n",
       "      <td>GRL</td>\n",
       "      <td>POLYGON ((-75 77, -74.73 77.51000000000001, -7...</td>\n",
       "    </tr>\n",
       "    <tr>\n",
       "      <th>5</th>\n",
       "      <td>Iceland</td>\n",
       "      <td>6</td>\n",
       "      <td>ISL</td>\n",
       "      <td>POLYGON ((-26 59, -26 60, -26 61, -26 62, -26 ...</td>\n",
       "    </tr>\n",
       "    <tr>\n",
       "      <th>6</th>\n",
       "      <td>Svalbard and Jan Mayen</td>\n",
       "      <td>7</td>\n",
       "      <td>SJM</td>\n",
       "      <td>POLYGON ((-10 70, -10 71, -10 72, -10 73, -10 ...</td>\n",
       "    </tr>\n",
       "    <tr>\n",
       "      <th>7</th>\n",
       "      <td>Scandinavia</td>\n",
       "      <td>8</td>\n",
       "      <td>SCA</td>\n",
       "      <td>POLYGON ((4 70, 4 71, 4 72, 4 73, 4 74, 5 74, ...</td>\n",
       "    </tr>\n",
       "    <tr>\n",
       "      <th>8</th>\n",
       "      <td>Russian Arctic</td>\n",
       "      <td>9</td>\n",
       "      <td>RUA</td>\n",
       "      <td>POLYGON ((35 70, 35 71, 35 72, 35 73, 35 74, 3...</td>\n",
       "    </tr>\n",
       "    <tr>\n",
       "      <th>9</th>\n",
       "      <td>Asia, North</td>\n",
       "      <td>10</td>\n",
       "      <td>ASN</td>\n",
       "      <td>POLYGON ((128 46, 127.000000000178 46, 125.999...</td>\n",
       "    </tr>\n",
       "    <tr>\n",
       "      <th>10</th>\n",
       "      <td>Central Europe</td>\n",
       "      <td>11</td>\n",
       "      <td>CEU</td>\n",
       "      <td>POLYGON ((-6 40, -6 41, -6 42, -6 43, -6 44, -...</td>\n",
       "    </tr>\n",
       "    <tr>\n",
       "      <th>11</th>\n",
       "      <td>Caucasus and Middle East</td>\n",
       "      <td>12</td>\n",
       "      <td>CAU</td>\n",
       "      <td>POLYGON ((32 31, 32 32, 32 33, 32 34, 32 35, 3...</td>\n",
       "    </tr>\n",
       "    <tr>\n",
       "      <th>12</th>\n",
       "      <td>Asia, Central</td>\n",
       "      <td>13</td>\n",
       "      <td>ASC</td>\n",
       "      <td>POLYGON ((80 46, 81 46, 82 46, 83 46, 84 46, 8...</td>\n",
       "    </tr>\n",
       "    <tr>\n",
       "      <th>13</th>\n",
       "      <td>Asia, South West</td>\n",
       "      <td>14</td>\n",
       "      <td>ASW</td>\n",
       "      <td>POLYGON ((75.40000000000001 26, 75 26, 74 26, ...</td>\n",
       "    </tr>\n",
       "    <tr>\n",
       "      <th>14</th>\n",
       "      <td>Asia, South East</td>\n",
       "      <td>15</td>\n",
       "      <td>ASE</td>\n",
       "      <td>POLYGON ((75.40000000000001 26, 75.40000000000...</td>\n",
       "    </tr>\n",
       "    <tr>\n",
       "      <th>15</th>\n",
       "      <td>Low Latitudes</td>\n",
       "      <td>16</td>\n",
       "      <td>TRP</td>\n",
       "      <td>POLYGON ((-100 -25, -100 -24, -100 -23, -100 -...</td>\n",
       "    </tr>\n",
       "    <tr>\n",
       "      <th>16</th>\n",
       "      <td>Southern Andes</td>\n",
       "      <td>17</td>\n",
       "      <td>SAN</td>\n",
       "      <td>POLYGON ((-62 -45.5, -62 -46, -62 -47, -62 -48...</td>\n",
       "    </tr>\n",
       "    <tr>\n",
       "      <th>17</th>\n",
       "      <td>New Zealand</td>\n",
       "      <td>18</td>\n",
       "      <td>NZL</td>\n",
       "      <td>POLYGON ((179 -49, 178 -49, 177 -49, 176 -49, ...</td>\n",
       "    </tr>\n",
       "    <tr>\n",
       "      <th>18</th>\n",
       "      <td>Antarctic and Subantarctic</td>\n",
       "      <td>19</td>\n",
       "      <td>ANT</td>\n",
       "      <td>POLYGON ((-180 -45.5, -179 -45.5, -178 -45.5, ...</td>\n",
       "    </tr>\n",
       "  </tbody>\n",
       "</table>\n",
       "</div>"
      ],
      "text/plain": [
       "                     FULL_NAME  RGI_CODE WGMS_CODE  \\\n",
       "0                       Alaska         1       ALA   \n",
       "1       Western Canada and USA         2       WNA   \n",
       "2         Arctic Canada, North         3       ACN   \n",
       "3         Arctic Canada, South         4       ACS   \n",
       "4          Greenland Periphery         5       GRL   \n",
       "5                      Iceland         6       ISL   \n",
       "6       Svalbard and Jan Mayen         7       SJM   \n",
       "7                  Scandinavia         8       SCA   \n",
       "8               Russian Arctic         9       RUA   \n",
       "9                  Asia, North        10       ASN   \n",
       "10              Central Europe        11       CEU   \n",
       "11    Caucasus and Middle East        12       CAU   \n",
       "12               Asia, Central        13       ASC   \n",
       "13            Asia, South West        14       ASW   \n",
       "14            Asia, South East        15       ASE   \n",
       "15               Low Latitudes        16       TRP   \n",
       "16              Southern Andes        17       SAN   \n",
       "17                 New Zealand        18       NZL   \n",
       "18  Antarctic and Subantarctic        19       ANT   \n",
       "\n",
       "                                             geometry  \n",
       "0   POLYGON ((-133 54.5, -134 54.5, -134 54, -134 ...  \n",
       "1   POLYGON ((-133 54.5, -132 54.5, -131 54.5, -13...  \n",
       "2   POLYGON ((-125.000000000415 74, -125.000000000...  \n",
       "3   POLYGON ((-90 74, -89 74, -88 74, -87 74, -86 ...  \n",
       "4   POLYGON ((-75 77, -74.73 77.51000000000001, -7...  \n",
       "5   POLYGON ((-26 59, -26 60, -26 61, -26 62, -26 ...  \n",
       "6   POLYGON ((-10 70, -10 71, -10 72, -10 73, -10 ...  \n",
       "7   POLYGON ((4 70, 4 71, 4 72, 4 73, 4 74, 5 74, ...  \n",
       "8   POLYGON ((35 70, 35 71, 35 72, 35 73, 35 74, 3...  \n",
       "9   POLYGON ((128 46, 127.000000000178 46, 125.999...  \n",
       "10  POLYGON ((-6 40, -6 41, -6 42, -6 43, -6 44, -...  \n",
       "11  POLYGON ((32 31, 32 32, 32 33, 32 34, 32 35, 3...  \n",
       "12  POLYGON ((80 46, 81 46, 82 46, 83 46, 84 46, 8...  \n",
       "13  POLYGON ((75.40000000000001 26, 75 26, 74 26, ...  \n",
       "14  POLYGON ((75.40000000000001 26, 75.40000000000...  \n",
       "15  POLYGON ((-100 -25, -100 -24, -100 -23, -100 -...  \n",
       "16  POLYGON ((-62 -45.5, -62 -46, -62 -47, -62 -48...  \n",
       "17  POLYGON ((179 -49, 178 -49, 177 -49, 176 -49, ...  \n",
       "18  POLYGON ((-180 -45.5, -179 -45.5, -178 -45.5, ...  "
      ]
     },
     "execution_count": 3,
     "metadata": {},
     "output_type": "execute_result"
    }
   ],
   "source": [
    "# Open cleaned GTN-G region shapefile\n",
    "cleaned_glacier_regions_fp = \"data/gtn-g-glacier-regions/cleaned/GTN-G_glacier_regions_201707_cleaned.shp\"\n",
    "glacier_regions_cleaned = gpd.read_file(cleaned_glacier_regions_fp)\n",
    "glacier_regions_cleaned"
   ]
  },
  {
   "cell_type": "code",
   "execution_count": 4,
   "metadata": {},
   "outputs": [
    {
     "data": {
      "text/html": [
       "<div>\n",
       "<style scoped>\n",
       "    .dataframe tbody tr th:only-of-type {\n",
       "        vertical-align: middle;\n",
       "    }\n",
       "\n",
       "    .dataframe tbody tr th {\n",
       "        vertical-align: top;\n",
       "    }\n",
       "\n",
       "    .dataframe thead th {\n",
       "        text-align: right;\n",
       "    }\n",
       "</style>\n",
       "<table border=\"1\" class=\"dataframe\">\n",
       "  <thead>\n",
       "    <tr style=\"text-align: right;\">\n",
       "      <th></th>\n",
       "      <th>FULL_NAME</th>\n",
       "      <th>RGI_CODE</th>\n",
       "      <th>WGMS_CODE</th>\n",
       "      <th>geometry</th>\n",
       "    </tr>\n",
       "  </thead>\n",
       "  <tbody>\n",
       "    <tr>\n",
       "      <th>0</th>\n",
       "      <td>Alaska</td>\n",
       "      <td>1</td>\n",
       "      <td>ALA</td>\n",
       "      <td>POLYGON ((-133 54.5, -134 54.5, -134 54, -134 ...</td>\n",
       "    </tr>\n",
       "  </tbody>\n",
       "</table>\n",
       "</div>"
      ],
      "text/plain": [
       "  FULL_NAME  RGI_CODE WGMS_CODE  \\\n",
       "0    Alaska         1       ALA   \n",
       "\n",
       "                                            geometry  \n",
       "0  POLYGON ((-133 54.5, -134 54.5, -134 54, -134 ...  "
      ]
     },
     "execution_count": 4,
     "metadata": {},
     "output_type": "execute_result"
    }
   ],
   "source": [
    "# Region 1 - Alaska\n",
    "region_1 = glacier_regions_cleaned[glacier_regions_cleaned.FULL_NAME == 'Alaska']\n",
    "region_1"
   ]
  },
  {
   "cell_type": "code",
   "execution_count": 5,
   "metadata": {},
   "outputs": [
    {
     "data": {
      "text/plain": [
       "383780"
      ]
     },
     "execution_count": 5,
     "metadata": {},
     "output_type": "execute_result"
    }
   ],
   "source": [
    "# Instead of looping try doing all the polygons at once. This is way faster\n",
    "#region_1_pip_mask = glims_polygons.buffer(0).within(region_1.loc[0, 'geometry'])\n",
    "region_1_pip_mask = ws.pip(glims_polygons, region_1)\n",
    "len(region_1_pip_mask)"
   ]
  },
  {
   "cell_type": "code",
   "execution_count": 6,
   "metadata": {},
   "outputs": [
    {
     "data": {
      "text/plain": [
       "pandas.core.series.Series"
      ]
     },
     "execution_count": 6,
     "metadata": {},
     "output_type": "execute_result"
    }
   ],
   "source": [
    "type(region_1_pip_mask)"
   ]
  },
  {
   "cell_type": "code",
   "execution_count": 7,
   "metadata": {},
   "outputs": [
    {
     "data": {
      "text/plain": [
       "44769"
      ]
     },
     "execution_count": 7,
     "metadata": {},
     "output_type": "execute_result"
    }
   ],
   "source": [
    "# How many glims polygons are in region 1\n",
    "region_1_true = region_1_pip_mask[region_1_pip_mask].index\n",
    "len(region_1_true)"
   ]
  },
  {
   "cell_type": "code",
   "execution_count": 8,
   "metadata": {},
   "outputs": [
    {
     "data": {
      "text/plain": [
       "(44769, 31)"
      ]
     },
     "execution_count": 8,
     "metadata": {},
     "output_type": "execute_result"
    }
   ],
   "source": [
    "# Pass pip_mask into glims_polygons to get the ones that are in region 1\n",
    "glims_region_1 = glims_polygons.loc[region_1_pip_mask]\n",
    "glims_region_1.shape"
   ]
  },
  {
   "cell_type": "code",
   "execution_count": 9,
   "metadata": {},
   "outputs": [
    {
     "data": {
      "text/plain": [
       "geopandas.geodataframe.GeoDataFrame"
      ]
     },
     "execution_count": 9,
     "metadata": {},
     "output_type": "execute_result"
    }
   ],
   "source": [
    "type(glims_region_1)"
   ]
  },
  {
   "cell_type": "code",
   "execution_count": 10,
   "metadata": {},
   "outputs": [],
   "source": [
    "# Save glims outlines in region 1 to a shapefile\n",
    "# This isn't returning any errors but it also isn't saving a file\n",
    "glims_region_1_fp = \"data/glims/processed/glims_region_1.shp\"\n",
    "glims_region_1.to_file(driver = 'ESRI Shapefile', filename= glims_region_1_fp)"
   ]
  },
  {
   "cell_type": "code",
   "execution_count": 11,
   "metadata": {},
   "outputs": [
    {
     "data": {
      "text/html": [
       "<div>\n",
       "<style scoped>\n",
       "    .dataframe tbody tr th:only-of-type {\n",
       "        vertical-align: middle;\n",
       "    }\n",
       "\n",
       "    .dataframe tbody tr th {\n",
       "        vertical-align: top;\n",
       "    }\n",
       "\n",
       "    .dataframe thead th {\n",
       "        text-align: right;\n",
       "    }\n",
       "</style>\n",
       "<table border=\"1\" class=\"dataframe\">\n",
       "  <thead>\n",
       "    <tr style=\"text-align: right;\">\n",
       "      <th></th>\n",
       "      <th>line_type</th>\n",
       "      <th>anlys_id</th>\n",
       "      <th>glac_id</th>\n",
       "      <th>anlys_time</th>\n",
       "      <th>area</th>\n",
       "      <th>db_area</th>\n",
       "      <th>width</th>\n",
       "      <th>length</th>\n",
       "      <th>primeclass</th>\n",
       "      <th>min_elev</th>\n",
       "      <th>...</th>\n",
       "      <th>rc_id</th>\n",
       "      <th>geog_area</th>\n",
       "      <th>chief_affl</th>\n",
       "      <th>loc_unc_x</th>\n",
       "      <th>loc_unc_y</th>\n",
       "      <th>glob_unc_x</th>\n",
       "      <th>glob_unc_y</th>\n",
       "      <th>submitters</th>\n",
       "      <th>analysts</th>\n",
       "      <th>geometry</th>\n",
       "    </tr>\n",
       "  </thead>\n",
       "  <tbody>\n",
       "    <tr>\n",
       "      <th>0</th>\n",
       "      <td>debris_cov</td>\n",
       "      <td>58036.0</td>\n",
       "      <td>G223237E58554N</td>\n",
       "      <td>2006-05-25T07:48:23</td>\n",
       "      <td>0.0</td>\n",
       "      <td>495.176</td>\n",
       "      <td>0.0</td>\n",
       "      <td>0.0</td>\n",
       "      <td>4.0</td>\n",
       "      <td>0.0</td>\n",
       "      <td>...</td>\n",
       "      <td>602.0</td>\n",
       "      <td>Various (NSIDC)</td>\n",
       "      <td>University of Colorado</td>\n",
       "      <td>0</td>\n",
       "      <td>0</td>\n",
       "      <td>0</td>\n",
       "      <td>0</td>\n",
       "      <td>Beedle, Matthew</td>\n",
       "      <td>Beedle, Matthew</td>\n",
       "      <td>POLYGON Z ((-136.675873 58.385483 0, -136.6753...</td>\n",
       "    </tr>\n",
       "    <tr>\n",
       "      <th>1</th>\n",
       "      <td>debris_cov</td>\n",
       "      <td>60414.0</td>\n",
       "      <td>G219795E60080N</td>\n",
       "      <td>2007-08-10T02:33:33</td>\n",
       "      <td>0.0</td>\n",
       "      <td>297.560</td>\n",
       "      <td>0.0</td>\n",
       "      <td>0.0</td>\n",
       "      <td>5.0</td>\n",
       "      <td>0.0</td>\n",
       "      <td>...</td>\n",
       "      <td>602.0</td>\n",
       "      <td>Various (NSIDC)</td>\n",
       "      <td>University of Colorado</td>\n",
       "      <td>0</td>\n",
       "      <td>0</td>\n",
       "      <td>0</td>\n",
       "      <td>0</td>\n",
       "      <td>Beedle, Matthew</td>\n",
       "      <td>Beedle, Matthew</td>\n",
       "      <td>POLYGON Z ((-140.10202 59.96069 0, -140.10102 ...</td>\n",
       "    </tr>\n",
       "    <tr>\n",
       "      <th>2</th>\n",
       "      <td>debris_cov</td>\n",
       "      <td>53065.0</td>\n",
       "      <td>G222829E58804N</td>\n",
       "      <td>2006-05-29T19:01:21</td>\n",
       "      <td>0.0</td>\n",
       "      <td>162.882</td>\n",
       "      <td>0.0</td>\n",
       "      <td>0.0</td>\n",
       "      <td>5.0</td>\n",
       "      <td>0.0</td>\n",
       "      <td>...</td>\n",
       "      <td>602.0</td>\n",
       "      <td>Various (NSIDC)</td>\n",
       "      <td>University of Colorado</td>\n",
       "      <td>0</td>\n",
       "      <td>0</td>\n",
       "      <td>0</td>\n",
       "      <td>0</td>\n",
       "      <td>Beedle, Matthew</td>\n",
       "      <td>Beedle, Matthew</td>\n",
       "      <td>POLYGON Z ((-137.260638 58.805875 0, -137.2596...</td>\n",
       "    </tr>\n",
       "    <tr>\n",
       "      <th>3</th>\n",
       "      <td>debris_cov</td>\n",
       "      <td>58036.0</td>\n",
       "      <td>G223237E58554N</td>\n",
       "      <td>2006-05-25T07:48:23</td>\n",
       "      <td>0.0</td>\n",
       "      <td>495.176</td>\n",
       "      <td>0.0</td>\n",
       "      <td>0.0</td>\n",
       "      <td>4.0</td>\n",
       "      <td>0.0</td>\n",
       "      <td>...</td>\n",
       "      <td>602.0</td>\n",
       "      <td>Various (NSIDC)</td>\n",
       "      <td>University of Colorado</td>\n",
       "      <td>0</td>\n",
       "      <td>0</td>\n",
       "      <td>0</td>\n",
       "      <td>0</td>\n",
       "      <td>Beedle, Matthew</td>\n",
       "      <td>Beedle, Matthew</td>\n",
       "      <td>POLYGON Z ((-136.662581 58.464275 0, -136.6641...</td>\n",
       "    </tr>\n",
       "    <tr>\n",
       "      <th>4</th>\n",
       "      <td>debris_cov</td>\n",
       "      <td>58036.0</td>\n",
       "      <td>G223237E58554N</td>\n",
       "      <td>2006-05-25T07:48:23</td>\n",
       "      <td>0.0</td>\n",
       "      <td>495.176</td>\n",
       "      <td>0.0</td>\n",
       "      <td>0.0</td>\n",
       "      <td>4.0</td>\n",
       "      <td>0.0</td>\n",
       "      <td>...</td>\n",
       "      <td>602.0</td>\n",
       "      <td>Various (NSIDC)</td>\n",
       "      <td>University of Colorado</td>\n",
       "      <td>0</td>\n",
       "      <td>0</td>\n",
       "      <td>0</td>\n",
       "      <td>0</td>\n",
       "      <td>Beedle, Matthew</td>\n",
       "      <td>Beedle, Matthew</td>\n",
       "      <td>POLYGON Z ((-136.652551 58.490007 0, -136.6538...</td>\n",
       "    </tr>\n",
       "  </tbody>\n",
       "</table>\n",
       "<p>5 rows × 31 columns</p>\n",
       "</div>"
      ],
      "text/plain": [
       "    line_type  anlys_id         glac_id           anlys_time  area  db_area  \\\n",
       "0  debris_cov   58036.0  G223237E58554N  2006-05-25T07:48:23   0.0  495.176   \n",
       "1  debris_cov   60414.0  G219795E60080N  2007-08-10T02:33:33   0.0  297.560   \n",
       "2  debris_cov   53065.0  G222829E58804N  2006-05-29T19:01:21   0.0  162.882   \n",
       "3  debris_cov   58036.0  G223237E58554N  2006-05-25T07:48:23   0.0  495.176   \n",
       "4  debris_cov   58036.0  G223237E58554N  2006-05-25T07:48:23   0.0  495.176   \n",
       "\n",
       "   width  length  primeclass  min_elev  ...  rc_id        geog_area  \\\n",
       "0    0.0     0.0         4.0       0.0  ...  602.0  Various (NSIDC)   \n",
       "1    0.0     0.0         5.0       0.0  ...  602.0  Various (NSIDC)   \n",
       "2    0.0     0.0         5.0       0.0  ...  602.0  Various (NSIDC)   \n",
       "3    0.0     0.0         4.0       0.0  ...  602.0  Various (NSIDC)   \n",
       "4    0.0     0.0         4.0       0.0  ...  602.0  Various (NSIDC)   \n",
       "\n",
       "               chief_affl loc_unc_x loc_unc_y glob_unc_x glob_unc_y  \\\n",
       "0  University of Colorado         0         0          0          0   \n",
       "1  University of Colorado         0         0          0          0   \n",
       "2  University of Colorado         0         0          0          0   \n",
       "3  University of Colorado         0         0          0          0   \n",
       "4  University of Colorado         0         0          0          0   \n",
       "\n",
       "        submitters         analysts  \\\n",
       "0  Beedle, Matthew  Beedle, Matthew   \n",
       "1  Beedle, Matthew  Beedle, Matthew   \n",
       "2  Beedle, Matthew  Beedle, Matthew   \n",
       "3  Beedle, Matthew  Beedle, Matthew   \n",
       "4  Beedle, Matthew  Beedle, Matthew   \n",
       "\n",
       "                                            geometry  \n",
       "0  POLYGON Z ((-136.675873 58.385483 0, -136.6753...  \n",
       "1  POLYGON Z ((-140.10202 59.96069 0, -140.10102 ...  \n",
       "2  POLYGON Z ((-137.260638 58.805875 0, -137.2596...  \n",
       "3  POLYGON Z ((-136.662581 58.464275 0, -136.6641...  \n",
       "4  POLYGON Z ((-136.652551 58.490007 0, -136.6538...  \n",
       "\n",
       "[5 rows x 31 columns]"
      ]
     },
     "execution_count": 11,
     "metadata": {},
     "output_type": "execute_result"
    }
   ],
   "source": [
    "# Open file to see if the save worked\n",
    "glims_polygons_r1 = gpd.read_file(glims_region_1_fp)\n",
    "glims_polygons_r1.head()"
   ]
  },
  {
   "cell_type": "code",
   "execution_count": 12,
   "metadata": {},
   "outputs": [
    {
     "data": {
      "text/plain": [
       "(44769, 31)"
      ]
     },
     "execution_count": 12,
     "metadata": {},
     "output_type": "execute_result"
    }
   ],
   "source": [
    "glims_polygons_r1.shape"
   ]
  },
  {
   "cell_type": "markdown",
   "metadata": {},
   "source": [
    "# Random snippets of test code below.\n",
    "Not needed for processing, just testing code."
   ]
  },
  {
   "cell_type": "code",
   "execution_count": 13,
   "metadata": {},
   "outputs": [],
   "source": [
    "# Loop through each glims polygon to see if it is within region 1. Note: found a better way\n",
    "#for index, row in glims_polygons.iterrows():\n",
    "    # Get the outline for the current index and buffer it in case the outline isn't valid - buffering will make it valid\n",
    "#    buffered_outline = glims_polygons.loc[index, 'geometry'].buffer(0)\n",
    "#    boolean = buffered_outline.within(region_1.loc[0, 'geometry'])\n",
    "#    if boolean:\n",
    "#        print(index)   "
   ]
  },
  {
   "cell_type": "code",
   "execution_count": 14,
   "metadata": {},
   "outputs": [
    {
     "data": {
      "image/svg+xml": [
       "<svg xmlns=\"http://www.w3.org/2000/svg\" xmlns:xlink=\"http://www.w3.org/1999/xlink\" width=\"100.0\" height=\"100.0\" viewBox=\"6.33863988 44.94184188 0.0012452400000002584 0.0012082400000039684\" preserveAspectRatio=\"xMinYMin meet\"><g transform=\"matrix(1,0,0,-1,0,89.88489200000001)\"><path fill-rule=\"evenodd\" fill=\"#66cc99\" stroke=\"#555555\" stroke-width=\"2.4904800000005166e-05\" opacity=\"0.6\" d=\"M 6.339466,44.942715 L 6.339479,44.942434 L 6.339117,44.942434 L 6.33912,44.941895 L 6.338815,44.941888 L 6.338721,44.94195 L 6.338686,44.94297 L 6.339815,44.943004 L 6.339839,44.942731 L 6.339466,44.942715 z\" /></g></svg>"
      ],
      "text/plain": [
       "<shapely.geometry.polygon.Polygon at 0x18759874080>"
      ]
     },
     "execution_count": 14,
     "metadata": {},
     "output_type": "execute_result"
    }
   ],
   "source": [
    "outline_0 = glims_polygons.loc[0, 'geometry']\n",
    "outline_0"
   ]
  },
  {
   "cell_type": "code",
   "execution_count": 15,
   "metadata": {},
   "outputs": [
    {
     "data": {
      "text/plain": [
       "shapely.geometry.polygon.Polygon"
      ]
     },
     "execution_count": 15,
     "metadata": {},
     "output_type": "execute_result"
    }
   ],
   "source": [
    "type(outline_0)"
   ]
  },
  {
   "cell_type": "code",
   "execution_count": 16,
   "metadata": {},
   "outputs": [
    {
     "data": {
      "text/plain": [
       "geopandas.geodataframe.GeoDataFrame"
      ]
     },
     "execution_count": 16,
     "metadata": {},
     "output_type": "execute_result"
    }
   ],
   "source": [
    "type(region_1)"
   ]
  },
  {
   "cell_type": "code",
   "execution_count": 17,
   "metadata": {},
   "outputs": [
    {
     "data": {
      "text/plain": [
       "0    False\n",
       "dtype: bool"
      ]
     },
     "execution_count": 17,
     "metadata": {},
     "output_type": "execute_result"
    }
   ],
   "source": [
    "# Check if outline_0 is within region 1\n",
    "boolean1 = region_1.contains(outline_0)\n",
    "boolean1"
   ]
  },
  {
   "cell_type": "code",
   "execution_count": 18,
   "metadata": {},
   "outputs": [
    {
     "data": {
      "text/plain": [
       "0       False\n",
       "5019    False\n",
       "dtype: bool"
      ]
     },
     "execution_count": 18,
     "metadata": {},
     "output_type": "execute_result"
    }
   ],
   "source": [
    "# Check that muir glacier is within region 1. It should be\n",
    "# Get the 20100915 outline for Muir Glacier\n",
    "muir_glacier_20100915 = glims_polygons[(\n",
    "    glims_polygons['src_date'] == \"2010-09-15T00:00:00\") & (glims_polygons['glac_name'] == \"Muir Glacier\")]\n",
    "# check for containment. for some reason this returns false\n",
    "boolean2 = region_1.contains(muir_glacier_20100915)\n",
    "boolean2"
   ]
  },
  {
   "cell_type": "code",
   "execution_count": 19,
   "metadata": {},
   "outputs": [
    {
     "data": {
      "text/plain": [
       "5019    True\n",
       "dtype: bool"
      ]
     },
     "execution_count": 19,
     "metadata": {},
     "output_type": "execute_result"
    }
   ],
   "source": [
    "# Trying the within function instead fo the contains function. This seemed to work\n",
    "boolean3 = muir_glacier_20100915.within(region_1.loc[0, 'geometry'])\n",
    "boolean3"
   ]
  },
  {
   "cell_type": "code",
   "execution_count": 20,
   "metadata": {},
   "outputs": [
    {
     "data": {
      "text/html": [
       "<div>\n",
       "<style scoped>\n",
       "    .dataframe tbody tr th:only-of-type {\n",
       "        vertical-align: middle;\n",
       "    }\n",
       "\n",
       "    .dataframe tbody tr th {\n",
       "        vertical-align: top;\n",
       "    }\n",
       "\n",
       "    .dataframe thead th {\n",
       "        text-align: right;\n",
       "    }\n",
       "</style>\n",
       "<table border=\"1\" class=\"dataframe\">\n",
       "  <thead>\n",
       "    <tr style=\"text-align: right;\">\n",
       "      <th></th>\n",
       "      <th>line_type</th>\n",
       "      <th>anlys_id</th>\n",
       "      <th>glac_id</th>\n",
       "      <th>anlys_time</th>\n",
       "      <th>area</th>\n",
       "      <th>db_area</th>\n",
       "      <th>width</th>\n",
       "      <th>length</th>\n",
       "      <th>primeclass</th>\n",
       "      <th>min_elev</th>\n",
       "      <th>...</th>\n",
       "      <th>rc_id</th>\n",
       "      <th>geog_area</th>\n",
       "      <th>chief_affl</th>\n",
       "      <th>loc_unc_x</th>\n",
       "      <th>loc_unc_y</th>\n",
       "      <th>glob_unc_x</th>\n",
       "      <th>glob_unc_y</th>\n",
       "      <th>submitters</th>\n",
       "      <th>analysts</th>\n",
       "      <th>geometry</th>\n",
       "    </tr>\n",
       "  </thead>\n",
       "  <tbody>\n",
       "    <tr>\n",
       "      <th>116960</th>\n",
       "      <td>glac_bound</td>\n",
       "      <td>370856.0</td>\n",
       "      <td>G209688E60011N</td>\n",
       "      <td>2010-06-30T00:00:00</td>\n",
       "      <td>0.08</td>\n",
       "      <td>-0.020692</td>\n",
       "      <td>0.0</td>\n",
       "      <td>0.0</td>\n",
       "      <td>0.0</td>\n",
       "      <td>0.0</td>\n",
       "      <td>...</td>\n",
       "      <td>561.0</td>\n",
       "      <td>Various (GlobGlacier)</td>\n",
       "      <td>University of Zurich-Irchel</td>\n",
       "      <td>30</td>\n",
       "      <td>30</td>\n",
       "      <td>60</td>\n",
       "      <td>60</td>\n",
       "      <td>Paul, Frank</td>\n",
       "      <td>Frey, Holger; Le Bris, Raymond; Paul, Frank</td>\n",
       "      <td>POLYGON Z ((-150.315472 60.013026 0, -150.3154...</td>\n",
       "    </tr>\n",
       "  </tbody>\n",
       "</table>\n",
       "<p>1 rows × 31 columns</p>\n",
       "</div>"
      ],
      "text/plain": [
       "         line_type  anlys_id         glac_id           anlys_time  area  \\\n",
       "116960  glac_bound  370856.0  G209688E60011N  2010-06-30T00:00:00  0.08   \n",
       "\n",
       "         db_area  width  length  primeclass  min_elev  ...  rc_id  \\\n",
       "116960 -0.020692    0.0     0.0         0.0       0.0  ...  561.0   \n",
       "\n",
       "                    geog_area                   chief_affl loc_unc_x  \\\n",
       "116960  Various (GlobGlacier)  University of Zurich-Irchel        30   \n",
       "\n",
       "       loc_unc_y glob_unc_x glob_unc_y   submitters  \\\n",
       "116960        30         60         60  Paul, Frank   \n",
       "\n",
       "                                           analysts  \\\n",
       "116960  Frey, Holger; Le Bris, Raymond; Paul, Frank   \n",
       "\n",
       "                                                 geometry  \n",
       "116960  POLYGON Z ((-150.315472 60.013026 0, -150.3154...  \n",
       "\n",
       "[1 rows x 31 columns]"
      ]
     },
     "execution_count": 20,
     "metadata": {},
     "output_type": "execute_result"
    }
   ],
   "source": [
    "# the polygon at index 116960 keeps causing a topological error for the within function. check out why\n",
    "outline_116960 = glims_polygons.iloc[116960:116961]\n",
    "outline_116960"
   ]
  },
  {
   "cell_type": "code",
   "execution_count": 21,
   "metadata": {},
   "outputs": [
    {
     "data": {
      "text/plain": [
       "True"
      ]
     },
     "execution_count": 21,
     "metadata": {},
     "output_type": "execute_result"
    }
   ],
   "source": [
    "# test if I can add buffer to this call\n",
    "# outline = glims_polygons.loc[index, 'geometry']\n",
    "outline = glims_polygons.loc[116960, 'geometry'].buffer(0)\n",
    "outline.is_valid"
   ]
  },
  {
   "cell_type": "code",
   "execution_count": 22,
   "metadata": {},
   "outputs": [
    {
     "name": "stdout",
     "output_type": "stream",
     "text": [
      "116960    POLYGON Z ((-150.315472 60.013026 0, -150.3154...\n",
      "Name: geometry, dtype: object\n"
     ]
    }
   ],
   "source": [
    "# How do I see the whole geometry? Try writing out to wkt or geojson text files. Also try the make example from week 8 where wrote out to csv file\n",
    "print(outline_116960['geometry'])"
   ]
  },
  {
   "cell_type": "code",
   "execution_count": 23,
   "metadata": {},
   "outputs": [
    {
     "data": {
      "text/plain": [
       "<matplotlib.axes._subplots.AxesSubplot at 0x187750c7f28>"
      ]
     },
     "execution_count": 23,
     "metadata": {},
     "output_type": "execute_result"
    },
    {
     "data": {
      "image/png": "[encoded data removed]",
      "text/plain": [
       "<Figure size 432x288 with 1 Axes>"
      ]
     },
     "metadata": {
      "needs_background": "light"
     },
     "output_type": "display_data"
    }
   ],
   "source": [
    "# \n",
    "outline_116960.plot(facecolor=\"red\", edgecolor=\"grey\")"
   ]
  },
  {
   "cell_type": "code",
   "execution_count": 24,
   "metadata": {},
   "outputs": [
    {
     "data": {
      "text/html": [
       "<div>\n",
       "<style scoped>\n",
       "    .dataframe tbody tr th:only-of-type {\n",
       "        vertical-align: middle;\n",
       "    }\n",
       "\n",
       "    .dataframe tbody tr th {\n",
       "        vertical-align: top;\n",
       "    }\n",
       "\n",
       "    .dataframe thead th {\n",
       "        text-align: right;\n",
       "    }\n",
       "</style>\n",
       "<table border=\"1\" class=\"dataframe\">\n",
       "  <thead>\n",
       "    <tr style=\"text-align: right;\">\n",
       "      <th></th>\n",
       "      <th>minx</th>\n",
       "      <th>miny</th>\n",
       "      <th>maxx</th>\n",
       "      <th>maxy</th>\n",
       "    </tr>\n",
       "  </thead>\n",
       "  <tbody>\n",
       "    <tr>\n",
       "      <th>116960</th>\n",
       "      <td>-150.320225</td>\n",
       "      <td>60.008804</td>\n",
       "      <td>-150.308139</td>\n",
       "      <td>60.013887</td>\n",
       "    </tr>\n",
       "  </tbody>\n",
       "</table>\n",
       "</div>"
      ],
      "text/plain": [
       "              minx       miny        maxx       maxy\n",
       "116960 -150.320225  60.008804 -150.308139  60.013887"
      ]
     },
     "execution_count": 24,
     "metadata": {},
     "output_type": "execute_result"
    }
   ],
   "source": [
    "outline_116960.bounds"
   ]
  },
  {
   "cell_type": "code",
   "execution_count": 25,
   "metadata": {},
   "outputs": [
    {
     "data": {
      "text/plain": [
       "116960    Polygon\n",
       "dtype: object"
      ]
     },
     "execution_count": 25,
     "metadata": {},
     "output_type": "execute_result"
    }
   ],
   "source": [
    "outline_116960.geometry.type"
   ]
  },
  {
   "cell_type": "code",
   "execution_count": 26,
   "metadata": {},
   "outputs": [
    {
     "data": {
      "text/plain": [
       "116960    False\n",
       "dtype: bool"
      ]
     },
     "execution_count": 26,
     "metadata": {},
     "output_type": "execute_result"
    }
   ],
   "source": [
    "# check if polygon is valid\n",
    "outline_116960.is_valid"
   ]
  },
  {
   "cell_type": "code",
   "execution_count": 27,
   "metadata": {},
   "outputs": [
    {
     "data": {
      "text/plain": [
       "<matplotlib.axes._subplots.AxesSubplot at 0x18775083d30>"
      ]
     },
     "execution_count": 27,
     "metadata": {},
     "output_type": "execute_result"
    },
    {
     "data": {
      "image/png": "[encoded data removed]",
      "text/plain": [
       "<Figure size 432x288 with 1 Axes>"
      ]
     },
     "metadata": {
      "needs_background": "light"
     },
     "output_type": "display_data"
    }
   ],
   "source": [
    "# This is what convex_hull does to the invalid polygon\n",
    "outline_116960.convex_hull.plot()"
   ]
  },
  {
   "cell_type": "code",
   "execution_count": 28,
   "metadata": {},
   "outputs": [],
   "source": [
    "# Search for concave hull algorithm in python https://gis.stackexchange.com/questions/268889/creating-concave-hull-with-python\n",
    "# Jenny suggested try a concave hull algorithm. Geopandas doesn't have one built in so will need to find one and create my own\n",
    "# function.\n",
    "#outline_116960.concave_hull.plot()"
   ]
  },
  {
   "cell_type": "code",
   "execution_count": 29,
   "metadata": {},
   "outputs": [
    {
     "data": {
      "text/plain": [
       "116960    True\n",
       "dtype: bool"
      ]
     },
     "execution_count": 29,
     "metadata": {},
     "output_type": "execute_result"
    }
   ],
   "source": [
    "outline_116960_buffered = outline_116960.buffer(0)\n",
    "outline_116960_buffered.is_valid"
   ]
  },
  {
   "cell_type": "code",
   "execution_count": 30,
   "metadata": {},
   "outputs": [
    {
     "data": {
      "text/plain": [
       "0       False\n",
       "5019    False\n",
       "dtype: bool"
      ]
     },
     "execution_count": 30,
     "metadata": {},
     "output_type": "execute_result"
    }
   ],
   "source": [
    "boolean4 = region_1.intersects(muir_glacier_20100915)\n",
    "boolean4"
   ]
  },
  {
   "cell_type": "code",
   "execution_count": 31,
   "metadata": {},
   "outputs": [
    {
     "data": {
      "text/plain": [
       "geopandas.geodataframe.GeoDataFrame"
      ]
     },
     "execution_count": 31,
     "metadata": {},
     "output_type": "execute_result"
    }
   ],
   "source": [
    "type(muir_glacier_20100915)"
   ]
  },
  {
   "cell_type": "code",
   "execution_count": 32,
   "metadata": {},
   "outputs": [
    {
     "data": {
      "text/plain": [
       "{'init': 'epsg:4326'}"
      ]
     },
     "execution_count": 32,
     "metadata": {},
     "output_type": "execute_result"
    }
   ],
   "source": [
    "muir_glacier_20100915.crs"
   ]
  },
  {
   "cell_type": "code",
   "execution_count": 33,
   "metadata": {},
   "outputs": [
    {
     "data": {
      "text/plain": [
       "{'init': 'epsg:4326'}"
      ]
     },
     "execution_count": 33,
     "metadata": {},
     "output_type": "execute_result"
    }
   ],
   "source": [
    "region_1.crs"
   ]
  },
  {
   "cell_type": "code",
   "execution_count": 34,
   "metadata": {},
   "outputs": [
    {
     "data": {
      "text/plain": [
       "<matplotlib.axes._subplots.AxesSubplot at 0x18774fa5cf8>"
      ]
     },
     "execution_count": 34,
     "metadata": {},
     "output_type": "execute_result"
    },
    {
     "data": {
      "image/png": "[encoded data removed]",
      "text/plain": [
       "<Figure size 720x720 with 1 Axes>"
      ]
     },
     "metadata": {
      "needs_background": "light"
     },
     "output_type": "display_data"
    }
   ],
   "source": [
    "# plot region 1 with muir over the top\n",
    "fig, ax1 = plt.subplots(figsize=(10, 10))\n",
    "region_1.plot(ax=ax1)\n",
    "glims_region_1.plot(ax=ax1, color='gold')"
   ]
  },
  {
   "cell_type": "code",
   "execution_count": 35,
   "metadata": {},
   "outputs": [
    {
     "data": {
      "text/plain": [
       "<matplotlib.axes._subplots.AxesSubplot at 0x18774ed8be0>"
      ]
     },
     "execution_count": 35,
     "metadata": {},
     "output_type": "execute_result"
    },
    {
     "data": {
      "image/png": "[encoded data removed]",
      "text/plain": [
       "<Figure size 720x720 with 1 Axes>"
      ]
     },
     "metadata": {
      "needs_background": "light"
     },
     "output_type": "display_data"
    }
   ],
   "source": [
    "# plot all the glims region 1 outlines in region 1\n",
    "fig, ax1 = plt.subplots(figsize=(10, 10))\n",
    "region_1.plot(ax=ax1)\n",
    "muir_glacier_20100915.plot(ax=ax1, color='gold')"
   ]
  },
  {
   "cell_type": "code",
   "execution_count": 36,
   "metadata": {},
   "outputs": [],
   "source": [
    "# Conver the lat/lon to a geopandas dataframe\n",
    "lat_lon_point = np.array([[80, 30]])\n",
    "geometry = [Point(xy) for xy in lat_lon_point]\n",
    "point_loc = gpd.GeoDataFrame(geometry,\n",
    "                             columns=['geometry'],\n",
    "                             crs={'init': 'epsg:4326'})"
   ]
  },
  {
   "cell_type": "code",
   "execution_count": 37,
   "metadata": {},
   "outputs": [
    {
     "data": {
      "text/plain": [
       "geopandas.geodataframe.GeoDataFrame"
      ]
     },
     "execution_count": 37,
     "metadata": {},
     "output_type": "execute_result"
    }
   ],
   "source": [
    "type(point_loc)"
   ]
  },
  {
   "cell_type": "code",
   "execution_count": 38,
   "metadata": {},
   "outputs": [
    {
     "data": {
      "text/plain": [
       "[<shapely.geometry.point.Point at 0x18774e4f588>]"
      ]
     },
     "execution_count": 38,
     "metadata": {},
     "output_type": "execute_result"
    }
   ],
   "source": [
    "geometry"
   ]
  },
  {
   "cell_type": "markdown",
   "metadata": {},
   "source": [
    "# Test validiting of glims polygons"
   ]
  },
  {
   "cell_type": "code",
   "execution_count": 39,
   "metadata": {},
   "outputs": [],
   "source": [
    "# Test how many glims polygons are not valid\n",
    "# There are 17096 invalid glims polygons\n",
    "test = \"no\" # Change to yes if you want to test again\n",
    "count = 0\n",
    "if test == \"yes\":\n",
    "    for index, row in glims_polygons.iterrows():\n",
    "        outline = glims_polygons.loc[index, 'geometry']\n",
    "        boolean = outline.is_valid\n",
    "        if boolean == False:\n",
    "            print(index)\n",
    "            count += 1\n",
    "    print(\"Total invalid count:\", count)"
   ]
  },
  {
   "cell_type": "markdown",
   "metadata": {},
   "source": [
    "# Opening test data that has fewer rows than glims to test within function"
   ]
  },
  {
   "cell_type": "code",
   "execution_count": 40,
   "metadata": {},
   "outputs": [
    {
     "data": {
      "text/html": [
       "<div>\n",
       "<style scoped>\n",
       "    .dataframe tbody tr th:only-of-type {\n",
       "        vertical-align: middle;\n",
       "    }\n",
       "\n",
       "    .dataframe tbody tr th {\n",
       "        vertical-align: top;\n",
       "    }\n",
       "\n",
       "    .dataframe thead th {\n",
       "        text-align: right;\n",
       "    }\n",
       "</style>\n",
       "<table border=\"1\" class=\"dataframe\">\n",
       "  <thead>\n",
       "    <tr style=\"text-align: right;\">\n",
       "      <th></th>\n",
       "      <th>Plot_ID</th>\n",
       "      <th>Point</th>\n",
       "      <th>northing</th>\n",
       "      <th>easting</th>\n",
       "      <th>plot_type</th>\n",
       "      <th>geometry</th>\n",
       "    </tr>\n",
       "  </thead>\n",
       "  <tbody>\n",
       "    <tr>\n",
       "      <th>0</th>\n",
       "      <td>SJER1068</td>\n",
       "      <td>center</td>\n",
       "      <td>4111567.818</td>\n",
       "      <td>255852.376</td>\n",
       "      <td>trees</td>\n",
       "      <td>POINT (255852.376 4111567.818)</td>\n",
       "    </tr>\n",
       "    <tr>\n",
       "      <th>1</th>\n",
       "      <td>SJER112</td>\n",
       "      <td>center</td>\n",
       "      <td>4111298.971</td>\n",
       "      <td>257406.967</td>\n",
       "      <td>trees</td>\n",
       "      <td>POINT (257406.967 4111298.971)</td>\n",
       "    </tr>\n",
       "    <tr>\n",
       "      <th>2</th>\n",
       "      <td>SJER116</td>\n",
       "      <td>center</td>\n",
       "      <td>4110819.876</td>\n",
       "      <td>256838.760</td>\n",
       "      <td>grass</td>\n",
       "      <td>POINT (256838.76 4110819.876)</td>\n",
       "    </tr>\n",
       "    <tr>\n",
       "      <th>3</th>\n",
       "      <td>SJER117</td>\n",
       "      <td>center</td>\n",
       "      <td>4108752.026</td>\n",
       "      <td>256176.947</td>\n",
       "      <td>trees</td>\n",
       "      <td>POINT (256176.947 4108752.026)</td>\n",
       "    </tr>\n",
       "    <tr>\n",
       "      <th>4</th>\n",
       "      <td>SJER120</td>\n",
       "      <td>center</td>\n",
       "      <td>4110476.079</td>\n",
       "      <td>255968.372</td>\n",
       "      <td>grass</td>\n",
       "      <td>POINT (255968.372 4110476.079)</td>\n",
       "    </tr>\n",
       "  </tbody>\n",
       "</table>\n",
       "</div>"
      ],
      "text/plain": [
       "    Plot_ID   Point     northing     easting plot_type  \\\n",
       "0  SJER1068  center  4111567.818  255852.376     trees   \n",
       "1   SJER112  center  4111298.971  257406.967     trees   \n",
       "2   SJER116  center  4110819.876  256838.760     grass   \n",
       "3   SJER117  center  4108752.026  256176.947     trees   \n",
       "4   SJER120  center  4110476.079  255968.372     grass   \n",
       "\n",
       "                         geometry  \n",
       "0  POINT (255852.376 4111567.818)  \n",
       "1  POINT (257406.967 4111298.971)  \n",
       "2   POINT (256838.76 4110819.876)  \n",
       "3  POINT (256176.947 4108752.026)  \n",
       "4  POINT (255968.372 4110476.079)  "
      ]
     },
     "execution_count": 40,
     "metadata": {},
     "output_type": "execute_result"
    }
   ],
   "source": [
    "# open a shapefile using geopandas\n",
    "plot_centroid_path = \"data/test/SJER_plot_centroids.shp\"\n",
    "sjer_plot_locations = gpd.read_file(plot_centroid_path)\n",
    "\n",
    "# view data attributes\n",
    "sjer_plot_locations.head()"
   ]
  },
  {
   "cell_type": "code",
   "execution_count": 41,
   "metadata": {},
   "outputs": [
    {
     "data": {
      "text/plain": [
       "(18, 6)"
      ]
     },
     "execution_count": 41,
     "metadata": {},
     "output_type": "execute_result"
    }
   ],
   "source": [
    "sjer_plot_locations.shape"
   ]
  },
  {
   "cell_type": "code",
   "execution_count": 42,
   "metadata": {},
   "outputs": [
    {
     "name": "stdout",
     "output_type": "stream",
     "text": [
      "False\n",
      "False\n",
      "False\n",
      "False\n",
      "False\n",
      "False\n",
      "False\n",
      "False\n",
      "False\n",
      "False\n",
      "False\n",
      "False\n",
      "False\n",
      "False\n",
      "False\n",
      "False\n",
      "False\n",
      "False\n"
     ]
    }
   ],
   "source": [
    "for index, row in sjer_plot_locations.iterrows():\n",
    "    outline = sjer_plot_locations.loc[index, 'geometry']\n",
    "    #print(type(outline))\n",
    "    boolean = outline.within(region_1.loc[0, 'geometry'])\n",
    "    print(boolean)    "
   ]
  }
 ],
 "metadata": {
  "kernelspec": {
   "display_name": "Python [conda env:wgms-project-python] *",
   "language": "python",
   "name": "conda-env-wgms-project-python-py"
  },
  "language_info": {
   "codemirror_mode": {
    "name": "ipython",
    "version": 3
   },
   "file_extension": ".py",
   "mimetype": "text/x-python",
   "name": "python",
   "nbconvert_exporter": "python",
   "pygments_lexer": "ipython3",
   "version": "3.6.7"
  }
 },
 "nbformat": 4,
 "nbformat_minor": 2
}

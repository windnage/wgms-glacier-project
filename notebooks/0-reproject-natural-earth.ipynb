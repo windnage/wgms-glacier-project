{
 "cells": [
  {
   "cell_type": "markdown",
   "metadata": {},
   "source": [
    "# Reproject Natual Earth\n",
    "\n",
    "This notebook provides a place to run the function ws.reproject_raster on the Natural Earth rasters to reproject the basemap to any CRS."
   ]
  },
  {
   "cell_type": "code",
   "execution_count": 3,
   "metadata": {},
   "outputs": [],
   "source": [
    "import os\n",
    "import os.path as op\n",
    "import sys\n",
    "\n",
    "# set working dir\n",
    "HOME = op.join(op.expanduser(\"~\"))\n",
    "os.chdir(os.path.join(HOME, \"git/wgms-glacier-project\"))\n",
    "\n",
    "# Set up path to load scripts\n",
    "module_path = os.path.abspath(os.path.join('..'))\n",
    "if module_path not in sys.path:\n",
    "    sys.path.append(module_path)\n",
    "    \n",
    "import scripts.wgms_scripts as ws"
   ]
  },
  {
   "cell_type": "markdown",
   "metadata": {},
   "source": [
    "## Reproject to EPSG 3049 (Region 7)"
   ]
  },
  {
   "cell_type": "code",
   "execution_count": 5,
   "metadata": {},
   "outputs": [
    {
     "name": "stdout",
     "output_type": "stream",
     "text": [
      "data/natural-earth/NE1_HR_LC_SR_W/NE1_HR_LC_SR_W_epsg3049.tif already exists\n"
     ]
    }
   ],
   "source": [
    "input_fp = 'data/natural-earth/NE1_HR_LC_SR_W/NE1_HR_LC_SR_W.tif'\n",
    "output_fp = 'data/natural-earth/NE1_HR_LC_SR_W/NE1_HR_LC_SR_W_epsg3049.tif'\n",
    "\n",
    "# Check if output file already exists, if it does do nothing\n",
    "if os.path.exists(output_fp) == False:\n",
    "    ws.reproject_raster(inpath = input_fp, outpath = output_fp, new_crs = 'EPSG:3049')\n",
    "else:\n",
    "    print(output_fp + \" already exists\")"
   ]
  }
 ],
 "metadata": {
  "kernelspec": {
   "display_name": "Python 3",
   "language": "python",
   "name": "python3"
  },
  "language_info": {
   "codemirror_mode": {
    "name": "ipython",
    "version": 3
   },
   "file_extension": ".py",
   "mimetype": "text/x-python",
   "name": "python",
   "nbconvert_exporter": "python",
   "pygments_lexer": "ipython3",
   "version": "3.7.3"
  }
 },
 "nbformat": 4,
 "nbformat_minor": 2
}

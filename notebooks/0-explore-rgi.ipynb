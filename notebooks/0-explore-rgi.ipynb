{
 "cells": [
  {
   "cell_type": "markdown",
   "metadata": {},
   "source": [
    "# Explore RGI Data\n",
    "Author: Ann Windnagel\n",
    "\n",
    "Date: 02/22/2019\n",
    "\n",
    "This notebook is a scratch space to explore the RGI data. It opens up RGI data files, explores the dataframes, and plots some data. See https://www.glims.org/RGI/ for information about RGI and to download the data."
   ]
  },
  {
   "cell_type": "markdown",
   "metadata": {},
   "source": [
    "### Import Packages"
   ]
  },
  {
   "cell_type": "code",
   "execution_count": 1,
   "metadata": {},
   "outputs": [],
   "source": [
    "import os\n",
    "import pandas as pd\n",
    "import matplotlib.pyplot as plt\n",
    "import geopandas as gpd\n",
    "import sys\n",
    "\n",
    "import earthpy as et\n",
    "\n",
    "# set working dir\n",
    "os.chdir(os.path.join(et.io.HOME, \"git/wgms-glacier-project\"))\n",
    "\n",
    "module_path = os.path.abspath(os.path.join('..'))\n",
    "if module_path not in sys.path:\n",
    "    sys.path.append(module_path)\n",
    "    \n",
    "import scripts.wgms_scripts as ws"
   ]
  },
  {
   "cell_type": "markdown",
   "metadata": {},
   "source": [
    "### Explore Region 1 - Alaska"
   ]
  },
  {
   "cell_type": "code",
   "execution_count": 2,
   "metadata": {},
   "outputs": [
    {
     "name": "stdout",
     "output_type": "stream",
     "text": [
      "01_rgi60_Alaska/01_rgi60_Alaska.shp\n"
     ]
    }
   ],
   "source": [
    "# Open RGI region 01 - Alaska\n",
    "rgi_region01_polygons = ws.open_rgi_region(1)"
   ]
  },
  {
   "cell_type": "code",
   "execution_count": 3,
   "metadata": {},
   "outputs": [
    {
     "data": {
      "text/html": [
       "<div>\n",
       "<style scoped>\n",
       "    .dataframe tbody tr th:only-of-type {\n",
       "        vertical-align: middle;\n",
       "    }\n",
       "\n",
       "    .dataframe tbody tr th {\n",
       "        vertical-align: top;\n",
       "    }\n",
       "\n",
       "    .dataframe thead th {\n",
       "        text-align: right;\n",
       "    }\n",
       "</style>\n",
       "<table border=\"1\" class=\"dataframe\">\n",
       "  <thead>\n",
       "    <tr style=\"text-align: right;\">\n",
       "      <th></th>\n",
       "      <th>RGIId</th>\n",
       "      <th>GLIMSId</th>\n",
       "      <th>BgnDate</th>\n",
       "      <th>EndDate</th>\n",
       "      <th>CenLon</th>\n",
       "      <th>CenLat</th>\n",
       "      <th>O1Region</th>\n",
       "      <th>O2Region</th>\n",
       "      <th>Area</th>\n",
       "      <th>Zmin</th>\n",
       "      <th>...</th>\n",
       "      <th>Aspect</th>\n",
       "      <th>Lmax</th>\n",
       "      <th>Status</th>\n",
       "      <th>Connect</th>\n",
       "      <th>Form</th>\n",
       "      <th>TermType</th>\n",
       "      <th>Surging</th>\n",
       "      <th>Linkages</th>\n",
       "      <th>Name</th>\n",
       "      <th>geometry</th>\n",
       "    </tr>\n",
       "  </thead>\n",
       "  <tbody>\n",
       "    <tr>\n",
       "      <th>0</th>\n",
       "      <td>RGI60-01.00001</td>\n",
       "      <td>G213177E63689N</td>\n",
       "      <td>20090703</td>\n",
       "      <td>-9999999</td>\n",
       "      <td>-146.823</td>\n",
       "      <td>63.689</td>\n",
       "      <td>1</td>\n",
       "      <td>2</td>\n",
       "      <td>0.360</td>\n",
       "      <td>1936</td>\n",
       "      <td>...</td>\n",
       "      <td>346</td>\n",
       "      <td>839</td>\n",
       "      <td>0</td>\n",
       "      <td>0</td>\n",
       "      <td>0</td>\n",
       "      <td>0</td>\n",
       "      <td>9</td>\n",
       "      <td>9</td>\n",
       "      <td>None</td>\n",
       "      <td>POLYGON ((-146.818039438 63.69080602500003, -1...</td>\n",
       "    </tr>\n",
       "    <tr>\n",
       "      <th>1</th>\n",
       "      <td>RGI60-01.00002</td>\n",
       "      <td>G213332E63404N</td>\n",
       "      <td>20090703</td>\n",
       "      <td>-9999999</td>\n",
       "      <td>-146.668</td>\n",
       "      <td>63.404</td>\n",
       "      <td>1</td>\n",
       "      <td>2</td>\n",
       "      <td>0.558</td>\n",
       "      <td>1713</td>\n",
       "      <td>...</td>\n",
       "      <td>162</td>\n",
       "      <td>1197</td>\n",
       "      <td>0</td>\n",
       "      <td>0</td>\n",
       "      <td>0</td>\n",
       "      <td>0</td>\n",
       "      <td>9</td>\n",
       "      <td>9</td>\n",
       "      <td>None</td>\n",
       "      <td>POLYGON ((-146.663536816 63.40763849900003, -1...</td>\n",
       "    </tr>\n",
       "    <tr>\n",
       "      <th>2</th>\n",
       "      <td>RGI60-01.00003</td>\n",
       "      <td>G213920E63376N</td>\n",
       "      <td>20090703</td>\n",
       "      <td>-9999999</td>\n",
       "      <td>-146.080</td>\n",
       "      <td>63.376</td>\n",
       "      <td>1</td>\n",
       "      <td>2</td>\n",
       "      <td>1.685</td>\n",
       "      <td>1609</td>\n",
       "      <td>...</td>\n",
       "      <td>175</td>\n",
       "      <td>2106</td>\n",
       "      <td>0</td>\n",
       "      <td>0</td>\n",
       "      <td>0</td>\n",
       "      <td>0</td>\n",
       "      <td>9</td>\n",
       "      <td>9</td>\n",
       "      <td>None</td>\n",
       "      <td>POLYGON ((-146.072316956 63.38347508900006, -1...</td>\n",
       "    </tr>\n",
       "    <tr>\n",
       "      <th>3</th>\n",
       "      <td>RGI60-01.00004</td>\n",
       "      <td>G213880E63381N</td>\n",
       "      <td>20090703</td>\n",
       "      <td>-9999999</td>\n",
       "      <td>-146.120</td>\n",
       "      <td>63.381</td>\n",
       "      <td>1</td>\n",
       "      <td>2</td>\n",
       "      <td>3.681</td>\n",
       "      <td>1273</td>\n",
       "      <td>...</td>\n",
       "      <td>195</td>\n",
       "      <td>4175</td>\n",
       "      <td>0</td>\n",
       "      <td>0</td>\n",
       "      <td>0</td>\n",
       "      <td>0</td>\n",
       "      <td>9</td>\n",
       "      <td>9</td>\n",
       "      <td>None</td>\n",
       "      <td>POLYGON ((-146.14895309 63.37918822200004, -14...</td>\n",
       "    </tr>\n",
       "    <tr>\n",
       "      <th>4</th>\n",
       "      <td>RGI60-01.00005</td>\n",
       "      <td>G212943E63551N</td>\n",
       "      <td>20090703</td>\n",
       "      <td>-9999999</td>\n",
       "      <td>-147.057</td>\n",
       "      <td>63.551</td>\n",
       "      <td>1</td>\n",
       "      <td>2</td>\n",
       "      <td>2.573</td>\n",
       "      <td>1494</td>\n",
       "      <td>...</td>\n",
       "      <td>181</td>\n",
       "      <td>2981</td>\n",
       "      <td>0</td>\n",
       "      <td>0</td>\n",
       "      <td>0</td>\n",
       "      <td>0</td>\n",
       "      <td>9</td>\n",
       "      <td>9</td>\n",
       "      <td>None</td>\n",
       "      <td>POLYGON ((-147.043066865 63.55024013500008, -1...</td>\n",
       "    </tr>\n",
       "  </tbody>\n",
       "</table>\n",
       "<p>5 rows × 23 columns</p>\n",
       "</div>"
      ],
      "text/plain": [
       "            RGIId         GLIMSId   BgnDate   EndDate   CenLon  CenLat  \\\n",
       "0  RGI60-01.00001  G213177E63689N  20090703  -9999999 -146.823  63.689   \n",
       "1  RGI60-01.00002  G213332E63404N  20090703  -9999999 -146.668  63.404   \n",
       "2  RGI60-01.00003  G213920E63376N  20090703  -9999999 -146.080  63.376   \n",
       "3  RGI60-01.00004  G213880E63381N  20090703  -9999999 -146.120  63.381   \n",
       "4  RGI60-01.00005  G212943E63551N  20090703  -9999999 -147.057  63.551   \n",
       "\n",
       "  O1Region O2Region   Area  Zmin  ...  Aspect  Lmax  Status  Connect  Form  \\\n",
       "0        1        2  0.360  1936  ...     346   839       0        0     0   \n",
       "1        1        2  0.558  1713  ...     162  1197       0        0     0   \n",
       "2        1        2  1.685  1609  ...     175  2106       0        0     0   \n",
       "3        1        2  3.681  1273  ...     195  4175       0        0     0   \n",
       "4        1        2  2.573  1494  ...     181  2981       0        0     0   \n",
       "\n",
       "   TermType  Surging  Linkages  Name  \\\n",
       "0         0        9         9  None   \n",
       "1         0        9         9  None   \n",
       "2         0        9         9  None   \n",
       "3         0        9         9  None   \n",
       "4         0        9         9  None   \n",
       "\n",
       "                                            geometry  \n",
       "0  POLYGON ((-146.818039438 63.69080602500003, -1...  \n",
       "1  POLYGON ((-146.663536816 63.40763849900003, -1...  \n",
       "2  POLYGON ((-146.072316956 63.38347508900006, -1...  \n",
       "3  POLYGON ((-146.14895309 63.37918822200004, -14...  \n",
       "4  POLYGON ((-147.043066865 63.55024013500008, -1...  \n",
       "\n",
       "[5 rows x 23 columns]"
      ]
     },
     "execution_count": 3,
     "metadata": {},
     "output_type": "execute_result"
    }
   ],
   "source": [
    "rgi_region01_polygons.head()"
   ]
  },
  {
   "cell_type": "code",
   "execution_count": 4,
   "metadata": {},
   "outputs": [
    {
     "name": "stdout",
     "output_type": "stream",
     "text": [
      "{'init': 'epsg:4326'}\n"
     ]
    }
   ],
   "source": [
    "# Check CRS\n",
    "print(rgi_region01_polygons.crs)"
   ]
  },
  {
   "cell_type": "code",
   "execution_count": 5,
   "metadata": {},
   "outputs": [
    {
     "name": "stdout",
     "output_type": "stream",
     "text": [
      "Number of columns:\n",
      "23\n",
      "Column names:\n",
      "['RGIId', 'GLIMSId', 'BgnDate', 'EndDate', 'CenLon', 'CenLat', 'O1Region', 'O2Region', 'Area', 'Zmin', 'Zmax', 'Zmed', 'Slope', 'Aspect', 'Lmax', 'Status', 'Connect', 'Form', 'TermType', 'Surging', 'Linkages', 'Name', 'geometry']\n"
     ]
    }
   ],
   "source": [
    "# Explore column headings\n",
    "print(\"Number of columns:\")\n",
    "print(len(rgi_region01_polygons.columns))\n",
    "print(\"Column names:\")\n",
    "print(list(rgi_region01_polygons))"
   ]
  },
  {
   "cell_type": "markdown",
   "metadata": {},
   "source": [
    "### Description of RGI columns from https://www.glims.org/RGI/00_rgi60_TechnicalNote.pdf\n",
    "\n",
    "1. RGIId: The RGI glacier identifier is a 14-character identifier of the form RGIvv-rr.nnnnn, where vv is the version number, rr is the firstorder region number and nnnnn is an arbitrary identifying code that is unique within the region. \n",
    "1. GLIMSId: Corresponding GLIMS glacier ID\n",
    "1. BgnDate, EndDate: The date of the source from which the outline was taken, in the form yyyymmdd, with missing dates represented by -9999999.  When a single date is known, it is assigned to BgnDate. If only a year is given, mmdd is set to 9999. Only when the source provides a range of dates is EndDate not missing, and in this case the two codes together give the date range.\n",
    "1. CenLon, CenLat: Longitude and latitude, in degrees, of a single point representing the location of the glacier. These coordinates agree with those in GLIMSId.\n",
    "1. O1Region, O2Region: The codes of the first-order and second-order regions (Table 2 of 00_rgi60_TechnicalNote.pdf) to which the glacier belongs.\n",
    "1. Area: Area of the glacier in km2, calculated in cartesian coordinates on a cylindrical equal-area projection of the authalic sphere of the WGS84 ellipsoid, or, for nominal glaciers, accepted from the source inventory.\n",
    "1. Zmin, Zmax: Minimum and maximum elevation (m above sea level) of the glacier, obtained in most cases directly from a DEM covering the glacier. For most of the nominal glaciers Zmin and Zmax were taken from the parent inventory, WGI or WGI-XF.\n",
    "1. Zmed: Median elevation (m) of the glacier, chosen by sorting the elevations of the DEM cells covering the glacier and recording the 50th percentile of their cumulative frequency distribution.\n",
    "1. Slope: Mean slope of the glacier surface (deg), obtained by averaging single-cell slopes from the DEM.\n",
    "1. Aspect: The aspect (orientation) of the glacier surface (deg) is presented as an integer azimuth relative to 0° at due north. The aspect sines and cosines of each of the glacier’s DEM grid cells are summed and the mean aspect is calculated as the arctangent of the quotient of the two sums.\n",
    "1. Lmax: Length (m) of the longest surface flowline of the glacier. The length is measured with the algorithm of Machguth and Huss (2014). \n",
    "1. Status: The Status attribute flags glaciers whose outlines await subdivision or are nominal circles:\n",
    "  * 0 Glacier or ice cap\n",
    "  * 1 Glacier complex\n",
    "  * 2 Nominal glacier\n",
    "  * 9 Not assigned\n",
    "1. Connect: The Connect attribute records the connectivity level developed by Rastner et al. (2012) for glaciers in Greenland. Glaciers that are physically detached from the ice sheet have a connectivity level of 0.\n",
    "1. Form: The Form attribute contains information on the form of the ice body:\n",
    "  * 0 Glacier\n",
    "  * 1 Ice cap\n",
    "  * 2 Perennial snowfield\n",
    "  * 3 Seasonal snowfield\n",
    "  * 9 Not assigned\n",
    "1. TermType: The TermType attribute contains information on terminus type. Lake-terminating glaciers are identified as such only in Alaska, the Southern Andes and Antarctica; elsewhere they currently have TermType equal to 0. Where more than one value applies to a given terminus, the dominant type as interpreted from satellite imagery is chosen.\n",
    "  * 0 Land-terminating\n",
    "  * 1 Marine-terminating\n",
    "  * 2 Lake-terminating\n",
    "  * 3 Dry calving\n",
    "  * 4 Regenerated\n",
    "  * 5 Shelf-terminating\n",
    "  * 9 Not assigned\n",
    "1. Surging: The Surging attribute contains information on evidence for surging, and is based on the inventory of Sevestre and Benn (2015).\n",
    "  * 0 No evidence\n",
    "  * 1 Possible\n",
    "  * 2 Probable\n",
    "  * 3 Observed\n",
    "  * 9 Not assigned\n",
    "1. Linkages: The Linkages attribute indicates whether the ancillary file 00_RGI60_LINKS.CSV contains a link to mass-balance measurements in the Fluctuations of Glaciers database. To date 232 linkages have been identified.\n",
    "  * 0 Not in FG\n",
    "  * 1 In FG\n",
    "  * 9 Not assigned\n",
    "1. Name: Name of the glacier, or the WGI or WGI-XF id code (modified after Müller et al., 1978) if available. "
   ]
  },
  {
   "cell_type": "code",
   "execution_count": 6,
   "metadata": {},
   "outputs": [
    {
     "data": {
      "text/plain": [
       "(27108, 23)"
      ]
     },
     "execution_count": 6,
     "metadata": {},
     "output_type": "execute_result"
    }
   ],
   "source": [
    "# number of rows x columns\n",
    "rgi_region01_polygons.shape"
   ]
  },
  {
   "cell_type": "code",
   "execution_count": 7,
   "metadata": {},
   "outputs": [
    {
     "data": {
      "text/plain": [
       "3362.656"
      ]
     },
     "execution_count": 7,
     "metadata": {},
     "output_type": "execute_result"
    }
   ],
   "source": [
    "# List the size of the biggest glacier by area for region 01 in the RGI database\n",
    "rgi_region01_polygons['Area'].max()"
   ]
  },
  {
   "cell_type": "code",
   "execution_count": 8,
   "metadata": {},
   "outputs": [
    {
     "data": {
      "text/plain": [
       "RGIId                                          RGI60-01.13696\n",
       "GLIMSId                                        G219572E60177N\n",
       "BgnDate                                              20100912\n",
       "EndDate                                              -9999999\n",
       "CenLon                                               -140.428\n",
       "CenLat                                                 60.177\n",
       "O1Region                                                    1\n",
       "O2Region                                                    5\n",
       "Area                                                  3362.66\n",
       "Zmin                                                        6\n",
       "Zmax                                                     5943\n",
       "Zmed                                                     1510\n",
       "Slope                                                      10\n",
       "Aspect                                                    172\n",
       "Lmax                                                   136989\n",
       "Status                                                      0\n",
       "Connect                                                     0\n",
       "Form                                                        0\n",
       "TermType                                                    0\n",
       "Surging                                                     9\n",
       "Linkages                                                    9\n",
       "Name                                           Seward Glacier\n",
       "geometry    POLYGON ((-140.541140322 60.60939843700004, -1...\n",
       "Name: 13691, dtype: object"
      ]
     },
     "execution_count": 8,
     "metadata": {},
     "output_type": "execute_result"
    }
   ],
   "source": [
    "# Full row of biggest glacier by area in region 01\n",
    "rgi_region01_polygons.loc[rgi_region01_polygons['Area'].idxmax()]"
   ]
  },
  {
   "cell_type": "code",
   "execution_count": 9,
   "metadata": {},
   "outputs": [
    {
     "data": {
      "text/html": [
       "<div>\n",
       "<style scoped>\n",
       "    .dataframe tbody tr th:only-of-type {\n",
       "        vertical-align: middle;\n",
       "    }\n",
       "\n",
       "    .dataframe tbody tr th {\n",
       "        vertical-align: top;\n",
       "    }\n",
       "\n",
       "    .dataframe thead th {\n",
       "        text-align: right;\n",
       "    }\n",
       "</style>\n",
       "<table border=\"1\" class=\"dataframe\">\n",
       "  <thead>\n",
       "    <tr style=\"text-align: right;\">\n",
       "      <th></th>\n",
       "      <th>RGIId</th>\n",
       "      <th>GLIMSId</th>\n",
       "      <th>BgnDate</th>\n",
       "      <th>EndDate</th>\n",
       "      <th>CenLon</th>\n",
       "      <th>CenLat</th>\n",
       "      <th>O1Region</th>\n",
       "      <th>O2Region</th>\n",
       "      <th>Area</th>\n",
       "      <th>Zmin</th>\n",
       "      <th>...</th>\n",
       "      <th>Aspect</th>\n",
       "      <th>Lmax</th>\n",
       "      <th>Status</th>\n",
       "      <th>Connect</th>\n",
       "      <th>Form</th>\n",
       "      <th>TermType</th>\n",
       "      <th>Surging</th>\n",
       "      <th>Linkages</th>\n",
       "      <th>Name</th>\n",
       "      <th>geometry</th>\n",
       "    </tr>\n",
       "  </thead>\n",
       "  <tbody>\n",
       "    <tr>\n",
       "      <th>20836</th>\n",
       "      <td>RGI60-01.20841</td>\n",
       "      <td>G223525E59221N</td>\n",
       "      <td>20100915</td>\n",
       "      <td>-9999999</td>\n",
       "      <td>-136.475</td>\n",
       "      <td>59.221</td>\n",
       "      <td>1</td>\n",
       "      <td>6</td>\n",
       "      <td>80.284</td>\n",
       "      <td>85</td>\n",
       "      <td>...</td>\n",
       "      <td>135</td>\n",
       "      <td>25654</td>\n",
       "      <td>0</td>\n",
       "      <td>0</td>\n",
       "      <td>0</td>\n",
       "      <td>0</td>\n",
       "      <td>9</td>\n",
       "      <td>9</td>\n",
       "      <td>Muir Glacier</td>\n",
       "      <td>POLYGON ((-136.49452898 59.27395042200004, -13...</td>\n",
       "    </tr>\n",
       "  </tbody>\n",
       "</table>\n",
       "<p>1 rows × 23 columns</p>\n",
       "</div>"
      ],
      "text/plain": [
       "                RGIId         GLIMSId   BgnDate   EndDate   CenLon  CenLat  \\\n",
       "20836  RGI60-01.20841  G223525E59221N  20100915  -9999999 -136.475  59.221   \n",
       "\n",
       "      O1Region O2Region    Area  Zmin  ...  Aspect   Lmax  Status  Connect  \\\n",
       "20836        1        6  80.284    85  ...     135  25654       0        0   \n",
       "\n",
       "       Form  TermType  Surging  Linkages          Name  \\\n",
       "20836     0         0        9         9  Muir Glacier   \n",
       "\n",
       "                                                geometry  \n",
       "20836  POLYGON ((-136.49452898 59.27395042200004, -13...  \n",
       "\n",
       "[1 rows x 23 columns]"
      ]
     },
     "execution_count": 9,
     "metadata": {},
     "output_type": "execute_result"
    }
   ],
   "source": [
    "# This line finds Muir glacier specifically\n",
    "muir_glacier = rgi_region01_polygons.loc[rgi_region01_polygons['Name']=='Muir Glacier']\n",
    "muir_glacier"
   ]
  },
  {
   "cell_type": "code",
   "execution_count": 10,
   "metadata": {},
   "outputs": [
    {
     "data": {
      "text/plain": [
       "<matplotlib.axes._subplots.AxesSubplot at 0x23a3e945898>"
      ]
     },
     "execution_count": 10,
     "metadata": {},
     "output_type": "execute_result"
    },
    {
     "data": {
      "image/png": "[encoded data removed]",
      "text/plain": [
       "<Figure size 432x288 with 1 Axes>"
      ]
     },
     "metadata": {
      "needs_background": "light"
     },
     "output_type": "display_data"
    }
   ],
   "source": [
    "# plot muir glacier\n",
    "muir_glacier.plot()"
   ]
  },
  {
   "cell_type": "code",
   "execution_count": 11,
   "metadata": {},
   "outputs": [
    {
     "data": {
      "text/plain": [
       "{'init': 'epsg:4326'}"
      ]
     },
     "execution_count": 11,
     "metadata": {},
     "output_type": "execute_result"
    }
   ],
   "source": [
    "muir_glacier.crs"
   ]
  },
  {
   "cell_type": "code",
   "execution_count": 12,
   "metadata": {},
   "outputs": [
    {
     "name": "stdout",
     "output_type": "stream",
     "text": [
      "area from database (km2): 20836    80.284\n",
      "Name: Area, dtype: float64\n",
      "20836    1.262026e-08\n",
      "dtype: float64\n",
      "20836    85.32107\n",
      "dtype: float64\n",
      "20836    305.078399\n",
      "dtype: float64\n",
      "20836    80.284269\n",
      "dtype: float64\n",
      "20836    80.284269\n",
      "dtype: float64\n"
     ]
    }
   ],
   "source": [
    "# print area from database\n",
    "print(\"area from database (km2):\", muir_glacier['Area'])\n",
    "# calcluate area\n",
    "print(muir_glacier['geometry'].area/10**6)\n",
    "print(muir_glacier['geometry'].to_crs({'init': 'epsg:32633'}).area/10**6)\n",
    "print(muir_glacier['geometry'].to_crs({'init': 'epsg:3395'}).area/10**6)\n",
    "print(muir_glacier['geometry'].to_crs({'init': 'epsg:3338'}).area/10**6)\n",
    "print(muir_glacier['geometry'].to_crs({'init': 'esri:102006'}).area/10**6)"
   ]
  },
  {
   "cell_type": "markdown",
   "metadata": {},
   "source": [
    "### Explore Region 11 - Central Europe"
   ]
  },
  {
   "cell_type": "code",
   "execution_count": 13,
   "metadata": {},
   "outputs": [
    {
     "name": "stdout",
     "output_type": "stream",
     "text": [
      "11_rgi60_CentralEurope/11_rgi60_CentralEurope.shp\n"
     ]
    }
   ],
   "source": [
    "# Open RGI region 11 - central europe\n",
    "#rgi_region11_file_path = \"data/rgi/raw/11_rgi60_CentralEurope/11_rgi60_CentralEurope.shp\"\n",
    "rgi_region11_polygons = ws.open_rgi_region(11)"
   ]
  },
  {
   "cell_type": "code",
   "execution_count": 14,
   "metadata": {},
   "outputs": [
    {
     "data": {
      "text/html": [
       "<div>\n",
       "<style scoped>\n",
       "    .dataframe tbody tr th:only-of-type {\n",
       "        vertical-align: middle;\n",
       "    }\n",
       "\n",
       "    .dataframe tbody tr th {\n",
       "        vertical-align: top;\n",
       "    }\n",
       "\n",
       "    .dataframe thead th {\n",
       "        text-align: right;\n",
       "    }\n",
       "</style>\n",
       "<table border=\"1\" class=\"dataframe\">\n",
       "  <thead>\n",
       "    <tr style=\"text-align: right;\">\n",
       "      <th></th>\n",
       "      <th>RGIId</th>\n",
       "      <th>GLIMSId</th>\n",
       "      <th>BgnDate</th>\n",
       "      <th>EndDate</th>\n",
       "      <th>CenLon</th>\n",
       "      <th>CenLat</th>\n",
       "      <th>O1Region</th>\n",
       "      <th>O2Region</th>\n",
       "      <th>Area</th>\n",
       "      <th>Zmin</th>\n",
       "      <th>...</th>\n",
       "      <th>Aspect</th>\n",
       "      <th>Lmax</th>\n",
       "      <th>Status</th>\n",
       "      <th>Connect</th>\n",
       "      <th>Form</th>\n",
       "      <th>TermType</th>\n",
       "      <th>Surging</th>\n",
       "      <th>Linkages</th>\n",
       "      <th>Name</th>\n",
       "      <th>geometry</th>\n",
       "    </tr>\n",
       "  </thead>\n",
       "  <tbody>\n",
       "    <tr>\n",
       "      <th>0</th>\n",
       "      <td>RGI60-11.00001</td>\n",
       "      <td>G013599E47495N</td>\n",
       "      <td>20030799</td>\n",
       "      <td>20030999</td>\n",
       "      <td>13.5987</td>\n",
       "      <td>47.4949</td>\n",
       "      <td>11</td>\n",
       "      <td>1</td>\n",
       "      <td>0.122</td>\n",
       "      <td>2191</td>\n",
       "      <td>...</td>\n",
       "      <td>334</td>\n",
       "      <td>461</td>\n",
       "      <td>0</td>\n",
       "      <td>0</td>\n",
       "      <td>0</td>\n",
       "      <td>0</td>\n",
       "      <td>9</td>\n",
       "      <td>9</td>\n",
       "      <td>None</td>\n",
       "      <td>POLYGON ((13.60035015400007 47.49330088800008,...</td>\n",
       "    </tr>\n",
       "    <tr>\n",
       "      <th>1</th>\n",
       "      <td>RGI60-11.00002</td>\n",
       "      <td>G013614E47485N</td>\n",
       "      <td>20030799</td>\n",
       "      <td>20030999</td>\n",
       "      <td>13.6135</td>\n",
       "      <td>47.4845</td>\n",
       "      <td>11</td>\n",
       "      <td>1</td>\n",
       "      <td>2.292</td>\n",
       "      <td>2203</td>\n",
       "      <td>...</td>\n",
       "      <td>49</td>\n",
       "      <td>1853</td>\n",
       "      <td>0</td>\n",
       "      <td>0</td>\n",
       "      <td>0</td>\n",
       "      <td>0</td>\n",
       "      <td>9</td>\n",
       "      <td>9</td>\n",
       "      <td>None</td>\n",
       "      <td>POLYGON ((13.60638417200005 47.47577712600003,...</td>\n",
       "    </tr>\n",
       "    <tr>\n",
       "      <th>2</th>\n",
       "      <td>RGI60-11.00003</td>\n",
       "      <td>G013596E47484N</td>\n",
       "      <td>20030799</td>\n",
       "      <td>20030999</td>\n",
       "      <td>13.5960</td>\n",
       "      <td>47.4835</td>\n",
       "      <td>11</td>\n",
       "      <td>1</td>\n",
       "      <td>0.851</td>\n",
       "      <td>2280</td>\n",
       "      <td>...</td>\n",
       "      <td>314</td>\n",
       "      <td>1140</td>\n",
       "      <td>0</td>\n",
       "      <td>0</td>\n",
       "      <td>0</td>\n",
       "      <td>0</td>\n",
       "      <td>9</td>\n",
       "      <td>9</td>\n",
       "      <td>None</td>\n",
       "      <td>POLYGON ((13.59765307300006 47.47612829400003,...</td>\n",
       "    </tr>\n",
       "    <tr>\n",
       "      <th>3</th>\n",
       "      <td>RGI60-11.00004</td>\n",
       "      <td>G013583E47481N</td>\n",
       "      <td>20030799</td>\n",
       "      <td>20030999</td>\n",
       "      <td>13.5829</td>\n",
       "      <td>47.4807</td>\n",
       "      <td>11</td>\n",
       "      <td>1</td>\n",
       "      <td>0.053</td>\n",
       "      <td>2319</td>\n",
       "      <td>...</td>\n",
       "      <td>306</td>\n",
       "      <td>382</td>\n",
       "      <td>0</td>\n",
       "      <td>0</td>\n",
       "      <td>0</td>\n",
       "      <td>0</td>\n",
       "      <td>9</td>\n",
       "      <td>9</td>\n",
       "      <td>None</td>\n",
       "      <td>POLYGON ((13.58282961100002 47.47969313200008,...</td>\n",
       "    </tr>\n",
       "    <tr>\n",
       "      <th>4</th>\n",
       "      <td>RGI60-11.00005</td>\n",
       "      <td>G013603E47477N</td>\n",
       "      <td>20030799</td>\n",
       "      <td>20030999</td>\n",
       "      <td>13.6026</td>\n",
       "      <td>47.4774</td>\n",
       "      <td>11</td>\n",
       "      <td>1</td>\n",
       "      <td>0.057</td>\n",
       "      <td>2656</td>\n",
       "      <td>...</td>\n",
       "      <td>291</td>\n",
       "      <td>202</td>\n",
       "      <td>0</td>\n",
       "      <td>0</td>\n",
       "      <td>0</td>\n",
       "      <td>0</td>\n",
       "      <td>9</td>\n",
       "      <td>9</td>\n",
       "      <td>None</td>\n",
       "      <td>POLYGON ((13.60075742500004 47.47519346500007,...</td>\n",
       "    </tr>\n",
       "  </tbody>\n",
       "</table>\n",
       "<p>5 rows × 23 columns</p>\n",
       "</div>"
      ],
      "text/plain": [
       "            RGIId         GLIMSId   BgnDate   EndDate   CenLon   CenLat  \\\n",
       "0  RGI60-11.00001  G013599E47495N  20030799  20030999  13.5987  47.4949   \n",
       "1  RGI60-11.00002  G013614E47485N  20030799  20030999  13.6135  47.4845   \n",
       "2  RGI60-11.00003  G013596E47484N  20030799  20030999  13.5960  47.4835   \n",
       "3  RGI60-11.00004  G013583E47481N  20030799  20030999  13.5829  47.4807   \n",
       "4  RGI60-11.00005  G013603E47477N  20030799  20030999  13.6026  47.4774   \n",
       "\n",
       "  O1Region O2Region   Area  Zmin  ...  Aspect  Lmax  Status  Connect  Form  \\\n",
       "0       11        1  0.122  2191  ...     334   461       0        0     0   \n",
       "1       11        1  2.292  2203  ...      49  1853       0        0     0   \n",
       "2       11        1  0.851  2280  ...     314  1140       0        0     0   \n",
       "3       11        1  0.053  2319  ...     306   382       0        0     0   \n",
       "4       11        1  0.057  2656  ...     291   202       0        0     0   \n",
       "\n",
       "   TermType  Surging  Linkages  Name  \\\n",
       "0         0        9         9  None   \n",
       "1         0        9         9  None   \n",
       "2         0        9         9  None   \n",
       "3         0        9         9  None   \n",
       "4         0        9         9  None   \n",
       "\n",
       "                                            geometry  \n",
       "0  POLYGON ((13.60035015400007 47.49330088800008,...  \n",
       "1  POLYGON ((13.60638417200005 47.47577712600003,...  \n",
       "2  POLYGON ((13.59765307300006 47.47612829400003,...  \n",
       "3  POLYGON ((13.58282961100002 47.47969313200008,...  \n",
       "4  POLYGON ((13.60075742500004 47.47519346500007,...  \n",
       "\n",
       "[5 rows x 23 columns]"
      ]
     },
     "execution_count": 14,
     "metadata": {},
     "output_type": "execute_result"
    }
   ],
   "source": [
    "rgi_region11_polygons.head()"
   ]
  },
  {
   "cell_type": "code",
   "execution_count": 15,
   "metadata": {},
   "outputs": [
    {
     "name": "stdout",
     "output_type": "stream",
     "text": [
      "{'init': 'epsg:4326'}\n"
     ]
    }
   ],
   "source": [
    "# Check CRS\n",
    "print(rgi_region11_polygons.crs)"
   ]
  },
  {
   "cell_type": "code",
   "execution_count": 16,
   "metadata": {},
   "outputs": [
    {
     "name": "stdout",
     "output_type": "stream",
     "text": [
      "Number of columns:\n",
      "23\n",
      "Column names:\n",
      "['RGIId', 'GLIMSId', 'BgnDate', 'EndDate', 'CenLon', 'CenLat', 'O1Region', 'O2Region', 'Area', 'Zmin', 'Zmax', 'Zmed', 'Slope', 'Aspect', 'Lmax', 'Status', 'Connect', 'Form', 'TermType', 'Surging', 'Linkages', 'Name', 'geometry']\n"
     ]
    }
   ],
   "source": [
    "# Explore column headings\n",
    "print(\"Number of columns:\")\n",
    "print(len(rgi_region11_polygons.columns))\n",
    "print(\"Column names:\")\n",
    "print(list(rgi_region11_polygons))"
   ]
  },
  {
   "cell_type": "code",
   "execution_count": 17,
   "metadata": {},
   "outputs": [
    {
     "data": {
      "text/plain": [
       "(3927, 23)"
      ]
     },
     "execution_count": 17,
     "metadata": {},
     "output_type": "execute_result"
    }
   ],
   "source": [
    "# number of rows x columns\n",
    "rgi_region11_polygons.shape"
   ]
  },
  {
   "cell_type": "code",
   "execution_count": 18,
   "metadata": {},
   "outputs": [
    {
     "data": {
      "text/plain": [
       "82.206"
      ]
     },
     "execution_count": 18,
     "metadata": {},
     "output_type": "execute_result"
    }
   ],
   "source": [
    "# List the size of the biggest glacier by area for region 11 in the RGI database\n",
    "rgi_region11_polygons['Area'].max()"
   ]
  },
  {
   "cell_type": "code",
   "execution_count": 19,
   "metadata": {},
   "outputs": [
    {
     "data": {
      "text/plain": [
       "RGIId                                          RGI60-11.01450\n",
       "GLIMSId                                        G008019E46503N\n",
       "BgnDate                                              20030799\n",
       "EndDate                                              20030999\n",
       "CenLon                                                8.01919\n",
       "CenLat                                                46.5028\n",
       "O1Region                                                   11\n",
       "O2Region                                                    1\n",
       "Area                                                   82.206\n",
       "Zmin                                                     1607\n",
       "Zmax                                                     4077\n",
       "Zmed                                                     3162\n",
       "Slope                                                    14.7\n",
       "Aspect                                                    149\n",
       "Lmax                                                    23746\n",
       "Status                                                      0\n",
       "Connect                                                     0\n",
       "Form                                                        0\n",
       "TermType                                                    0\n",
       "Surging                                                     9\n",
       "Linkages                                                    9\n",
       "Name                                                     None\n",
       "geometry    POLYGON ((8.026477001000046 46.56196906400004,...\n",
       "Name: 1449, dtype: object"
      ]
     },
     "execution_count": 19,
     "metadata": {},
     "output_type": "execute_result"
    }
   ],
   "source": [
    "# Full row of biggest glacier by area for region 11\n",
    "rgi_region11_polygons.loc[rgi_region11_polygons['Area'].idxmax()]"
   ]
  },
  {
   "cell_type": "code",
   "execution_count": 20,
   "metadata": {},
   "outputs": [
    {
     "data": {
      "text/plain": [
       "1875          Gries\n",
       "3165    Grand Etret\n",
       "Name: Name, dtype: object"
      ]
     },
     "execution_count": 20,
     "metadata": {},
     "output_type": "execute_result"
    }
   ],
   "source": [
    "# find Aletsch glacier\n",
    "ans = rgi_region11_polygons.loc[(rgi_region11_polygons['Name'] >= 'Gq') & (rgi_region11_polygons['Name'] < 'Gs')]\n",
    "ans.Name"
   ]
  },
  {
   "cell_type": "code",
   "execution_count": 21,
   "metadata": {},
   "outputs": [
    {
     "data": {
      "text/html": [
       "<div>\n",
       "<style scoped>\n",
       "    .dataframe tbody tr th:only-of-type {\n",
       "        vertical-align: middle;\n",
       "    }\n",
       "\n",
       "    .dataframe tbody tr th {\n",
       "        vertical-align: top;\n",
       "    }\n",
       "\n",
       "    .dataframe thead th {\n",
       "        text-align: right;\n",
       "    }\n",
       "</style>\n",
       "<table border=\"1\" class=\"dataframe\">\n",
       "  <thead>\n",
       "    <tr style=\"text-align: right;\">\n",
       "      <th></th>\n",
       "      <th>RGIId</th>\n",
       "      <th>GLIMSId</th>\n",
       "      <th>BgnDate</th>\n",
       "      <th>EndDate</th>\n",
       "      <th>CenLon</th>\n",
       "      <th>CenLat</th>\n",
       "      <th>O1Region</th>\n",
       "      <th>O2Region</th>\n",
       "      <th>Area</th>\n",
       "      <th>Zmin</th>\n",
       "      <th>...</th>\n",
       "      <th>Aspect</th>\n",
       "      <th>Lmax</th>\n",
       "      <th>Status</th>\n",
       "      <th>Connect</th>\n",
       "      <th>Form</th>\n",
       "      <th>TermType</th>\n",
       "      <th>Surging</th>\n",
       "      <th>Linkages</th>\n",
       "      <th>Name</th>\n",
       "      <th>geometry</th>\n",
       "    </tr>\n",
       "  </thead>\n",
       "  <tbody>\n",
       "  </tbody>\n",
       "</table>\n",
       "<p>0 rows × 23 columns</p>\n",
       "</div>"
      ],
      "text/plain": [
       "Empty GeoDataFrame\n",
       "Columns: [RGIId, GLIMSId, BgnDate, EndDate, CenLon, CenLat, O1Region, O2Region, Area, Zmin, Zmax, Zmed, Slope, Aspect, Lmax, Status, Connect, Form, TermType, Surging, Linkages, Name, geometry]\n",
       "Index: []\n",
       "\n",
       "[0 rows x 23 columns]"
      ]
     },
     "execution_count": 21,
     "metadata": {},
     "output_type": "execute_result"
    }
   ],
   "source": [
    "# find it by glims id G008032E46504N\n",
    "# why can't i find Aletsch glacier in central europe?\n",
    "ans2 = rgi_region11_polygons.loc[rgi_region11_polygons['GLIMSId']=='G008032E46504N']\n",
    "ans2"
   ]
  },
  {
   "cell_type": "code",
   "execution_count": 22,
   "metadata": {},
   "outputs": [
    {
     "data": {
      "text/html": [
       "<div>\n",
       "<style scoped>\n",
       "    .dataframe tbody tr th:only-of-type {\n",
       "        vertical-align: middle;\n",
       "    }\n",
       "\n",
       "    .dataframe tbody tr th {\n",
       "        vertical-align: top;\n",
       "    }\n",
       "\n",
       "    .dataframe thead th {\n",
       "        text-align: right;\n",
       "    }\n",
       "</style>\n",
       "<table border=\"1\" class=\"dataframe\">\n",
       "  <thead>\n",
       "    <tr style=\"text-align: right;\">\n",
       "      <th></th>\n",
       "      <th>RGIId</th>\n",
       "      <th>GLIMSId</th>\n",
       "      <th>BgnDate</th>\n",
       "      <th>EndDate</th>\n",
       "      <th>CenLon</th>\n",
       "      <th>CenLat</th>\n",
       "      <th>O1Region</th>\n",
       "      <th>O2Region</th>\n",
       "      <th>Area</th>\n",
       "      <th>Zmin</th>\n",
       "      <th>...</th>\n",
       "      <th>Aspect</th>\n",
       "      <th>Lmax</th>\n",
       "      <th>Status</th>\n",
       "      <th>Connect</th>\n",
       "      <th>Form</th>\n",
       "      <th>TermType</th>\n",
       "      <th>Surging</th>\n",
       "      <th>Linkages</th>\n",
       "      <th>Name</th>\n",
       "      <th>geometry</th>\n",
       "    </tr>\n",
       "  </thead>\n",
       "  <tbody>\n",
       "  </tbody>\n",
       "</table>\n",
       "<p>0 rows × 23 columns</p>\n",
       "</div>"
      ],
      "text/plain": [
       "Empty GeoDataFrame\n",
       "Columns: [RGIId, GLIMSId, BgnDate, EndDate, CenLon, CenLat, O1Region, O2Region, Area, Zmin, Zmax, Zmed, Slope, Aspect, Lmax, Status, Connect, Form, TermType, Surging, Linkages, Name, geometry]\n",
       "Index: []\n",
       "\n",
       "[0 rows x 23 columns]"
      ]
     },
     "execution_count": 22,
     "metadata": {},
     "output_type": "execute_result"
    }
   ],
   "source": [
    "# This line finds Aletsch glacier specifically\n",
    "aletsch_glacier = rgi_region11_polygons.loc[rgi_region11_polygons['Name']=='Aletsch Glacier']\n",
    "aletsch_glacier"
   ]
  }
 ],
 "metadata": {
  "kernelspec": {
   "display_name": "Python [conda env:wgms-project-python] *",
   "language": "python",
   "name": "conda-env-wgms-project-python-py"
  },
  "language_info": {
   "codemirror_mode": {
    "name": "ipython",
    "version": 3
   },
   "file_extension": ".py",
   "mimetype": "text/x-python",
   "name": "python",
   "nbconvert_exporter": "python",
   "pygments_lexer": "ipython3",
   "version": "3.6.7"
  }
 },
 "nbformat": 4,
 "nbformat_minor": 2
}

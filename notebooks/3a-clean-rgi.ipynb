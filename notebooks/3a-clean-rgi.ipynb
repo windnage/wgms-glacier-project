{
 "cells": [
  {
   "cell_type": "markdown",
   "metadata": {},
   "source": [
    "# Clean RGI\n",
    "\n",
    "This notebook cleans up Region 5 (Greenland Perisphery) by removing glaciers from the database that have connectivity level of 2. We are only interested in glaciers with connectivity to the Greenland Ice Sheet of level 0 or 1. It saves the cleaned RGI database to a new file.\n",
    "\n",
    "Rastner et al. (2012) developed this connectivity level model to help describe how attached or detached a glacier is to an ice sheet and to distinguish between local glaciers around the periphery of an ice sheet from the outlet glaciers of the ice sheet. Rastner et al. (2012) created three connectivity levels for this purpose; they are described in the list below. Rastner et al. (2012) recommends that glaciers with a connectivity level of 2 be treated as part of the ice sheet. Therefore, for this study, only glaciers with connectivity level of 0 or 1 were considered.\n",
    "\n",
    "* 0 - Indicates that the glacier is physically detached from the ice sheet and is not connected.\n",
    "* 1 - Indicates that the glacier is weakly connected to the ice sheet. This means that the glacier is only in contact with the ice sheet at a well-defined divide in the accumulation zone.\n",
    "* 2 - Indicates that the glacier is strongly connected. This means that the divide between the glacier and the ice sheet is indistinct in the accumulation zone and/or confluent with an ice-sheet outlet in the ablation zone.\n",
    "\n",
    "Rastner, P., Bolch, T., Mölg, N., Machguth, H., Bris, R. L., & Paul, F. (2012). The first complete inventory of the local glaciers and ice caps on Greenland. The Cryosphere, 6(6), 1483-1495."
   ]
  },
  {
   "cell_type": "code",
   "execution_count": 1,
   "metadata": {},
   "outputs": [],
   "source": [
    "import os\n",
    "import sys\n",
    "import pandas as pd\n",
    "import matplotlib.pyplot as plt\n",
    "import geopandas as gpd\n",
    "\n",
    "import earthpy as et\n",
    "\n",
    "# set working dir\n",
    "os.chdir(os.path.join(et.io.HOME, \"git/wgms-glacier-project\"))\n",
    "\n",
    "module_path = os.path.abspath(os.path.join('..'))\n",
    "if module_path not in sys.path:\n",
    "    sys.path.append(module_path)\n",
    "    \n",
    "import scripts.wgms_scripts as ws"
   ]
  },
  {
   "cell_type": "code",
   "execution_count": 2,
   "metadata": {},
   "outputs": [],
   "source": [
    "# Open RGI region 05 - Greenland Periphery\n",
    "rgi_region05_polygons = ws.open_rgi_region(5)"
   ]
  },
  {
   "cell_type": "code",
   "execution_count": 3,
   "metadata": {},
   "outputs": [
    {
     "data": {
      "text/plain": [
       "20261"
      ]
     },
     "execution_count": 3,
     "metadata": {},
     "output_type": "execute_result"
    }
   ],
   "source": [
    "# Check number of polygons in the raw dataframe\n",
    "len(rgi_region05_polygons)"
   ]
  },
  {
   "cell_type": "code",
   "execution_count": 4,
   "metadata": {},
   "outputs": [],
   "source": [
    "# Select glaciers that have connectivity level of 0 or 1\n",
    "rgi_region05_polygons = rgi_region05_polygons.loc[\n",
    "    (rgi_region05_polygons['Connect'] == 0) | (rgi_region05_polygons['Connect'] == 1)]"
   ]
  },
  {
   "cell_type": "code",
   "execution_count": 5,
   "metadata": {},
   "outputs": [
    {
     "data": {
      "text/plain": [
       "19306"
      ]
     },
     "execution_count": 5,
     "metadata": {},
     "output_type": "execute_result"
    }
   ],
   "source": [
    "# Check the number of resulting polygons in the clean dataframe\n",
    "len(rgi_region05_polygons)"
   ]
  },
  {
   "cell_type": "code",
   "execution_count": 6,
   "metadata": {},
   "outputs": [
    {
     "name": "stdout",
     "output_type": "stream",
     "text": [
      "data/rgi/raw/05_rgi60_GreenlandPeriphery_clean/05_rgi60_GreenlandPeriphery_clean.shp already extists\n"
     ]
    }
   ],
   "source": [
    "# Write dataframe to shapefile\n",
    "clean_fn = \"data/rgi/raw/05_rgi60_GreenlandPeriphery_clean/05_rgi60_GreenlandPeriphery_clean.shp\"\n",
    "if os.path.exists(clean_fn) == False:\n",
    "    # Create the shapefile\n",
    "    rgi_region05_polygons.to_file(driver='ESRI Shapefile', filename=clean_fn)\n",
    "    \n",
    "else:\n",
    "    print(clean_fn + \" already extists\")"
   ]
  },
  {
   "cell_type": "code",
   "execution_count": 7,
   "metadata": {},
   "outputs": [],
   "source": [
    "# Open the new shapefile to make sure it is okay. Use region_no equal to 20 to access that file\n",
    "rgi_region05_clean_polygons = ws.open_rgi_region(20)"
   ]
  },
  {
   "cell_type": "code",
   "execution_count": 8,
   "metadata": {},
   "outputs": [
    {
     "data": {
      "text/plain": [
       "19306"
      ]
     },
     "execution_count": 8,
     "metadata": {},
     "output_type": "execute_result"
    }
   ],
   "source": [
    "len(rgi_region05_clean_polygons)"
   ]
  }
 ],
 "metadata": {
  "kernelspec": {
   "display_name": "Python 3",
   "language": "python",
   "name": "python3"
  },
  "language_info": {
   "codemirror_mode": {
    "name": "ipython",
    "version": 3
   },
   "file_extension": ".py",
   "mimetype": "text/x-python",
   "name": "python",
   "nbconvert_exporter": "python",
   "pygments_lexer": "ipython3",
   "version": "3.7.3"
  }
 },
 "nbformat": 4,
 "nbformat_minor": 2
}

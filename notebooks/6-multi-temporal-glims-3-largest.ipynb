{
 "cells": [
  {
   "cell_type": "markdown",
   "metadata": {},
   "source": [
    "# Multi-Temporal GLIMS Comparison\n",
    "\n",
    "This notebook finds 3 different time instances (if they exist) for the 3 largest glaciers in each of the 19 regions for GLIMS."
   ]
  },
  {
   "cell_type": "code",
   "execution_count": 1,
   "metadata": {},
   "outputs": [],
   "source": [
    "import os\n",
    "import os.path as op\n",
    "import sys\n",
    "import pandas as pd\n",
    "import matplotlib.pyplot as plt\n",
    "import geopandas as gpd\n",
    "from shapely.geometry import polygon\n",
    "\n",
    "# set working dir\n",
    "HOME = op.join(op.expanduser(\"~\"))\n",
    "os.chdir(os.path.join(HOME, \"git/wgms-glacier-project\"))\n",
    "\n",
    "module_path = os.path.abspath(os.path.join('..'))\n",
    "if module_path not in sys.path:\n",
    "    sys.path.append(module_path)\n",
    "    \n",
    "import scripts.wgms_scripts as ws"
   ]
  },
  {
   "cell_type": "markdown",
   "metadata": {},
   "source": [
    "## All Regions"
   ]
  },
  {
   "cell_type": "code",
   "execution_count": 7,
   "metadata": {
    "scrolled": false
   },
   "outputs": [
    {
     "name": "stdout",
     "output_type": "stream",
     "text": [
      "Region 1\n",
      "Region 2\n",
      "Region 3\n",
      "Region 4\n",
      "Region 5\n",
      "Region 6\n",
      "Region 7\n",
      "Region 8\n",
      "Region 9\n",
      "Region 10\n",
      "Region 11\n",
      "Region 12\n",
      "Region 13\n",
      "Region 14\n",
      "Region 15\n",
      "Region 16\n",
      "Region 17\n",
      "Region 18\n",
      "Region 19\n"
     ]
    }
   ],
   "source": [
    "for x in range(0,19):\n",
    "    print(\"Region \" + str(x+1))\n",
    "    if x == 0:\n",
    "        # Create first instance of multi_largest_df so that we can append to it later\n",
    "        multi_largest_df = ws.multi_temporal_glims(x+1, do_print=\"false\")\n",
    "    else:\n",
    "        # Append the other rows to multi_largest_df\n",
    "        multi_largest_df_part = ws.multi_temporal_glims(x+1, do_print=\"false\")\n",
    "        multi_largest_df = multi_largest_df.append(multi_largest_df_part)\n",
    "        \n",
    "# Save dataframe to csv file with only columns we are interested in\n",
    "multi_largest_csv_fp = \"data/comparison/multi-temporal-glims.csv\"\n",
    "multi_largest_df_needed = multi_largest_df[['region_no', 'glac_id', 'db_area', 'glac_name', 'src_date']]\n",
    "multi_largest_df_needed.to_csv(multi_largest_csv_fp, index=False)"
   ]
  }
 ],
 "metadata": {
  "kernelspec": {
   "display_name": "Python 3",
   "language": "python",
   "name": "python3"
  },
  "language_info": {
   "codemirror_mode": {
    "name": "ipython",
    "version": 3
   },
   "file_extension": ".py",
   "mimetype": "text/x-python",
   "name": "python",
   "nbconvert_exporter": "python",
   "pygments_lexer": "ipython3",
   "version": "3.7.3"
  }
 },
 "nbformat": 4,
 "nbformat_minor": 2
}

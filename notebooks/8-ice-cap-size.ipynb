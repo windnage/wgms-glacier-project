{
 "cells": [
  {
   "cell_type": "markdown",
   "metadata": {},
   "source": [
    "# Ice Cap Sizes\n",
    "\n",
    "This notebook reads the exploded data files and calculates the sizes of the ice caps and ice catchments in them and then adds those areas to the dataframe."
   ]
  },
  {
   "cell_type": "code",
   "execution_count": 1,
   "metadata": {},
   "outputs": [],
   "source": [
    "import os\n",
    "import os.path as op\n",
    "import sys\n",
    "import pandas as pd\n",
    "import matplotlib.pyplot as plt\n",
    "import geopandas as gpd\n",
    "\n",
    "# set working dir\n",
    "HOME = op.join(op.expanduser(\"~\"))\n",
    "os.chdir(os.path.join(HOME, \"git/wgms-glacier-project\"))\n",
    "\n",
    "# Set up path to load scripts\n",
    "module_path = os.path.abspath(os.path.join('..'))\n",
    "if module_path not in sys.path:\n",
    "    sys.path.append(module_path)\n",
    "    \n",
    "import scripts.wgms_scripts as ws"
   ]
  },
  {
   "cell_type": "code",
   "execution_count": 2,
   "metadata": {},
   "outputs": [],
   "source": [
    "# Open the region 3 exploded file\n",
    "region_3_fn = \"data/glims/processed/ice-caps/exploded/\"\n",
    "glims_region_3_df = gpd.read_file(region_3_fn)"
   ]
  },
  {
   "cell_type": "code",
   "execution_count": 3,
   "metadata": {},
   "outputs": [
    {
     "data": {
      "text/html": [
       "<div>\n",
       "<style scoped>\n",
       "    .dataframe tbody tr th:only-of-type {\n",
       "        vertical-align: middle;\n",
       "    }\n",
       "\n",
       "    .dataframe tbody tr th {\n",
       "        vertical-align: top;\n",
       "    }\n",
       "\n",
       "    .dataframe thead th {\n",
       "        text-align: right;\n",
       "    }\n",
       "</style>\n",
       "<table border=\"1\" class=\"dataframe\">\n",
       "  <thead>\n",
       "    <tr style=\"text-align: right;\">\n",
       "      <th></th>\n",
       "      <th>id</th>\n",
       "      <th>geometry</th>\n",
       "    </tr>\n",
       "  </thead>\n",
       "  <tbody>\n",
       "    <tr>\n",
       "      <td>0</td>\n",
       "      <td>0</td>\n",
       "      <td>POLYGON ((-129.77364 54.433757, -129.773664 54...</td>\n",
       "    </tr>\n",
       "    <tr>\n",
       "      <td>1</td>\n",
       "      <td>1</td>\n",
       "      <td>POLYGON ((-129.945759 54.398699, -129.945785 5...</td>\n",
       "    </tr>\n",
       "    <tr>\n",
       "      <td>2</td>\n",
       "      <td>2</td>\n",
       "      <td>POLYGON ((-129.731727 54.570413, -129.731702 5...</td>\n",
       "    </tr>\n",
       "    <tr>\n",
       "      <td>3</td>\n",
       "      <td>3</td>\n",
       "      <td>POLYGON ((-129.6887551166636 54.60480889093763...</td>\n",
       "    </tr>\n",
       "    <tr>\n",
       "      <td>4</td>\n",
       "      <td>4</td>\n",
       "      <td>POLYGON ((-129.505904 54.657559, -129.505751 5...</td>\n",
       "    </tr>\n",
       "  </tbody>\n",
       "</table>\n",
       "</div>"
      ],
      "text/plain": [
       "   id                                           geometry\n",
       "0   0  POLYGON ((-129.77364 54.433757, -129.773664 54...\n",
       "1   1  POLYGON ((-129.945759 54.398699, -129.945785 5...\n",
       "2   2  POLYGON ((-129.731727 54.570413, -129.731702 5...\n",
       "3   3  POLYGON ((-129.6887551166636 54.60480889093763...\n",
       "4   4  POLYGON ((-129.505904 54.657559, -129.505751 5..."
      ]
     },
     "execution_count": 3,
     "metadata": {},
     "output_type": "execute_result"
    }
   ],
   "source": [
    "glims_region_3_df.head()"
   ]
  },
  {
   "cell_type": "code",
   "execution_count": 5,
   "metadata": {},
   "outputs": [
    {
     "data": {
      "text/html": [
       "<div>\n",
       "<style scoped>\n",
       "    .dataframe tbody tr th:only-of-type {\n",
       "        vertical-align: middle;\n",
       "    }\n",
       "\n",
       "    .dataframe tbody tr th {\n",
       "        vertical-align: top;\n",
       "    }\n",
       "\n",
       "    .dataframe thead th {\n",
       "        text-align: right;\n",
       "    }\n",
       "</style>\n",
       "<table border=\"1\" class=\"dataframe\">\n",
       "  <thead>\n",
       "    <tr style=\"text-align: right;\">\n",
       "      <th></th>\n",
       "      <th>id</th>\n",
       "      <th>geometry</th>\n",
       "    </tr>\n",
       "  </thead>\n",
       "  <tbody>\n",
       "    <tr>\n",
       "      <td>0</td>\n",
       "      <td>0</td>\n",
       "      <td>POLYGON ((-129.77364 54.433757, -129.773664 54...</td>\n",
       "    </tr>\n",
       "  </tbody>\n",
       "</table>\n",
       "</div>"
      ],
      "text/plain": [
       "   id                                           geometry\n",
       "0   0  POLYGON ((-129.77364 54.433757, -129.773664 54..."
      ]
     },
     "execution_count": 5,
     "metadata": {},
     "output_type": "execute_result"
    }
   ],
   "source": [
    "polygon1 = glims_region_3_df.iloc[0:1]\n",
    "polygon1"
   ]
  },
  {
   "cell_type": "code",
   "execution_count": 6,
   "metadata": {},
   "outputs": [
    {
     "name": "stdout",
     "output_type": "stream",
     "text": [
      "0    0.000265\n",
      "dtype: float64\n"
     ]
    }
   ],
   "source": [
    "#print(polygon1['geometry'].to_crs({'init': 'epsg:32633'}).area/10**6)\n",
    "print(polygon1['geometry'].area)"
   ]
  },
  {
   "cell_type": "code",
   "execution_count": 31,
   "metadata": {},
   "outputs": [
    {
     "data": {
      "text/plain": [
       "{'init': 'epsg:4326'}"
      ]
     },
     "execution_count": 31,
     "metadata": {},
     "output_type": "execute_result"
    }
   ],
   "source": [
    "glims_region_3_df.crs"
   ]
  },
  {
   "cell_type": "code",
   "execution_count": 18,
   "metadata": {},
   "outputs": [],
   "source": [
    "# determine the area of all the polygons\n",
    "region_3_polygon_areas = glims_region_3_df['geometry'].to_crs({'init': 'epsg:3338'}).area/10**6"
   ]
  },
  {
   "cell_type": "code",
   "execution_count": 24,
   "metadata": {},
   "outputs": [],
   "source": [
    "# determine the area of all the polygons\n",
    "region_3_polygon_areas_3857 = glims_region_3_df['geometry'].to_crs({'init': 'epsg:3857'}).area/10**6"
   ]
  },
  {
   "cell_type": "code",
   "execution_count": 26,
   "metadata": {},
   "outputs": [],
   "source": [
    "# determine the area of all the polygons\n",
    "region_3_polygon_areas_26911 = glims_region_3_df['geometry'].to_crs({'init': 'epsg:26911'}).area/10**6"
   ]
  },
  {
   "cell_type": "code",
   "execution_count": 28,
   "metadata": {},
   "outputs": [],
   "source": [
    "# determine the area of all the polygons\n",
    "region_3_polygon_areas_26912 = glims_region_3_df['geometry'].to_crs({'init': 'epsg:26912'}).area/10**6"
   ]
  },
  {
   "cell_type": "code",
   "execution_count": 19,
   "metadata": {},
   "outputs": [
    {
     "data": {
      "text/plain": [
       "0          1.913323\n",
       "1          1.228206\n",
       "2          0.291838\n",
       "3          0.597536\n",
       "4          1.732741\n",
       "            ...    \n",
       "19369     13.959257\n",
       "19370      4.571569\n",
       "19371      4.080607\n",
       "19372     71.936532\n",
       "19373    323.045219\n",
       "Length: 19374, dtype: float64"
      ]
     },
     "execution_count": 19,
     "metadata": {},
     "output_type": "execute_result"
    }
   ],
   "source": [
    "region_3_polygon_areas"
   ]
  },
  {
   "cell_type": "code",
   "execution_count": 25,
   "metadata": {},
   "outputs": [
    {
     "data": {
      "text/plain": [
       "0           5.644715\n",
       "1           3.615705\n",
       "2           0.866597\n",
       "3           1.776972\n",
       "4           5.166533\n",
       "            ...     \n",
       "19369      58.619718\n",
       "19370      19.208133\n",
       "19371      17.141228\n",
       "19372     302.885601\n",
       "19373    1362.820664\n",
       "Length: 19374, dtype: float64"
      ]
     },
     "execution_count": 25,
     "metadata": {},
     "output_type": "execute_result"
    }
   ],
   "source": [
    "region_3_polygon_areas_3857"
   ]
  },
  {
   "cell_type": "code",
   "execution_count": 27,
   "metadata": {},
   "outputs": [
    {
     "data": {
      "text/plain": [
       "0          1.944049\n",
       "1          1.248506\n",
       "2          0.296457\n",
       "3          0.606902\n",
       "4          1.758963\n",
       "            ...    \n",
       "19369     14.740882\n",
       "19370      4.830294\n",
       "19371      4.260806\n",
       "19372     75.821741\n",
       "19373    341.214452\n",
       "Length: 19374, dtype: float64"
      ]
     },
     "execution_count": 27,
     "metadata": {},
     "output_type": "execute_result"
    }
   ],
   "source": [
    "region_3_polygon_areas_26911"
   ]
  },
  {
   "cell_type": "code",
   "execution_count": 29,
   "metadata": {},
   "outputs": [
    {
     "data": {
      "text/plain": [
       "0          1.981405\n",
       "1          1.272787\n",
       "2          0.302099\n",
       "3          0.618400\n",
       "4          1.791806\n",
       "            ...    \n",
       "19369     15.092903\n",
       "19370      4.945988\n",
       "19371      4.354836\n",
       "19372     77.608100\n",
       "19373    349.346498\n",
       "Length: 19374, dtype: float64"
      ]
     },
     "execution_count": 29,
     "metadata": {},
     "output_type": "execute_result"
    }
   ],
   "source": [
    "region_3_polygon_areas_26912"
   ]
  },
  {
   "cell_type": "code",
   "execution_count": 20,
   "metadata": {},
   "outputs": [],
   "source": [
    "# df1 = df1.assign(e=pd.Series(np.random.randn(sLength)).values)\n",
    "glims_region_3_df = glims_region_3_df.assign(area=region_3_polygon_areas)"
   ]
  },
  {
   "cell_type": "code",
   "execution_count": 21,
   "metadata": {},
   "outputs": [
    {
     "data": {
      "text/html": [
       "<div>\n",
       "<style scoped>\n",
       "    .dataframe tbody tr th:only-of-type {\n",
       "        vertical-align: middle;\n",
       "    }\n",
       "\n",
       "    .dataframe tbody tr th {\n",
       "        vertical-align: top;\n",
       "    }\n",
       "\n",
       "    .dataframe thead th {\n",
       "        text-align: right;\n",
       "    }\n",
       "</style>\n",
       "<table border=\"1\" class=\"dataframe\">\n",
       "  <thead>\n",
       "    <tr style=\"text-align: right;\">\n",
       "      <th></th>\n",
       "      <th>id</th>\n",
       "      <th>geometry</th>\n",
       "      <th>area</th>\n",
       "    </tr>\n",
       "  </thead>\n",
       "  <tbody>\n",
       "    <tr>\n",
       "      <td>0</td>\n",
       "      <td>0</td>\n",
       "      <td>POLYGON ((-129.77364 54.433757, -129.773664 54...</td>\n",
       "      <td>1.913323</td>\n",
       "    </tr>\n",
       "    <tr>\n",
       "      <td>1</td>\n",
       "      <td>1</td>\n",
       "      <td>POLYGON ((-129.945759 54.398699, -129.945785 5...</td>\n",
       "      <td>1.228206</td>\n",
       "    </tr>\n",
       "    <tr>\n",
       "      <td>2</td>\n",
       "      <td>2</td>\n",
       "      <td>POLYGON ((-129.731727 54.570413, -129.731702 5...</td>\n",
       "      <td>0.291838</td>\n",
       "    </tr>\n",
       "    <tr>\n",
       "      <td>3</td>\n",
       "      <td>3</td>\n",
       "      <td>POLYGON ((-129.6887551166636 54.60480889093763...</td>\n",
       "      <td>0.597536</td>\n",
       "    </tr>\n",
       "    <tr>\n",
       "      <td>4</td>\n",
       "      <td>4</td>\n",
       "      <td>POLYGON ((-129.505904 54.657559, -129.505751 5...</td>\n",
       "      <td>1.732741</td>\n",
       "    </tr>\n",
       "  </tbody>\n",
       "</table>\n",
       "</div>"
      ],
      "text/plain": [
       "   id                                           geometry      area\n",
       "0   0  POLYGON ((-129.77364 54.433757, -129.773664 54...  1.913323\n",
       "1   1  POLYGON ((-129.945759 54.398699, -129.945785 5...  1.228206\n",
       "2   2  POLYGON ((-129.731727 54.570413, -129.731702 5...  0.291838\n",
       "3   3  POLYGON ((-129.6887551166636 54.60480889093763...  0.597536\n",
       "4   4  POLYGON ((-129.505904 54.657559, -129.505751 5...  1.732741"
      ]
     },
     "execution_count": 21,
     "metadata": {},
     "output_type": "execute_result"
    }
   ],
   "source": [
    "glims_region_3_df.head()"
   ]
  },
  {
   "cell_type": "code",
   "execution_count": 22,
   "metadata": {},
   "outputs": [],
   "source": [
    "ten_largest_df = glims_region_3_df[['id', 'area']].nlargest(10, 'area')"
   ]
  },
  {
   "cell_type": "code",
   "execution_count": 23,
   "metadata": {},
   "outputs": [
    {
     "data": {
      "text/html": [
       "<div>\n",
       "<style scoped>\n",
       "    .dataframe tbody tr th:only-of-type {\n",
       "        vertical-align: middle;\n",
       "    }\n",
       "\n",
       "    .dataframe tbody tr th {\n",
       "        vertical-align: top;\n",
       "    }\n",
       "\n",
       "    .dataframe thead th {\n",
       "        text-align: right;\n",
       "    }\n",
       "</style>\n",
       "<table border=\"1\" class=\"dataframe\">\n",
       "  <thead>\n",
       "    <tr style=\"text-align: right;\">\n",
       "      <th></th>\n",
       "      <th>id</th>\n",
       "      <th>area</th>\n",
       "    </tr>\n",
       "  </thead>\n",
       "  <tbody>\n",
       "    <tr>\n",
       "      <td>497</td>\n",
       "      <td>497</td>\n",
       "      <td>30194.890249</td>\n",
       "    </tr>\n",
       "    <tr>\n",
       "      <td>435</td>\n",
       "      <td>435</td>\n",
       "      <td>5816.707100</td>\n",
       "    </tr>\n",
       "    <tr>\n",
       "      <td>461</td>\n",
       "      <td>461</td>\n",
       "      <td>5182.769461</td>\n",
       "    </tr>\n",
       "    <tr>\n",
       "      <td>482</td>\n",
       "      <td>482</td>\n",
       "      <td>4129.082821</td>\n",
       "    </tr>\n",
       "    <tr>\n",
       "      <td>434</td>\n",
       "      <td>434</td>\n",
       "      <td>3169.856774</td>\n",
       "    </tr>\n",
       "    <tr>\n",
       "      <td>480</td>\n",
       "      <td>480</td>\n",
       "      <td>3081.313806</td>\n",
       "    </tr>\n",
       "    <tr>\n",
       "      <td>493</td>\n",
       "      <td>493</td>\n",
       "      <td>1744.887698</td>\n",
       "    </tr>\n",
       "    <tr>\n",
       "      <td>383</td>\n",
       "      <td>383</td>\n",
       "      <td>1645.822861</td>\n",
       "    </tr>\n",
       "    <tr>\n",
       "      <td>15890</td>\n",
       "      <td>15890</td>\n",
       "      <td>1384.994039</td>\n",
       "    </tr>\n",
       "    <tr>\n",
       "      <td>14012</td>\n",
       "      <td>14012</td>\n",
       "      <td>1284.155076</td>\n",
       "    </tr>\n",
       "  </tbody>\n",
       "</table>\n",
       "</div>"
      ],
      "text/plain": [
       "          id          area\n",
       "497      497  30194.890249\n",
       "435      435   5816.707100\n",
       "461      461   5182.769461\n",
       "482      482   4129.082821\n",
       "434      434   3169.856774\n",
       "480      480   3081.313806\n",
       "493      493   1744.887698\n",
       "383      383   1645.822861\n",
       "15890  15890   1384.994039\n",
       "14012  14012   1284.155076"
      ]
     },
     "execution_count": 23,
     "metadata": {},
     "output_type": "execute_result"
    }
   ],
   "source": [
    "ten_largest_df"
   ]
  },
  {
   "cell_type": "code",
   "execution_count": 33,
   "metadata": {},
   "outputs": [],
   "source": [
    "glims_region_3_df_3857 = glims_region_3_df.assign(area=region_3_polygon_areas_3857)"
   ]
  },
  {
   "cell_type": "code",
   "execution_count": 34,
   "metadata": {},
   "outputs": [
    {
     "data": {
      "text/html": [
       "<div>\n",
       "<style scoped>\n",
       "    .dataframe tbody tr th:only-of-type {\n",
       "        vertical-align: middle;\n",
       "    }\n",
       "\n",
       "    .dataframe tbody tr th {\n",
       "        vertical-align: top;\n",
       "    }\n",
       "\n",
       "    .dataframe thead th {\n",
       "        text-align: right;\n",
       "    }\n",
       "</style>\n",
       "<table border=\"1\" class=\"dataframe\">\n",
       "  <thead>\n",
       "    <tr style=\"text-align: right;\">\n",
       "      <th></th>\n",
       "      <th>id</th>\n",
       "      <th>geometry</th>\n",
       "      <th>area</th>\n",
       "    </tr>\n",
       "  </thead>\n",
       "  <tbody>\n",
       "    <tr>\n",
       "      <td>0</td>\n",
       "      <td>0</td>\n",
       "      <td>POLYGON ((-129.77364 54.433757, -129.773664 54...</td>\n",
       "      <td>5.644715</td>\n",
       "    </tr>\n",
       "    <tr>\n",
       "      <td>1</td>\n",
       "      <td>1</td>\n",
       "      <td>POLYGON ((-129.945759 54.398699, -129.945785 5...</td>\n",
       "      <td>3.615705</td>\n",
       "    </tr>\n",
       "    <tr>\n",
       "      <td>2</td>\n",
       "      <td>2</td>\n",
       "      <td>POLYGON ((-129.731727 54.570413, -129.731702 5...</td>\n",
       "      <td>0.866597</td>\n",
       "    </tr>\n",
       "    <tr>\n",
       "      <td>3</td>\n",
       "      <td>3</td>\n",
       "      <td>POLYGON ((-129.6887551166636 54.60480889093763...</td>\n",
       "      <td>1.776972</td>\n",
       "    </tr>\n",
       "    <tr>\n",
       "      <td>4</td>\n",
       "      <td>4</td>\n",
       "      <td>POLYGON ((-129.505904 54.657559, -129.505751 5...</td>\n",
       "      <td>5.166533</td>\n",
       "    </tr>\n",
       "  </tbody>\n",
       "</table>\n",
       "</div>"
      ],
      "text/plain": [
       "   id                                           geometry      area\n",
       "0   0  POLYGON ((-129.77364 54.433757, -129.773664 54...  5.644715\n",
       "1   1  POLYGON ((-129.945759 54.398699, -129.945785 5...  3.615705\n",
       "2   2  POLYGON ((-129.731727 54.570413, -129.731702 5...  0.866597\n",
       "3   3  POLYGON ((-129.6887551166636 54.60480889093763...  1.776972\n",
       "4   4  POLYGON ((-129.505904 54.657559, -129.505751 5...  5.166533"
      ]
     },
     "execution_count": 34,
     "metadata": {},
     "output_type": "execute_result"
    }
   ],
   "source": [
    "glims_region_3_df_3857.head()"
   ]
  },
  {
   "cell_type": "code",
   "execution_count": 35,
   "metadata": {},
   "outputs": [],
   "source": [
    "ten_largest_df_3857 = glims_region_3_df_3857[['id', 'area']].nlargest(10, 'area')"
   ]
  },
  {
   "cell_type": "code",
   "execution_count": 36,
   "metadata": {},
   "outputs": [
    {
     "data": {
      "text/html": [
       "<div>\n",
       "<style scoped>\n",
       "    .dataframe tbody tr th:only-of-type {\n",
       "        vertical-align: middle;\n",
       "    }\n",
       "\n",
       "    .dataframe tbody tr th {\n",
       "        vertical-align: top;\n",
       "    }\n",
       "\n",
       "    .dataframe thead th {\n",
       "        text-align: right;\n",
       "    }\n",
       "</style>\n",
       "<table border=\"1\" class=\"dataframe\">\n",
       "  <thead>\n",
       "    <tr style=\"text-align: right;\">\n",
       "      <th></th>\n",
       "      <th>id</th>\n",
       "      <th>area</th>\n",
       "    </tr>\n",
       "  </thead>\n",
       "  <tbody>\n",
       "    <tr>\n",
       "      <td>497</td>\n",
       "      <td>497</td>\n",
       "      <td>124050.004090</td>\n",
       "    </tr>\n",
       "    <tr>\n",
       "      <td>461</td>\n",
       "      <td>461</td>\n",
       "      <td>22445.209546</td>\n",
       "    </tr>\n",
       "    <tr>\n",
       "      <td>435</td>\n",
       "      <td>435</td>\n",
       "      <td>21883.900294</td>\n",
       "    </tr>\n",
       "    <tr>\n",
       "      <td>482</td>\n",
       "      <td>482</td>\n",
       "      <td>18542.209546</td>\n",
       "    </tr>\n",
       "    <tr>\n",
       "      <td>480</td>\n",
       "      <td>480</td>\n",
       "      <td>14820.744452</td>\n",
       "    </tr>\n",
       "    <tr>\n",
       "      <td>434</td>\n",
       "      <td>434</td>\n",
       "      <td>11846.109477</td>\n",
       "    </tr>\n",
       "    <tr>\n",
       "      <td>15890</td>\n",
       "      <td>15890</td>\n",
       "      <td>6944.835670</td>\n",
       "    </tr>\n",
       "    <tr>\n",
       "      <td>493</td>\n",
       "      <td>493</td>\n",
       "      <td>6938.545256</td>\n",
       "    </tr>\n",
       "    <tr>\n",
       "      <td>383</td>\n",
       "      <td>383</td>\n",
       "      <td>5789.630985</td>\n",
       "    </tr>\n",
       "    <tr>\n",
       "      <td>14012</td>\n",
       "      <td>14012</td>\n",
       "      <td>5617.842379</td>\n",
       "    </tr>\n",
       "  </tbody>\n",
       "</table>\n",
       "</div>"
      ],
      "text/plain": [
       "          id           area\n",
       "497      497  124050.004090\n",
       "461      461   22445.209546\n",
       "435      435   21883.900294\n",
       "482      482   18542.209546\n",
       "480      480   14820.744452\n",
       "434      434   11846.109477\n",
       "15890  15890    6944.835670\n",
       "493      493    6938.545256\n",
       "383      383    5789.630985\n",
       "14012  14012    5617.842379"
      ]
     },
     "execution_count": 36,
     "metadata": {},
     "output_type": "execute_result"
    }
   ],
   "source": [
    "ten_largest_df_3857"
   ]
  }
 ],
 "metadata": {
  "kernelspec": {
   "display_name": "Python 3",
   "language": "python",
   "name": "python3"
  },
  "language_info": {
   "codemirror_mode": {
    "name": "ipython",
    "version": 3
   },
   "file_extension": ".py",
   "mimetype": "text/x-python",
   "name": "python",
   "nbconvert_exporter": "python",
   "pygments_lexer": "ipython3",
   "version": "3.7.3"
  }
 },
 "nbformat": 4,
 "nbformat_minor": 2
}

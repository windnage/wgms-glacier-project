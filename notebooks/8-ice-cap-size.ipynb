{
 "cells": [
  {
   "cell_type": "markdown",
   "metadata": {},
   "source": [
    "# Ice Cap Sizes\n",
    "\n",
    "This notebook reads the exploded data files and calculates the sizes of the ice caps and ice catchments in them and then adds those areas to the dataframe.\n",
    "\n",
    "These are the regions where ice caps are being evaluated:\n",
    "\n",
    "* Region 3 - Arctic Canada, North\n",
    "* Region 4 - Arctic Canada, South\n",
    "* Region 5 - Greenland\n",
    "* Region 6 - Iceland\n",
    "* Region 7 - Svalbard and Jan Mayen\n",
    "* Region 8 - Scandinavia\n",
    "* Region 9 - Russian Arctic\n",
    "* Region 10 - Asia, North\n",
    "* Region 17 - Southern Andes"
   ]
  },
  {
   "cell_type": "code",
   "execution_count": 1,
   "metadata": {},
   "outputs": [],
   "source": [
    "import os\n",
    "import os.path as op\n",
    "import sys\n",
    "import pandas as pd\n",
    "import matplotlib.pyplot as plt\n",
    "import geopandas as gpd\n",
    "\n",
    "# set working dir\n",
    "HOME = op.join(op.expanduser(\"~\"))\n",
    "os.chdir(os.path.join(HOME, \"git/wgms-glacier-project\"))\n",
    "\n",
    "# Set up path to load scripts\n",
    "module_path = os.path.abspath(os.path.join('..'))\n",
    "if module_path not in sys.path:\n",
    "    sys.path.append(module_path)\n",
    "    \n",
    "import scripts.wgms_scripts as ws"
   ]
  },
  {
   "cell_type": "code",
   "execution_count": 34,
   "metadata": {},
   "outputs": [],
   "source": [
    "# Set up data dictionary with CRS codes for each region\n",
    "crs_codes = {\n",
    "            'region3' : 'epsg:3347', # another possibility - 'esri:102001'\n",
    "            'region4' : 'epsg:3347',\n",
    "            'region5' : 'epsg:32627',\n",
    "            'region6' : 'epsg:3057',\n",
    "            'region7' : 'text4', \n",
    "            'region8' : 'text5',\n",
    "            'region9' : 'text6',\n",
    "            'region10' : 'text7',\n",
    "            'region17' : 'text8'\n",
    "            }"
   ]
  },
  {
   "cell_type": "code",
   "execution_count": 17,
   "metadata": {},
   "outputs": [
    {
     "data": {
      "text/plain": [
       "'epsg:4909'"
      ]
     },
     "execution_count": 17,
     "metadata": {},
     "output_type": "execute_result"
    }
   ],
   "source": [
    "crs_codes['region5']"
   ]
  },
  {
   "cell_type": "markdown",
   "metadata": {},
   "source": [
    "# Region 3 - Arctic Canda - North"
   ]
  },
  {
   "cell_type": "code",
   "execution_count": 3,
   "metadata": {},
   "outputs": [],
   "source": [
    "# Open the region 3 exploded file\n",
    "region_3_fn = \"data/glims/processed/ice-caps/exploded/exploded_3.shp\"\n",
    "glims_region_3_df = gpd.read_file(region_3_fn)"
   ]
  },
  {
   "cell_type": "code",
   "execution_count": 4,
   "metadata": {},
   "outputs": [],
   "source": [
    "# Determine the area of all the polygons\n",
    "region_3_polygon_areas = glims_region_3_df['geometry'].to_crs({'init': crs_codes['region3']}).area/10**6"
   ]
  },
  {
   "cell_type": "code",
   "execution_count": 5,
   "metadata": {},
   "outputs": [],
   "source": [
    "# Add the areas to the dataframe\n",
    "glims_region_3_df = glims_region_3_df.assign(area=region_3_polygon_areas)"
   ]
  },
  {
   "cell_type": "code",
   "execution_count": 6,
   "metadata": {},
   "outputs": [],
   "source": [
    "# Determine the 10 largest ice caps\n",
    "r3_ten_largest_df = glims_region_3_df[['id', 'area']].nlargest(10, 'area')"
   ]
  },
  {
   "cell_type": "code",
   "execution_count": 7,
   "metadata": {},
   "outputs": [
    {
     "data": {
      "text/html": [
       "<div>\n",
       "<style scoped>\n",
       "    .dataframe tbody tr th:only-of-type {\n",
       "        vertical-align: middle;\n",
       "    }\n",
       "\n",
       "    .dataframe tbody tr th {\n",
       "        vertical-align: top;\n",
       "    }\n",
       "\n",
       "    .dataframe thead th {\n",
       "        text-align: right;\n",
       "    }\n",
       "</style>\n",
       "<table border=\"1\" class=\"dataframe\">\n",
       "  <thead>\n",
       "    <tr style=\"text-align: right;\">\n",
       "      <th></th>\n",
       "      <th>id</th>\n",
       "      <th>area</th>\n",
       "    </tr>\n",
       "  </thead>\n",
       "  <tbody>\n",
       "    <tr>\n",
       "      <td>13</td>\n",
       "      <td>13</td>\n",
       "      <td>21159.547290</td>\n",
       "    </tr>\n",
       "    <tr>\n",
       "      <td>9</td>\n",
       "      <td>9</td>\n",
       "      <td>19311.322286</td>\n",
       "    </tr>\n",
       "    <tr>\n",
       "      <td>15</td>\n",
       "      <td>15</td>\n",
       "      <td>18917.749968</td>\n",
       "    </tr>\n",
       "    <tr>\n",
       "      <td>1</td>\n",
       "      <td>1</td>\n",
       "      <td>13655.168957</td>\n",
       "    </tr>\n",
       "    <tr>\n",
       "      <td>8</td>\n",
       "      <td>8</td>\n",
       "      <td>8142.302043</td>\n",
       "    </tr>\n",
       "    <tr>\n",
       "      <td>2</td>\n",
       "      <td>2</td>\n",
       "      <td>5296.297354</td>\n",
       "    </tr>\n",
       "    <tr>\n",
       "      <td>937</td>\n",
       "      <td>937</td>\n",
       "      <td>2824.569443</td>\n",
       "    </tr>\n",
       "    <tr>\n",
       "      <td>444</td>\n",
       "      <td>444</td>\n",
       "      <td>2628.430841</td>\n",
       "    </tr>\n",
       "    <tr>\n",
       "      <td>7</td>\n",
       "      <td>7</td>\n",
       "      <td>1871.517710</td>\n",
       "    </tr>\n",
       "    <tr>\n",
       "      <td>1690</td>\n",
       "      <td>1690</td>\n",
       "      <td>1769.351275</td>\n",
       "    </tr>\n",
       "  </tbody>\n",
       "</table>\n",
       "</div>"
      ],
      "text/plain": [
       "        id          area\n",
       "13      13  21159.547290\n",
       "9        9  19311.322286\n",
       "15      15  18917.749968\n",
       "1        1  13655.168957\n",
       "8        8   8142.302043\n",
       "2        2   5296.297354\n",
       "937    937   2824.569443\n",
       "444    444   2628.430841\n",
       "7        7   1871.517710\n",
       "1690  1690   1769.351275"
      ]
     },
     "execution_count": 7,
     "metadata": {},
     "output_type": "execute_result"
    }
   ],
   "source": [
    "# Print 10 largest and their size in km^2\n",
    "r3_ten_largest_df"
   ]
  },
  {
   "cell_type": "markdown",
   "metadata": {},
   "source": [
    "# Region 4 - Arctic Canada - South"
   ]
  },
  {
   "cell_type": "code",
   "execution_count": 8,
   "metadata": {},
   "outputs": [],
   "source": [
    "# Open the region 4 exploded file\n",
    "region_4_fn = \"data/glims/processed/ice-caps/exploded/exploded_4.shp\"\n",
    "glims_region_4_df = gpd.read_file(region_4_fn)"
   ]
  },
  {
   "cell_type": "code",
   "execution_count": 9,
   "metadata": {},
   "outputs": [],
   "source": [
    "# Determine the area of all the polygons\n",
    "region_4_polygon_areas = glims_region_4_df['geometry'].to_crs({'init': crs_codes['region4']}).area/10**6"
   ]
  },
  {
   "cell_type": "code",
   "execution_count": 10,
   "metadata": {},
   "outputs": [],
   "source": [
    "# Add the areas to the dataframe\n",
    "glims_region_4_df = glims_region_4_df.assign(area=region_4_polygon_areas)"
   ]
  },
  {
   "cell_type": "code",
   "execution_count": 11,
   "metadata": {},
   "outputs": [],
   "source": [
    "# Determine the 10 largest ice caps\n",
    "r4_ten_largest_df = glims_region_4_df[['id', 'area']].nlargest(10, 'area')"
   ]
  },
  {
   "cell_type": "code",
   "execution_count": 12,
   "metadata": {},
   "outputs": [
    {
     "data": {
      "text/html": [
       "<div>\n",
       "<style scoped>\n",
       "    .dataframe tbody tr th:only-of-type {\n",
       "        vertical-align: middle;\n",
       "    }\n",
       "\n",
       "    .dataframe tbody tr th {\n",
       "        vertical-align: top;\n",
       "    }\n",
       "\n",
       "    .dataframe thead th {\n",
       "        text-align: right;\n",
       "    }\n",
       "</style>\n",
       "<table border=\"1\" class=\"dataframe\">\n",
       "  <thead>\n",
       "    <tr style=\"text-align: right;\">\n",
       "      <th></th>\n",
       "      <th>id</th>\n",
       "      <th>area</th>\n",
       "    </tr>\n",
       "  </thead>\n",
       "  <tbody>\n",
       "    <tr>\n",
       "      <td>1771</td>\n",
       "      <td>1771</td>\n",
       "      <td>6133.372139</td>\n",
       "    </tr>\n",
       "    <tr>\n",
       "      <td>3382</td>\n",
       "      <td>3382</td>\n",
       "      <td>5570.586780</td>\n",
       "    </tr>\n",
       "    <tr>\n",
       "      <td>3251</td>\n",
       "      <td>3251</td>\n",
       "      <td>4556.131138</td>\n",
       "    </tr>\n",
       "    <tr>\n",
       "      <td>3344</td>\n",
       "      <td>3344</td>\n",
       "      <td>3059.690552</td>\n",
       "    </tr>\n",
       "    <tr>\n",
       "      <td>1795</td>\n",
       "      <td>1795</td>\n",
       "      <td>1532.268244</td>\n",
       "    </tr>\n",
       "    <tr>\n",
       "      <td>1915</td>\n",
       "      <td>1915</td>\n",
       "      <td>1070.328156</td>\n",
       "    </tr>\n",
       "    <tr>\n",
       "      <td>3487</td>\n",
       "      <td>3487</td>\n",
       "      <td>837.697915</td>\n",
       "    </tr>\n",
       "    <tr>\n",
       "      <td>3346</td>\n",
       "      <td>3346</td>\n",
       "      <td>814.051593</td>\n",
       "    </tr>\n",
       "    <tr>\n",
       "      <td>1904</td>\n",
       "      <td>1904</td>\n",
       "      <td>648.613332</td>\n",
       "    </tr>\n",
       "    <tr>\n",
       "      <td>3343</td>\n",
       "      <td>3343</td>\n",
       "      <td>552.572123</td>\n",
       "    </tr>\n",
       "  </tbody>\n",
       "</table>\n",
       "</div>"
      ],
      "text/plain": [
       "        id         area\n",
       "1771  1771  6133.372139\n",
       "3382  3382  5570.586780\n",
       "3251  3251  4556.131138\n",
       "3344  3344  3059.690552\n",
       "1795  1795  1532.268244\n",
       "1915  1915  1070.328156\n",
       "3487  3487   837.697915\n",
       "3346  3346   814.051593\n",
       "1904  1904   648.613332\n",
       "3343  3343   552.572123"
      ]
     },
     "execution_count": 12,
     "metadata": {},
     "output_type": "execute_result"
    }
   ],
   "source": [
    "# Print 10 largest and their size in km^2\n",
    "r4_ten_largest_df"
   ]
  },
  {
   "cell_type": "markdown",
   "metadata": {},
   "source": [
    "# Region 5 - Greenland"
   ]
  },
  {
   "cell_type": "code",
   "execution_count": 29,
   "metadata": {},
   "outputs": [],
   "source": [
    "# Open the region 5 exploded file\n",
    "region_5_fn = \"data/glims/processed/ice-caps/exploded/exploded_5.shp\"\n",
    "glims_region_5_df = gpd.read_file(region_5_fn)"
   ]
  },
  {
   "cell_type": "code",
   "execution_count": 30,
   "metadata": {},
   "outputs": [],
   "source": [
    "# Determine the area of all the polygons\n",
    "region_5_polygon_areas = glims_region_5_df['geometry'].to_crs({'init': crs_codes['region5']}).area/10**6"
   ]
  },
  {
   "cell_type": "code",
   "execution_count": 31,
   "metadata": {},
   "outputs": [],
   "source": [
    "# Add the areas to the dataframe\n",
    "glims_region_5_df = glims_region_5_df.assign(area=region_5_polygon_areas)"
   ]
  },
  {
   "cell_type": "code",
   "execution_count": 32,
   "metadata": {},
   "outputs": [],
   "source": [
    "# Determine the 10 largest ice caps\n",
    "r5_ten_largest_df = glims_region_5_df[['id', 'area']].nlargest(10, 'area')"
   ]
  },
  {
   "cell_type": "code",
   "execution_count": 33,
   "metadata": {},
   "outputs": [
    {
     "data": {
      "text/html": [
       "<div>\n",
       "<style scoped>\n",
       "    .dataframe tbody tr th:only-of-type {\n",
       "        vertical-align: middle;\n",
       "    }\n",
       "\n",
       "    .dataframe tbody tr th {\n",
       "        vertical-align: top;\n",
       "    }\n",
       "\n",
       "    .dataframe thead th {\n",
       "        text-align: right;\n",
       "    }\n",
       "</style>\n",
       "<table border=\"1\" class=\"dataframe\">\n",
       "  <thead>\n",
       "    <tr style=\"text-align: right;\">\n",
       "      <th></th>\n",
       "      <th>id</th>\n",
       "      <th>area</th>\n",
       "    </tr>\n",
       "  </thead>\n",
       "  <tbody>\n",
       "    <tr>\n",
       "      <td>296</td>\n",
       "      <td>296</td>\n",
       "      <td>56599.685747</td>\n",
       "    </tr>\n",
       "    <tr>\n",
       "      <td>11869</td>\n",
       "      <td>11869</td>\n",
       "      <td>9023.930960</td>\n",
       "    </tr>\n",
       "    <tr>\n",
       "      <td>11805</td>\n",
       "      <td>11805</td>\n",
       "      <td>4116.877839</td>\n",
       "    </tr>\n",
       "    <tr>\n",
       "      <td>12146</td>\n",
       "      <td>12146</td>\n",
       "      <td>3983.283896</td>\n",
       "    </tr>\n",
       "    <tr>\n",
       "      <td>6719</td>\n",
       "      <td>6719</td>\n",
       "      <td>3825.195603</td>\n",
       "    </tr>\n",
       "    <tr>\n",
       "      <td>4962</td>\n",
       "      <td>4962</td>\n",
       "      <td>3258.509003</td>\n",
       "    </tr>\n",
       "    <tr>\n",
       "      <td>10909</td>\n",
       "      <td>10909</td>\n",
       "      <td>3229.220810</td>\n",
       "    </tr>\n",
       "    <tr>\n",
       "      <td>181</td>\n",
       "      <td>181</td>\n",
       "      <td>2778.687209</td>\n",
       "    </tr>\n",
       "    <tr>\n",
       "      <td>4966</td>\n",
       "      <td>4966</td>\n",
       "      <td>2353.984546</td>\n",
       "    </tr>\n",
       "    <tr>\n",
       "      <td>4963</td>\n",
       "      <td>4963</td>\n",
       "      <td>2194.105893</td>\n",
       "    </tr>\n",
       "  </tbody>\n",
       "</table>\n",
       "</div>"
      ],
      "text/plain": [
       "          id          area\n",
       "296      296  56599.685747\n",
       "11869  11869   9023.930960\n",
       "11805  11805   4116.877839\n",
       "12146  12146   3983.283896\n",
       "6719    6719   3825.195603\n",
       "4962    4962   3258.509003\n",
       "10909  10909   3229.220810\n",
       "181      181   2778.687209\n",
       "4966    4966   2353.984546\n",
       "4963    4963   2194.105893"
      ]
     },
     "execution_count": 33,
     "metadata": {},
     "output_type": "execute_result"
    }
   ],
   "source": [
    "# Print 10 largest and their size in km^2\n",
    "r5_ten_largest_df"
   ]
  },
  {
   "cell_type": "markdown",
   "metadata": {},
   "source": [
    "# Region 6 - Iceland"
   ]
  },
  {
   "cell_type": "code",
   "execution_count": 35,
   "metadata": {},
   "outputs": [],
   "source": [
    "# Open the region 6 exploded file\n",
    "region_6_fn = \"data/glims/processed/ice-caps/exploded/exploded_6.shp\"\n",
    "glims_region_6_df = gpd.read_file(region_6_fn)"
   ]
  },
  {
   "cell_type": "code",
   "execution_count": 36,
   "metadata": {},
   "outputs": [],
   "source": [
    "# Determine the area of all the polygons\n",
    "region_6_polygon_areas = glims_region_6_df['geometry'].to_crs({'init': crs_codes['region6']}).area/10**6"
   ]
  },
  {
   "cell_type": "code",
   "execution_count": 37,
   "metadata": {},
   "outputs": [],
   "source": [
    "# Add the areas to the dataframe\n",
    "glims_region_6_df = glims_region_6_df.assign(area=region_6_polygon_areas)"
   ]
  },
  {
   "cell_type": "code",
   "execution_count": 38,
   "metadata": {},
   "outputs": [],
   "source": [
    "# Determine the 10 largest ice caps\n",
    "r6_ten_largest_df = glims_region_6_df[['id', 'area']].nlargest(10, 'area')"
   ]
  },
  {
   "cell_type": "code",
   "execution_count": 39,
   "metadata": {},
   "outputs": [
    {
     "data": {
      "text/html": [
       "<div>\n",
       "<style scoped>\n",
       "    .dataframe tbody tr th:only-of-type {\n",
       "        vertical-align: middle;\n",
       "    }\n",
       "\n",
       "    .dataframe tbody tr th {\n",
       "        vertical-align: top;\n",
       "    }\n",
       "\n",
       "    .dataframe thead th {\n",
       "        text-align: right;\n",
       "    }\n",
       "</style>\n",
       "<table border=\"1\" class=\"dataframe\">\n",
       "  <thead>\n",
       "    <tr style=\"text-align: right;\">\n",
       "      <th></th>\n",
       "      <th>id</th>\n",
       "      <th>area</th>\n",
       "    </tr>\n",
       "  </thead>\n",
       "  <tbody>\n",
       "    <tr>\n",
       "      <td>1</td>\n",
       "      <td>1</td>\n",
       "      <td>8086.675817</td>\n",
       "    </tr>\n",
       "    <tr>\n",
       "      <td>56</td>\n",
       "      <td>56</td>\n",
       "      <td>920.460115</td>\n",
       "    </tr>\n",
       "    <tr>\n",
       "      <td>147</td>\n",
       "      <td>147</td>\n",
       "      <td>889.067509</td>\n",
       "    </tr>\n",
       "    <tr>\n",
       "      <td>14</td>\n",
       "      <td>14</td>\n",
       "      <td>596.839837</td>\n",
       "    </tr>\n",
       "    <tr>\n",
       "      <td>247</td>\n",
       "      <td>247</td>\n",
       "      <td>145.966965</td>\n",
       "    </tr>\n",
       "    <tr>\n",
       "      <td>0</td>\n",
       "      <td>0</td>\n",
       "      <td>79.827490</td>\n",
       "    </tr>\n",
       "    <tr>\n",
       "      <td>38</td>\n",
       "      <td>38</td>\n",
       "      <td>38.430999</td>\n",
       "    </tr>\n",
       "    <tr>\n",
       "      <td>27</td>\n",
       "      <td>27</td>\n",
       "      <td>29.510921</td>\n",
       "    </tr>\n",
       "    <tr>\n",
       "      <td>36</td>\n",
       "      <td>36</td>\n",
       "      <td>17.042419</td>\n",
       "    </tr>\n",
       "    <tr>\n",
       "      <td>263</td>\n",
       "      <td>263</td>\n",
       "      <td>11.867219</td>\n",
       "    </tr>\n",
       "  </tbody>\n",
       "</table>\n",
       "</div>"
      ],
      "text/plain": [
       "      id         area\n",
       "1      1  8086.675817\n",
       "56    56   920.460115\n",
       "147  147   889.067509\n",
       "14    14   596.839837\n",
       "247  247   145.966965\n",
       "0      0    79.827490\n",
       "38    38    38.430999\n",
       "27    27    29.510921\n",
       "36    36    17.042419\n",
       "263  263    11.867219"
      ]
     },
     "execution_count": 39,
     "metadata": {},
     "output_type": "execute_result"
    }
   ],
   "source": [
    "# Print 10 largest and their size in km^2\n",
    "r6_ten_largest_df"
   ]
  }
 ],
 "metadata": {
  "kernelspec": {
   "display_name": "Python 3",
   "language": "python",
   "name": "python3"
  },
  "language_info": {
   "codemirror_mode": {
    "name": "ipython",
    "version": 3
   },
   "file_extension": ".py",
   "mimetype": "text/x-python",
   "name": "python",
   "nbconvert_exporter": "python",
   "pygments_lexer": "ipython3",
   "version": "3.7.3"
  }
 },
 "nbformat": 4,
 "nbformat_minor": 2
}
